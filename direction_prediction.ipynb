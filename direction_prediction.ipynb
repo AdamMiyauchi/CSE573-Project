{
 "cells": [
  {
   "cell_type": "code",
   "execution_count": 1,
   "metadata": {},
   "outputs": [],
   "source": [
    "import pandas as pd\n",
    "import numpy as np\n",
    "def warn(*args, **kwargs):\n",
    "    pass\n",
    "import warnings\n",
    "warnings.warn = warn\n",
    "from sklearn.model_selection import TimeSeriesSplit, train_test_split, KFold, cross_validate\n",
    "from sklearn.linear_model import LogisticRegression\n",
    "from sklearn.metrics import classification_report\n",
    "from sklearn.preprocessing import StandardScaler, MinMaxScaler, PowerTransformer\n",
    "import matplotlib.pyplot as plt\n",
    "\n",
    "# Library configuration\n",
    "from IPython.core.interactiveshell import InteractiveShell\n",
    "InteractiveShell.ast_node_interactivity = 'all'\n",
    "# Set output options\n",
    "pd.set_option('display.max_columns', 3000)\n",
    "pd.options.display.max_rows = 999"
   ]
  },
  {
   "cell_type": "code",
   "execution_count": 2,
   "metadata": {},
   "outputs": [
    {
     "data": {
      "text/plain": [
       "(69622, 55)"
      ]
     },
     "execution_count": 2,
     "metadata": {},
     "output_type": "execute_result"
    },
    {
     "name": "stdout",
     "output_type": "stream",
     "text": [
      "AAPL:\n"
     ]
    },
    {
     "data": {
      "text/html": [
       "<div>\n",
       "<style scoped>\n",
       "    .dataframe tbody tr th:only-of-type {\n",
       "        vertical-align: middle;\n",
       "    }\n",
       "\n",
       "    .dataframe tbody tr th {\n",
       "        vertical-align: top;\n",
       "    }\n",
       "\n",
       "    .dataframe thead th {\n",
       "        text-align: right;\n",
       "    }\n",
       "</style>\n",
       "<table border=\"1\" class=\"dataframe\">\n",
       "  <thead>\n",
       "    <tr style=\"text-align: right;\">\n",
       "      <th></th>\n",
       "      <th>uuid</th>\n",
       "      <th>author</th>\n",
       "      <th>url</th>\n",
       "      <th>title</th>\n",
       "      <th>language</th>\n",
       "      <th>text</th>\n",
       "      <th>published</th>\n",
       "      <th>title_aapl</th>\n",
       "      <th>text_aapl</th>\n",
       "      <th>title_amzn</th>\n",
       "      <th>text_amzn</th>\n",
       "      <th>title_posSent</th>\n",
       "      <th>title_neg_sent</th>\n",
       "      <th>title_net_sent</th>\n",
       "      <th>text_pos_sent</th>\n",
       "      <th>text_neg_sent</th>\n",
       "      <th>text_net_sent</th>\n",
       "      <th>entity_pos_sent</th>\n",
       "      <th>entity_neg_sent</th>\n",
       "      <th>entity_net_sent</th>\n",
       "      <th>title_entities</th>\n",
       "      <th>text_entities</th>\n",
       "      <th>prediction_date</th>\n",
       "      <th>open</th>\n",
       "      <th>high</th>\n",
       "      <th>low</th>\n",
       "      <th>close</th>\n",
       "      <th>volume</th>\n",
       "      <th>direction</th>\n",
       "      <th>pct_chng</th>\n",
       "      <th>prevClose_1</th>\n",
       "      <th>prevClose_2</th>\n",
       "      <th>prevClose_3</th>\n",
       "      <th>prevClose_4</th>\n",
       "      <th>prevClose_5</th>\n",
       "      <th>prevClose_6</th>\n",
       "      <th>prevClose_7</th>\n",
       "      <th>prevClose_8</th>\n",
       "      <th>prevClose_9</th>\n",
       "      <th>prevClose_10</th>\n",
       "      <th>prevClose_11</th>\n",
       "      <th>prevClose_12</th>\n",
       "      <th>prevClose_13</th>\n",
       "      <th>prevClose_14</th>\n",
       "      <th>prevClose_15</th>\n",
       "      <th>prevClose_16</th>\n",
       "      <th>prevClose_17</th>\n",
       "      <th>prevClose_18</th>\n",
       "      <th>prevClose_19</th>\n",
       "      <th>prevClose_20</th>\n",
       "      <th>prevClose_21</th>\n",
       "      <th>prevClose_22</th>\n",
       "      <th>prevClose_23</th>\n",
       "      <th>prevClose_24</th>\n",
       "      <th>prevClose_25</th>\n",
       "    </tr>\n",
       "  </thead>\n",
       "  <tbody>\n",
       "    <tr>\n",
       "      <th>0</th>\n",
       "      <td>3f884eef1ee888c2053c8eed3dda913e54a568f9</td>\n",
       "      <td>admin</td>\n",
       "      <td>http://www.wallstreetreporter.com/2018/09/the-...</td>\n",
       "      <td>The evidence is mounting that Apple&amp;apos;s nex...</td>\n",
       "      <td>english</td>\n",
       "      <td>September 2, 2018 admin Trading Ideas Comments...</td>\n",
       "      <td>2018-09-02 12:00:00+00:00</td>\n",
       "      <td>True</td>\n",
       "      <td>True</td>\n",
       "      <td>False</td>\n",
       "      <td>False</td>\n",
       "      <td>0.292428</td>\n",
       "      <td>0.009908</td>\n",
       "      <td>0.697664</td>\n",
       "      <td>0.041162</td>\n",
       "      <td>0.033188</td>\n",
       "      <td>0.925649</td>\n",
       "      <td>0.096885</td>\n",
       "      <td>0.029284</td>\n",
       "      <td>0.873831</td>\n",
       "      <td>[{'entity_group': 'ORG', 'score': 0.86504984, ...</td>\n",
       "      <td>[{'entity_group': 'MISC', 'score': 0.8753462, ...</td>\n",
       "      <td>2018-09-04</td>\n",
       "      <td>227.9</td>\n",
       "      <td>229.17</td>\n",
       "      <td>226.6</td>\n",
       "      <td>228.36</td>\n",
       "      <td>61218</td>\n",
       "      <td>1</td>\n",
       "      <td>0.201436</td>\n",
       "      <td>227.52</td>\n",
       "      <td>225.02</td>\n",
       "      <td>223.22</td>\n",
       "      <td>219.78</td>\n",
       "      <td>217.92</td>\n",
       "      <td>216.17</td>\n",
       "      <td>215.5</td>\n",
       "      <td>215.0</td>\n",
       "      <td>214.27</td>\n",
       "      <td>215.22</td>\n",
       "      <td>217.64</td>\n",
       "      <td>212.77</td>\n",
       "      <td>210.39</td>\n",
       "      <td>209.75</td>\n",
       "      <td>208.92</td>\n",
       "      <td>207.51</td>\n",
       "      <td>208.78</td>\n",
       "      <td>206.92</td>\n",
       "      <td>207.09</td>\n",
       "      <td>208.99</td>\n",
       "      <td>207.98</td>\n",
       "      <td>207.42</td>\n",
       "      <td>201.64</td>\n",
       "      <td>195.64</td>\n",
       "      <td>189.98</td>\n",
       "    </tr>\n",
       "    <tr>\n",
       "      <th>1</th>\n",
       "      <td>4bb3cfd0aaf0ffd7c843695d28a6c7f97c005f0a</td>\n",
       "      <td>Jon Swartz</td>\n",
       "      <td>https://www.barrons.com/articles/regulation-is...</td>\n",
       "      <td>Regulation Is the Risk as Facebook, Twitter, H...</td>\n",
       "      <td>english</td>\n",
       "      <td>Sheryl Sandberg, chief operating officer of Fa...</td>\n",
       "      <td>2018-08-31 18:33:00+00:00</td>\n",
       "      <td>False</td>\n",
       "      <td>True</td>\n",
       "      <td>False</td>\n",
       "      <td>False</td>\n",
       "      <td>0.038350</td>\n",
       "      <td>0.353034</td>\n",
       "      <td>0.608616</td>\n",
       "      <td>0.034434</td>\n",
       "      <td>0.238836</td>\n",
       "      <td>0.726730</td>\n",
       "      <td>0.037567</td>\n",
       "      <td>0.514139</td>\n",
       "      <td>0.448294</td>\n",
       "      <td>[{'entity_group': 'MISC', 'score': 0.934303, '...</td>\n",
       "      <td>[{'entity_group': 'PER', 'score': 0.998726, 'w...</td>\n",
       "      <td>2018-09-04</td>\n",
       "      <td>227.9</td>\n",
       "      <td>229.17</td>\n",
       "      <td>226.6</td>\n",
       "      <td>228.36</td>\n",
       "      <td>61218</td>\n",
       "      <td>1</td>\n",
       "      <td>0.201436</td>\n",
       "      <td>227.52</td>\n",
       "      <td>225.02</td>\n",
       "      <td>223.22</td>\n",
       "      <td>219.78</td>\n",
       "      <td>217.92</td>\n",
       "      <td>216.17</td>\n",
       "      <td>215.5</td>\n",
       "      <td>215.0</td>\n",
       "      <td>214.27</td>\n",
       "      <td>215.22</td>\n",
       "      <td>217.64</td>\n",
       "      <td>212.77</td>\n",
       "      <td>210.39</td>\n",
       "      <td>209.75</td>\n",
       "      <td>208.92</td>\n",
       "      <td>207.51</td>\n",
       "      <td>208.78</td>\n",
       "      <td>206.92</td>\n",
       "      <td>207.09</td>\n",
       "      <td>208.99</td>\n",
       "      <td>207.98</td>\n",
       "      <td>207.42</td>\n",
       "      <td>201.64</td>\n",
       "      <td>195.64</td>\n",
       "      <td>189.98</td>\n",
       "    </tr>\n",
       "    <tr>\n",
       "      <th>2</th>\n",
       "      <td>0568ab64d8949b6aca4db001b1d3362d0721a618</td>\n",
       "      <td>PATRICK SEITZ</td>\n",
       "      <td>https://www.investors.com/news/technology/clic...</td>\n",
       "      <td>Apple Stock Gets Price-Target Hikes Ahead Of N...</td>\n",
       "      <td>english</td>\n",
       "      <td>With Apple stock trading near its all-time hig...</td>\n",
       "      <td>2018-09-04 00:00:00+00:00</td>\n",
       "      <td>True</td>\n",
       "      <td>True</td>\n",
       "      <td>False</td>\n",
       "      <td>False</td>\n",
       "      <td>0.538069</td>\n",
       "      <td>0.373904</td>\n",
       "      <td>0.088027</td>\n",
       "      <td>0.251128</td>\n",
       "      <td>0.019059</td>\n",
       "      <td>0.729814</td>\n",
       "      <td>0.608991</td>\n",
       "      <td>0.071097</td>\n",
       "      <td>0.319912</td>\n",
       "      <td>[{'entity_group': 'ORG', 'score': 0.9655371, '...</td>\n",
       "      <td>[{'entity_group': 'ORG', 'score': 0.7043, 'wor...</td>\n",
       "      <td>2018-09-04</td>\n",
       "      <td>227.9</td>\n",
       "      <td>229.17</td>\n",
       "      <td>226.6</td>\n",
       "      <td>228.36</td>\n",
       "      <td>61218</td>\n",
       "      <td>1</td>\n",
       "      <td>0.201436</td>\n",
       "      <td>227.52</td>\n",
       "      <td>225.02</td>\n",
       "      <td>223.22</td>\n",
       "      <td>219.78</td>\n",
       "      <td>217.92</td>\n",
       "      <td>216.17</td>\n",
       "      <td>215.5</td>\n",
       "      <td>215.0</td>\n",
       "      <td>214.27</td>\n",
       "      <td>215.22</td>\n",
       "      <td>217.64</td>\n",
       "      <td>212.77</td>\n",
       "      <td>210.39</td>\n",
       "      <td>209.75</td>\n",
       "      <td>208.92</td>\n",
       "      <td>207.51</td>\n",
       "      <td>208.78</td>\n",
       "      <td>206.92</td>\n",
       "      <td>207.09</td>\n",
       "      <td>208.99</td>\n",
       "      <td>207.98</td>\n",
       "      <td>207.42</td>\n",
       "      <td>201.64</td>\n",
       "      <td>195.64</td>\n",
       "      <td>189.98</td>\n",
       "    </tr>\n",
       "    <tr>\n",
       "      <th>3</th>\n",
       "      <td>21c864caa4c53bffae9b4674eebe93d99bed9ceb</td>\n",
       "      <td>NaN</td>\n",
       "      <td>https://www.barrons.com/articles/stocks-rise-a...</td>\n",
       "      <td>Stocks Rise, as Trade and Tech Remain Familiar...</td>\n",
       "      <td>english</td>\n",
       "      <td>President Trump was reported to be in favor of...</td>\n",
       "      <td>2018-09-01 02:55:00+00:00</td>\n",
       "      <td>False</td>\n",
       "      <td>True</td>\n",
       "      <td>False</td>\n",
       "      <td>True</td>\n",
       "      <td>0.233226</td>\n",
       "      <td>0.399302</td>\n",
       "      <td>0.367471</td>\n",
       "      <td>0.135174</td>\n",
       "      <td>0.062387</td>\n",
       "      <td>0.802438</td>\n",
       "      <td>0.701790</td>\n",
       "      <td>0.033941</td>\n",
       "      <td>0.264270</td>\n",
       "      <td>[{'entity_group': 'MISC', 'score': 0.480398, '...</td>\n",
       "      <td>[{'entity_group': 'PER', 'score': 0.98648983, ...</td>\n",
       "      <td>2018-09-04</td>\n",
       "      <td>227.9</td>\n",
       "      <td>229.17</td>\n",
       "      <td>226.6</td>\n",
       "      <td>228.36</td>\n",
       "      <td>61218</td>\n",
       "      <td>1</td>\n",
       "      <td>0.201436</td>\n",
       "      <td>227.52</td>\n",
       "      <td>225.02</td>\n",
       "      <td>223.22</td>\n",
       "      <td>219.78</td>\n",
       "      <td>217.92</td>\n",
       "      <td>216.17</td>\n",
       "      <td>215.5</td>\n",
       "      <td>215.0</td>\n",
       "      <td>214.27</td>\n",
       "      <td>215.22</td>\n",
       "      <td>217.64</td>\n",
       "      <td>212.77</td>\n",
       "      <td>210.39</td>\n",
       "      <td>209.75</td>\n",
       "      <td>208.92</td>\n",
       "      <td>207.51</td>\n",
       "      <td>208.78</td>\n",
       "      <td>206.92</td>\n",
       "      <td>207.09</td>\n",
       "      <td>208.99</td>\n",
       "      <td>207.98</td>\n",
       "      <td>207.42</td>\n",
       "      <td>201.64</td>\n",
       "      <td>195.64</td>\n",
       "      <td>189.98</td>\n",
       "    </tr>\n",
       "    <tr>\n",
       "      <th>4</th>\n",
       "      <td>aad9eb49815cbf6f6a85c1167868ef29f5649c5f</td>\n",
       "      <td>Ashraf Eassa, The Motley Fool</td>\n",
       "      <td>https://sg.finance.yahoo.com/news/tim-cook-hel...</td>\n",
       "      <td>How Tim Cook Has Helped Make Apple Shareholder...</td>\n",
       "      <td>english</td>\n",
       "      <td>Tim Cook became Apple 's (NASDAQ: AAPL) CEO on...</td>\n",
       "      <td>2018-09-01 06:05:00+00:00</td>\n",
       "      <td>True</td>\n",
       "      <td>True</td>\n",
       "      <td>False</td>\n",
       "      <td>False</td>\n",
       "      <td>0.214392</td>\n",
       "      <td>0.011442</td>\n",
       "      <td>0.774166</td>\n",
       "      <td>0.522637</td>\n",
       "      <td>0.050985</td>\n",
       "      <td>0.426378</td>\n",
       "      <td>0.343107</td>\n",
       "      <td>0.106315</td>\n",
       "      <td>0.550579</td>\n",
       "      <td>[{'entity_group': 'PER', 'score': 0.99408, 'wo...</td>\n",
       "      <td>[{'entity_group': 'PER', 'score': 0.9985752, '...</td>\n",
       "      <td>2018-09-04</td>\n",
       "      <td>227.9</td>\n",
       "      <td>229.17</td>\n",
       "      <td>226.6</td>\n",
       "      <td>228.36</td>\n",
       "      <td>61218</td>\n",
       "      <td>1</td>\n",
       "      <td>0.201436</td>\n",
       "      <td>227.52</td>\n",
       "      <td>225.02</td>\n",
       "      <td>223.22</td>\n",
       "      <td>219.78</td>\n",
       "      <td>217.92</td>\n",
       "      <td>216.17</td>\n",
       "      <td>215.5</td>\n",
       "      <td>215.0</td>\n",
       "      <td>214.27</td>\n",
       "      <td>215.22</td>\n",
       "      <td>217.64</td>\n",
       "      <td>212.77</td>\n",
       "      <td>210.39</td>\n",
       "      <td>209.75</td>\n",
       "      <td>208.92</td>\n",
       "      <td>207.51</td>\n",
       "      <td>208.78</td>\n",
       "      <td>206.92</td>\n",
       "      <td>207.09</td>\n",
       "      <td>208.99</td>\n",
       "      <td>207.98</td>\n",
       "      <td>207.42</td>\n",
       "      <td>201.64</td>\n",
       "      <td>195.64</td>\n",
       "      <td>189.98</td>\n",
       "    </tr>\n",
       "  </tbody>\n",
       "</table>\n",
       "</div>"
      ],
      "text/plain": [
       "                                       uuid                         author  \\\n",
       "0  3f884eef1ee888c2053c8eed3dda913e54a568f9                          admin   \n",
       "1  4bb3cfd0aaf0ffd7c843695d28a6c7f97c005f0a                     Jon Swartz   \n",
       "2  0568ab64d8949b6aca4db001b1d3362d0721a618                  PATRICK SEITZ   \n",
       "3  21c864caa4c53bffae9b4674eebe93d99bed9ceb                            NaN   \n",
       "4  aad9eb49815cbf6f6a85c1167868ef29f5649c5f  Ashraf Eassa, The Motley Fool   \n",
       "\n",
       "                                                 url  \\\n",
       "0  http://www.wallstreetreporter.com/2018/09/the-...   \n",
       "1  https://www.barrons.com/articles/regulation-is...   \n",
       "2  https://www.investors.com/news/technology/clic...   \n",
       "3  https://www.barrons.com/articles/stocks-rise-a...   \n",
       "4  https://sg.finance.yahoo.com/news/tim-cook-hel...   \n",
       "\n",
       "                                               title language  \\\n",
       "0  The evidence is mounting that Apple&apos;s nex...  english   \n",
       "1  Regulation Is the Risk as Facebook, Twitter, H...  english   \n",
       "2  Apple Stock Gets Price-Target Hikes Ahead Of N...  english   \n",
       "3  Stocks Rise, as Trade and Tech Remain Familiar...  english   \n",
       "4  How Tim Cook Has Helped Make Apple Shareholder...  english   \n",
       "\n",
       "                                                text  \\\n",
       "0  September 2, 2018 admin Trading Ideas Comments...   \n",
       "1  Sheryl Sandberg, chief operating officer of Fa...   \n",
       "2  With Apple stock trading near its all-time hig...   \n",
       "3  President Trump was reported to be in favor of...   \n",
       "4  Tim Cook became Apple 's (NASDAQ: AAPL) CEO on...   \n",
       "\n",
       "                   published  title_aapl  text_aapl  title_amzn  text_amzn  \\\n",
       "0  2018-09-02 12:00:00+00:00        True       True       False      False   \n",
       "1  2018-08-31 18:33:00+00:00       False       True       False      False   \n",
       "2  2018-09-04 00:00:00+00:00        True       True       False      False   \n",
       "3  2018-09-01 02:55:00+00:00       False       True       False       True   \n",
       "4  2018-09-01 06:05:00+00:00        True       True       False      False   \n",
       "\n",
       "   title_posSent  title_neg_sent  title_net_sent  text_pos_sent  \\\n",
       "0       0.292428        0.009908        0.697664       0.041162   \n",
       "1       0.038350        0.353034        0.608616       0.034434   \n",
       "2       0.538069        0.373904        0.088027       0.251128   \n",
       "3       0.233226        0.399302        0.367471       0.135174   \n",
       "4       0.214392        0.011442        0.774166       0.522637   \n",
       "\n",
       "   text_neg_sent  text_net_sent  entity_pos_sent  entity_neg_sent  \\\n",
       "0       0.033188       0.925649         0.096885         0.029284   \n",
       "1       0.238836       0.726730         0.037567         0.514139   \n",
       "2       0.019059       0.729814         0.608991         0.071097   \n",
       "3       0.062387       0.802438         0.701790         0.033941   \n",
       "4       0.050985       0.426378         0.343107         0.106315   \n",
       "\n",
       "   entity_net_sent                                     title_entities  \\\n",
       "0         0.873831  [{'entity_group': 'ORG', 'score': 0.86504984, ...   \n",
       "1         0.448294  [{'entity_group': 'MISC', 'score': 0.934303, '...   \n",
       "2         0.319912  [{'entity_group': 'ORG', 'score': 0.9655371, '...   \n",
       "3         0.264270  [{'entity_group': 'MISC', 'score': 0.480398, '...   \n",
       "4         0.550579  [{'entity_group': 'PER', 'score': 0.99408, 'wo...   \n",
       "\n",
       "                                       text_entities prediction_date   open  \\\n",
       "0  [{'entity_group': 'MISC', 'score': 0.8753462, ...      2018-09-04  227.9   \n",
       "1  [{'entity_group': 'PER', 'score': 0.998726, 'w...      2018-09-04  227.9   \n",
       "2  [{'entity_group': 'ORG', 'score': 0.7043, 'wor...      2018-09-04  227.9   \n",
       "3  [{'entity_group': 'PER', 'score': 0.98648983, ...      2018-09-04  227.9   \n",
       "4  [{'entity_group': 'PER', 'score': 0.9985752, '...      2018-09-04  227.9   \n",
       "\n",
       "     high    low   close  volume  direction  pct_chng  prevClose_1  \\\n",
       "0  229.17  226.6  228.36   61218          1  0.201436       227.52   \n",
       "1  229.17  226.6  228.36   61218          1  0.201436       227.52   \n",
       "2  229.17  226.6  228.36   61218          1  0.201436       227.52   \n",
       "3  229.17  226.6  228.36   61218          1  0.201436       227.52   \n",
       "4  229.17  226.6  228.36   61218          1  0.201436       227.52   \n",
       "\n",
       "   prevClose_2  prevClose_3  prevClose_4  prevClose_5  prevClose_6  \\\n",
       "0       225.02       223.22       219.78       217.92       216.17   \n",
       "1       225.02       223.22       219.78       217.92       216.17   \n",
       "2       225.02       223.22       219.78       217.92       216.17   \n",
       "3       225.02       223.22       219.78       217.92       216.17   \n",
       "4       225.02       223.22       219.78       217.92       216.17   \n",
       "\n",
       "   prevClose_7  prevClose_8  prevClose_9  prevClose_10  prevClose_11  \\\n",
       "0        215.5        215.0       214.27        215.22        217.64   \n",
       "1        215.5        215.0       214.27        215.22        217.64   \n",
       "2        215.5        215.0       214.27        215.22        217.64   \n",
       "3        215.5        215.0       214.27        215.22        217.64   \n",
       "4        215.5        215.0       214.27        215.22        217.64   \n",
       "\n",
       "   prevClose_12  prevClose_13  prevClose_14  prevClose_15  prevClose_16  \\\n",
       "0        212.77        210.39        209.75        208.92        207.51   \n",
       "1        212.77        210.39        209.75        208.92        207.51   \n",
       "2        212.77        210.39        209.75        208.92        207.51   \n",
       "3        212.77        210.39        209.75        208.92        207.51   \n",
       "4        212.77        210.39        209.75        208.92        207.51   \n",
       "\n",
       "   prevClose_17  prevClose_18  prevClose_19  prevClose_20  prevClose_21  \\\n",
       "0        208.78        206.92        207.09        208.99        207.98   \n",
       "1        208.78        206.92        207.09        208.99        207.98   \n",
       "2        208.78        206.92        207.09        208.99        207.98   \n",
       "3        208.78        206.92        207.09        208.99        207.98   \n",
       "4        208.78        206.92        207.09        208.99        207.98   \n",
       "\n",
       "   prevClose_22  prevClose_23  prevClose_24  prevClose_25  \n",
       "0        207.42        201.64        195.64        189.98  \n",
       "1        207.42        201.64        195.64        189.98  \n",
       "2        207.42        201.64        195.64        189.98  \n",
       "3        207.42        201.64        195.64        189.98  \n",
       "4        207.42        201.64        195.64        189.98  "
      ]
     },
     "execution_count": 2,
     "metadata": {},
     "output_type": "execute_result"
    },
    {
     "data": {
      "text/plain": [
       "(19079, 55)"
      ]
     },
     "execution_count": 2,
     "metadata": {},
     "output_type": "execute_result"
    },
    {
     "name": "stdout",
     "output_type": "stream",
     "text": [
      "AMZN:\n"
     ]
    },
    {
     "data": {
      "text/html": [
       "<div>\n",
       "<style scoped>\n",
       "    .dataframe tbody tr th:only-of-type {\n",
       "        vertical-align: middle;\n",
       "    }\n",
       "\n",
       "    .dataframe tbody tr th {\n",
       "        vertical-align: top;\n",
       "    }\n",
       "\n",
       "    .dataframe thead th {\n",
       "        text-align: right;\n",
       "    }\n",
       "</style>\n",
       "<table border=\"1\" class=\"dataframe\">\n",
       "  <thead>\n",
       "    <tr style=\"text-align: right;\">\n",
       "      <th></th>\n",
       "      <th>uuid</th>\n",
       "      <th>author</th>\n",
       "      <th>url</th>\n",
       "      <th>title</th>\n",
       "      <th>language</th>\n",
       "      <th>text</th>\n",
       "      <th>published</th>\n",
       "      <th>title_aapl</th>\n",
       "      <th>text_aapl</th>\n",
       "      <th>title_amzn</th>\n",
       "      <th>text_amzn</th>\n",
       "      <th>title_posSent</th>\n",
       "      <th>title_neg_sent</th>\n",
       "      <th>title_net_sent</th>\n",
       "      <th>text_pos_sent</th>\n",
       "      <th>text_neg_sent</th>\n",
       "      <th>text_net_sent</th>\n",
       "      <th>entity_pos_sent</th>\n",
       "      <th>entity_neg_sent</th>\n",
       "      <th>entity_net_sent</th>\n",
       "      <th>title_entities</th>\n",
       "      <th>text_entities</th>\n",
       "      <th>prediction_date</th>\n",
       "      <th>open</th>\n",
       "      <th>high</th>\n",
       "      <th>low</th>\n",
       "      <th>close</th>\n",
       "      <th>volume</th>\n",
       "      <th>direction</th>\n",
       "      <th>pct_chng</th>\n",
       "      <th>prevClose_1</th>\n",
       "      <th>prevClose_2</th>\n",
       "      <th>prevClose_3</th>\n",
       "      <th>prevClose_4</th>\n",
       "      <th>prevClose_5</th>\n",
       "      <th>prevClose_6</th>\n",
       "      <th>prevClose_7</th>\n",
       "      <th>prevClose_8</th>\n",
       "      <th>prevClose_9</th>\n",
       "      <th>prevClose_10</th>\n",
       "      <th>prevClose_11</th>\n",
       "      <th>prevClose_12</th>\n",
       "      <th>prevClose_13</th>\n",
       "      <th>prevClose_14</th>\n",
       "      <th>prevClose_15</th>\n",
       "      <th>prevClose_16</th>\n",
       "      <th>prevClose_17</th>\n",
       "      <th>prevClose_18</th>\n",
       "      <th>prevClose_19</th>\n",
       "      <th>prevClose_20</th>\n",
       "      <th>prevClose_21</th>\n",
       "      <th>prevClose_22</th>\n",
       "      <th>prevClose_23</th>\n",
       "      <th>prevClose_24</th>\n",
       "      <th>prevClose_25</th>\n",
       "    </tr>\n",
       "  </thead>\n",
       "  <tbody>\n",
       "    <tr>\n",
       "      <th>0</th>\n",
       "      <td>3b7327f6858be72e780b02b863d941fe7ce81eab</td>\n",
       "      <td>NaN</td>\n",
       "      <td>https://money.cnn.com/2018/09/05/investing/pre...</td>\n",
       "      <td>6 things to know before the opening bell</td>\n",
       "      <td>english</td>\n",
       "      <td>Click chart for more in-depth data. 1. Big Tec...</td>\n",
       "      <td>2018-09-05 05:12:00+00:00</td>\n",
       "      <td>False</td>\n",
       "      <td>True</td>\n",
       "      <td>False</td>\n",
       "      <td>True</td>\n",
       "      <td>0.060998</td>\n",
       "      <td>0.040879</td>\n",
       "      <td>0.898123</td>\n",
       "      <td>0.029282</td>\n",
       "      <td>0.568029</td>\n",
       "      <td>0.402689</td>\n",
       "      <td>0.282342</td>\n",
       "      <td>0.013111</td>\n",
       "      <td>0.704547</td>\n",
       "      <td>[{'entity_group': 'MISC', 'score': 0.8700097, ...</td>\n",
       "      <td>[{'entity_group': 'MISC', 'score': 0.96541995,...</td>\n",
       "      <td>2018-09-05</td>\n",
       "      <td>2035.98</td>\n",
       "      <td>2040.61</td>\n",
       "      <td>1989.76</td>\n",
       "      <td>1997.0</td>\n",
       "      <td>41171</td>\n",
       "      <td>-1</td>\n",
       "      <td>-1.951928</td>\n",
       "      <td>2038.05</td>\n",
       "      <td>2013.56</td>\n",
       "      <td>2003.01</td>\n",
       "      <td>1998.5</td>\n",
       "      <td>1931.83</td>\n",
       "      <td>1928.83</td>\n",
       "      <td>1905.38</td>\n",
       "      <td>1901.75</td>\n",
       "      <td>1903.5</td>\n",
       "      <td>1870.49</td>\n",
       "      <td>1875.73</td>\n",
       "      <td>1881.13</td>\n",
       "      <td>1887.35</td>\n",
       "      <td>1883.33</td>\n",
       "      <td>1919.65</td>\n",
       "      <td>1896.99</td>\n",
       "      <td>1885.99</td>\n",
       "      <td>1896.0</td>\n",
       "      <td>1882.98</td>\n",
       "      <td>1861.48</td>\n",
       "      <td>1847.11</td>\n",
       "      <td>1822.94</td>\n",
       "      <td>1833.98</td>\n",
       "      <td>1796.14</td>\n",
       "      <td>1787.38</td>\n",
       "    </tr>\n",
       "    <tr>\n",
       "      <th>1</th>\n",
       "      <td>8a3015a274df99d231fcf7ff3eb38e2660a984ff</td>\n",
       "      <td>Michael Wiggins De Oliveira</td>\n",
       "      <td>https://seekingalpha.com/article/4203857-netfl...</td>\n",
       "      <td>Netflix And The Competition - Netflix, Inc. (N...</td>\n",
       "      <td>english</td>\n",
       "      <td>Investment Thesis Netflix ( NFLX ) is a remark...</td>\n",
       "      <td>2018-09-04 15:00:00+00:00</td>\n",
       "      <td>False</td>\n",
       "      <td>True</td>\n",
       "      <td>False</td>\n",
       "      <td>True</td>\n",
       "      <td>0.031161</td>\n",
       "      <td>0.021816</td>\n",
       "      <td>0.947023</td>\n",
       "      <td>0.072877</td>\n",
       "      <td>0.028435</td>\n",
       "      <td>0.898688</td>\n",
       "      <td>0.325566</td>\n",
       "      <td>0.064595</td>\n",
       "      <td>0.609839</td>\n",
       "      <td>[{'entity_group': 'ORG', 'score': 0.99179953, ...</td>\n",
       "      <td>[{'entity_group': 'MISC', 'score': 0.988969, '...</td>\n",
       "      <td>2018-09-05</td>\n",
       "      <td>2035.98</td>\n",
       "      <td>2040.61</td>\n",
       "      <td>1989.76</td>\n",
       "      <td>1997.0</td>\n",
       "      <td>41171</td>\n",
       "      <td>-1</td>\n",
       "      <td>-1.951928</td>\n",
       "      <td>2038.05</td>\n",
       "      <td>2013.56</td>\n",
       "      <td>2003.01</td>\n",
       "      <td>1998.5</td>\n",
       "      <td>1931.83</td>\n",
       "      <td>1928.83</td>\n",
       "      <td>1905.38</td>\n",
       "      <td>1901.75</td>\n",
       "      <td>1903.5</td>\n",
       "      <td>1870.49</td>\n",
       "      <td>1875.73</td>\n",
       "      <td>1881.13</td>\n",
       "      <td>1887.35</td>\n",
       "      <td>1883.33</td>\n",
       "      <td>1919.65</td>\n",
       "      <td>1896.99</td>\n",
       "      <td>1885.99</td>\n",
       "      <td>1896.0</td>\n",
       "      <td>1882.98</td>\n",
       "      <td>1861.48</td>\n",
       "      <td>1847.11</td>\n",
       "      <td>1822.94</td>\n",
       "      <td>1833.98</td>\n",
       "      <td>1796.14</td>\n",
       "      <td>1787.38</td>\n",
       "    </tr>\n",
       "    <tr>\n",
       "      <th>2</th>\n",
       "      <td>df5883d078ebfbe015e1e717002e4b889647dbee</td>\n",
       "      <td>Larry Ramer</td>\n",
       "      <td>https://investorplace.com/2018/09/pandora-stoc...</td>\n",
       "      <td>Pandora Stock Gets a Boost — Buy Now</td>\n",
       "      <td>english</td>\n",
       "      <td>MannKind Surges More Than 50% &gt;&gt;&gt; READ MORE\\nB...</td>\n",
       "      <td>2018-09-04 16:22:00+00:00</td>\n",
       "      <td>False</td>\n",
       "      <td>True</td>\n",
       "      <td>False</td>\n",
       "      <td>True</td>\n",
       "      <td>0.602235</td>\n",
       "      <td>0.020212</td>\n",
       "      <td>0.377553</td>\n",
       "      <td>0.152033</td>\n",
       "      <td>0.019961</td>\n",
       "      <td>0.828006</td>\n",
       "      <td>0.464281</td>\n",
       "      <td>0.018634</td>\n",
       "      <td>0.517085</td>\n",
       "      <td>[{'entity_group': 'MISC', 'score': 0.9902256, ...</td>\n",
       "      <td>[{'entity_group': 'MISC', 'score': 0.9231871, ...</td>\n",
       "      <td>2018-09-05</td>\n",
       "      <td>2035.98</td>\n",
       "      <td>2040.61</td>\n",
       "      <td>1989.76</td>\n",
       "      <td>1997.0</td>\n",
       "      <td>41171</td>\n",
       "      <td>-1</td>\n",
       "      <td>-1.951928</td>\n",
       "      <td>2038.05</td>\n",
       "      <td>2013.56</td>\n",
       "      <td>2003.01</td>\n",
       "      <td>1998.5</td>\n",
       "      <td>1931.83</td>\n",
       "      <td>1928.83</td>\n",
       "      <td>1905.38</td>\n",
       "      <td>1901.75</td>\n",
       "      <td>1903.5</td>\n",
       "      <td>1870.49</td>\n",
       "      <td>1875.73</td>\n",
       "      <td>1881.13</td>\n",
       "      <td>1887.35</td>\n",
       "      <td>1883.33</td>\n",
       "      <td>1919.65</td>\n",
       "      <td>1896.99</td>\n",
       "      <td>1885.99</td>\n",
       "      <td>1896.0</td>\n",
       "      <td>1882.98</td>\n",
       "      <td>1861.48</td>\n",
       "      <td>1847.11</td>\n",
       "      <td>1822.94</td>\n",
       "      <td>1833.98</td>\n",
       "      <td>1796.14</td>\n",
       "      <td>1787.38</td>\n",
       "    </tr>\n",
       "    <tr>\n",
       "      <th>3</th>\n",
       "      <td>861c19bff56d09f97b6798f5fbe374061e8aa55b</td>\n",
       "      <td>morningstar.com</td>\n",
       "      <td>http://news.morningstar.com/all/dow-jones/us-m...</td>\n",
       "      <td>MARKET SNAPSHOT: Tech Tumble Weighs On Stocks;...</td>\n",
       "      <td>english</td>\n",
       "      <td>By Mark DeCambre, MarketWatch , Ryan Vlastelic...</td>\n",
       "      <td>2018-09-05 00:00:00+00:00</td>\n",
       "      <td>False</td>\n",
       "      <td>True</td>\n",
       "      <td>False</td>\n",
       "      <td>True</td>\n",
       "      <td>0.149068</td>\n",
       "      <td>0.775664</td>\n",
       "      <td>0.075268</td>\n",
       "      <td>0.011017</td>\n",
       "      <td>0.919701</td>\n",
       "      <td>0.069282</td>\n",
       "      <td>0.025404</td>\n",
       "      <td>0.937170</td>\n",
       "      <td>0.037426</td>\n",
       "      <td>[{'entity_group': 'MISC', 'score': 0.98928815,...</td>\n",
       "      <td>[{'entity_group': 'PER', 'score': 0.99841535, ...</td>\n",
       "      <td>2018-09-05</td>\n",
       "      <td>2035.98</td>\n",
       "      <td>2040.61</td>\n",
       "      <td>1989.76</td>\n",
       "      <td>1997.0</td>\n",
       "      <td>41171</td>\n",
       "      <td>-1</td>\n",
       "      <td>-1.951928</td>\n",
       "      <td>2038.05</td>\n",
       "      <td>2013.56</td>\n",
       "      <td>2003.01</td>\n",
       "      <td>1998.5</td>\n",
       "      <td>1931.83</td>\n",
       "      <td>1928.83</td>\n",
       "      <td>1905.38</td>\n",
       "      <td>1901.75</td>\n",
       "      <td>1903.5</td>\n",
       "      <td>1870.49</td>\n",
       "      <td>1875.73</td>\n",
       "      <td>1881.13</td>\n",
       "      <td>1887.35</td>\n",
       "      <td>1883.33</td>\n",
       "      <td>1919.65</td>\n",
       "      <td>1896.99</td>\n",
       "      <td>1885.99</td>\n",
       "      <td>1896.0</td>\n",
       "      <td>1882.98</td>\n",
       "      <td>1861.48</td>\n",
       "      <td>1847.11</td>\n",
       "      <td>1822.94</td>\n",
       "      <td>1833.98</td>\n",
       "      <td>1796.14</td>\n",
       "      <td>1787.38</td>\n",
       "    </tr>\n",
       "    <tr>\n",
       "      <th>4</th>\n",
       "      <td>cb960bebc2bf78d327026127c9fe919a4159e80d</td>\n",
       "      <td>morningstar.com</td>\n",
       "      <td>http://news.morningstar.com/all/benzinga/BenzB...</td>\n",
       "      <td>New Month, Same Old Story: Trade Fears Persist...</td>\n",
       "      <td>english</td>\n",
       "      <td>It may be a new month, but the same trade conc...</td>\n",
       "      <td>2018-09-05 00:00:00+00:00</td>\n",
       "      <td>False</td>\n",
       "      <td>True</td>\n",
       "      <td>False</td>\n",
       "      <td>True</td>\n",
       "      <td>0.012341</td>\n",
       "      <td>0.952132</td>\n",
       "      <td>0.035526</td>\n",
       "      <td>0.118360</td>\n",
       "      <td>0.425631</td>\n",
       "      <td>0.456009</td>\n",
       "      <td>0.064799</td>\n",
       "      <td>0.573251</td>\n",
       "      <td>0.361949</td>\n",
       "      <td>[{'entity_group': 'MISC', 'score': 0.9838889, ...</td>\n",
       "      <td>[{'entity_group': 'ORG', 'score': 0.6127569, '...</td>\n",
       "      <td>2018-09-05</td>\n",
       "      <td>2035.98</td>\n",
       "      <td>2040.61</td>\n",
       "      <td>1989.76</td>\n",
       "      <td>1997.0</td>\n",
       "      <td>41171</td>\n",
       "      <td>-1</td>\n",
       "      <td>-1.951928</td>\n",
       "      <td>2038.05</td>\n",
       "      <td>2013.56</td>\n",
       "      <td>2003.01</td>\n",
       "      <td>1998.5</td>\n",
       "      <td>1931.83</td>\n",
       "      <td>1928.83</td>\n",
       "      <td>1905.38</td>\n",
       "      <td>1901.75</td>\n",
       "      <td>1903.5</td>\n",
       "      <td>1870.49</td>\n",
       "      <td>1875.73</td>\n",
       "      <td>1881.13</td>\n",
       "      <td>1887.35</td>\n",
       "      <td>1883.33</td>\n",
       "      <td>1919.65</td>\n",
       "      <td>1896.99</td>\n",
       "      <td>1885.99</td>\n",
       "      <td>1896.0</td>\n",
       "      <td>1882.98</td>\n",
       "      <td>1861.48</td>\n",
       "      <td>1847.11</td>\n",
       "      <td>1822.94</td>\n",
       "      <td>1833.98</td>\n",
       "      <td>1796.14</td>\n",
       "      <td>1787.38</td>\n",
       "    </tr>\n",
       "  </tbody>\n",
       "</table>\n",
       "</div>"
      ],
      "text/plain": [
       "                                       uuid                       author  \\\n",
       "0  3b7327f6858be72e780b02b863d941fe7ce81eab                          NaN   \n",
       "1  8a3015a274df99d231fcf7ff3eb38e2660a984ff  Michael Wiggins De Oliveira   \n",
       "2  df5883d078ebfbe015e1e717002e4b889647dbee                  Larry Ramer   \n",
       "3  861c19bff56d09f97b6798f5fbe374061e8aa55b              morningstar.com   \n",
       "4  cb960bebc2bf78d327026127c9fe919a4159e80d              morningstar.com   \n",
       "\n",
       "                                                 url  \\\n",
       "0  https://money.cnn.com/2018/09/05/investing/pre...   \n",
       "1  https://seekingalpha.com/article/4203857-netfl...   \n",
       "2  https://investorplace.com/2018/09/pandora-stoc...   \n",
       "3  http://news.morningstar.com/all/dow-jones/us-m...   \n",
       "4  http://news.morningstar.com/all/benzinga/BenzB...   \n",
       "\n",
       "                                               title language  \\\n",
       "0           6 things to know before the opening bell  english   \n",
       "1  Netflix And The Competition - Netflix, Inc. (N...  english   \n",
       "2               Pandora Stock Gets a Boost — Buy Now  english   \n",
       "3  MARKET SNAPSHOT: Tech Tumble Weighs On Stocks;...  english   \n",
       "4  New Month, Same Old Story: Trade Fears Persist...  english   \n",
       "\n",
       "                                                text  \\\n",
       "0  Click chart for more in-depth data. 1. Big Tec...   \n",
       "1  Investment Thesis Netflix ( NFLX ) is a remark...   \n",
       "2  MannKind Surges More Than 50% >>> READ MORE\\nB...   \n",
       "3  By Mark DeCambre, MarketWatch , Ryan Vlastelic...   \n",
       "4  It may be a new month, but the same trade conc...   \n",
       "\n",
       "                   published  title_aapl  text_aapl  title_amzn  text_amzn  \\\n",
       "0  2018-09-05 05:12:00+00:00       False       True       False       True   \n",
       "1  2018-09-04 15:00:00+00:00       False       True       False       True   \n",
       "2  2018-09-04 16:22:00+00:00       False       True       False       True   \n",
       "3  2018-09-05 00:00:00+00:00       False       True       False       True   \n",
       "4  2018-09-05 00:00:00+00:00       False       True       False       True   \n",
       "\n",
       "   title_posSent  title_neg_sent  title_net_sent  text_pos_sent  \\\n",
       "0       0.060998        0.040879        0.898123       0.029282   \n",
       "1       0.031161        0.021816        0.947023       0.072877   \n",
       "2       0.602235        0.020212        0.377553       0.152033   \n",
       "3       0.149068        0.775664        0.075268       0.011017   \n",
       "4       0.012341        0.952132        0.035526       0.118360   \n",
       "\n",
       "   text_neg_sent  text_net_sent  entity_pos_sent  entity_neg_sent  \\\n",
       "0       0.568029       0.402689         0.282342         0.013111   \n",
       "1       0.028435       0.898688         0.325566         0.064595   \n",
       "2       0.019961       0.828006         0.464281         0.018634   \n",
       "3       0.919701       0.069282         0.025404         0.937170   \n",
       "4       0.425631       0.456009         0.064799         0.573251   \n",
       "\n",
       "   entity_net_sent                                     title_entities  \\\n",
       "0         0.704547  [{'entity_group': 'MISC', 'score': 0.8700097, ...   \n",
       "1         0.609839  [{'entity_group': 'ORG', 'score': 0.99179953, ...   \n",
       "2         0.517085  [{'entity_group': 'MISC', 'score': 0.9902256, ...   \n",
       "3         0.037426  [{'entity_group': 'MISC', 'score': 0.98928815,...   \n",
       "4         0.361949  [{'entity_group': 'MISC', 'score': 0.9838889, ...   \n",
       "\n",
       "                                       text_entities prediction_date     open  \\\n",
       "0  [{'entity_group': 'MISC', 'score': 0.96541995,...      2018-09-05  2035.98   \n",
       "1  [{'entity_group': 'MISC', 'score': 0.988969, '...      2018-09-05  2035.98   \n",
       "2  [{'entity_group': 'MISC', 'score': 0.9231871, ...      2018-09-05  2035.98   \n",
       "3  [{'entity_group': 'PER', 'score': 0.99841535, ...      2018-09-05  2035.98   \n",
       "4  [{'entity_group': 'ORG', 'score': 0.6127569, '...      2018-09-05  2035.98   \n",
       "\n",
       "      high      low   close  volume  direction  pct_chng  prevClose_1  \\\n",
       "0  2040.61  1989.76  1997.0   41171         -1 -1.951928      2038.05   \n",
       "1  2040.61  1989.76  1997.0   41171         -1 -1.951928      2038.05   \n",
       "2  2040.61  1989.76  1997.0   41171         -1 -1.951928      2038.05   \n",
       "3  2040.61  1989.76  1997.0   41171         -1 -1.951928      2038.05   \n",
       "4  2040.61  1989.76  1997.0   41171         -1 -1.951928      2038.05   \n",
       "\n",
       "   prevClose_2  prevClose_3  prevClose_4  prevClose_5  prevClose_6  \\\n",
       "0      2013.56      2003.01       1998.5      1931.83      1928.83   \n",
       "1      2013.56      2003.01       1998.5      1931.83      1928.83   \n",
       "2      2013.56      2003.01       1998.5      1931.83      1928.83   \n",
       "3      2013.56      2003.01       1998.5      1931.83      1928.83   \n",
       "4      2013.56      2003.01       1998.5      1931.83      1928.83   \n",
       "\n",
       "   prevClose_7  prevClose_8  prevClose_9  prevClose_10  prevClose_11  \\\n",
       "0      1905.38      1901.75       1903.5       1870.49       1875.73   \n",
       "1      1905.38      1901.75       1903.5       1870.49       1875.73   \n",
       "2      1905.38      1901.75       1903.5       1870.49       1875.73   \n",
       "3      1905.38      1901.75       1903.5       1870.49       1875.73   \n",
       "4      1905.38      1901.75       1903.5       1870.49       1875.73   \n",
       "\n",
       "   prevClose_12  prevClose_13  prevClose_14  prevClose_15  prevClose_16  \\\n",
       "0       1881.13       1887.35       1883.33       1919.65       1896.99   \n",
       "1       1881.13       1887.35       1883.33       1919.65       1896.99   \n",
       "2       1881.13       1887.35       1883.33       1919.65       1896.99   \n",
       "3       1881.13       1887.35       1883.33       1919.65       1896.99   \n",
       "4       1881.13       1887.35       1883.33       1919.65       1896.99   \n",
       "\n",
       "   prevClose_17  prevClose_18  prevClose_19  prevClose_20  prevClose_21  \\\n",
       "0       1885.99        1896.0       1882.98       1861.48       1847.11   \n",
       "1       1885.99        1896.0       1882.98       1861.48       1847.11   \n",
       "2       1885.99        1896.0       1882.98       1861.48       1847.11   \n",
       "3       1885.99        1896.0       1882.98       1861.48       1847.11   \n",
       "4       1885.99        1896.0       1882.98       1861.48       1847.11   \n",
       "\n",
       "   prevClose_22  prevClose_23  prevClose_24  prevClose_25  \n",
       "0       1822.94       1833.98       1796.14       1787.38  \n",
       "1       1822.94       1833.98       1796.14       1787.38  \n",
       "2       1822.94       1833.98       1796.14       1787.38  \n",
       "3       1822.94       1833.98       1796.14       1787.38  \n",
       "4       1822.94       1833.98       1796.14       1787.38  "
      ]
     },
     "execution_count": 2,
     "metadata": {},
     "output_type": "execute_result"
    }
   ],
   "source": [
    "aapl = pd.read_csv('data/preprocessed/Aapl_NewsPriceHistDirection.csv')\n",
    "aapl.shape\n",
    "print('AAPL:')\n",
    "aapl.head()\n",
    "\n",
    "amzn = pd.read_csv('data/preprocessed//Amzn_NewsPriceHistDirection.csv')\n",
    "amzn.shape\n",
    "print('AMZN:')\n",
    "amzn.head()"
   ]
  },
  {
   "cell_type": "code",
   "execution_count": 3,
   "metadata": {},
   "outputs": [],
   "source": [
    "def log_reg_cv(df, stock, desc, features, label, print_summary=False, print_box_plot=False):\n",
    "    X = df[features]\n",
    "    y = df[label]\n",
    "\n",
    "    clf = LogisticRegression(random_state=0, max_iter=10e10, n_jobs=-1)\n",
    "    results = pd.DataFrame(cross_validate(clf, X, y, cv=12, scoring=['accuracy', 'precision', 'recall', 'f1']))\n",
    "\n",
    "    if print_box_plot:\n",
    "        results.drop('fit_time', axis=1).plot.box(figsize=(10, 5))\n",
    "\n",
    "    summary = results.describe()\n",
    "    if print_summary:\n",
    "        display(summary.loc['mean',:])\n",
    "\n",
    "    summary = summary.loc['mean',:]\n",
    "    summary['stock'] = stock\n",
    "    summary['desc'] = desc\n",
    "    return summary\n"
   ]
  },
  {
   "cell_type": "markdown",
   "metadata": {},
   "source": [
    "#### What sentiment score are the best at predicting direction"
   ]
  },
  {
   "cell_type": "code",
   "execution_count": 4,
   "metadata": {},
   "outputs": [
    {
     "data": {
      "text/html": [
       "<div>\n",
       "<style scoped>\n",
       "    .dataframe tbody tr th:only-of-type {\n",
       "        vertical-align: middle;\n",
       "    }\n",
       "\n",
       "    .dataframe tbody tr th {\n",
       "        vertical-align: top;\n",
       "    }\n",
       "\n",
       "    .dataframe thead th {\n",
       "        text-align: right;\n",
       "    }\n",
       "</style>\n",
       "<table border=\"1\" class=\"dataframe\">\n",
       "  <thead>\n",
       "    <tr style=\"text-align: right;\">\n",
       "      <th></th>\n",
       "      <th>fit_time</th>\n",
       "      <th>score_time</th>\n",
       "      <th>test_accuracy</th>\n",
       "      <th>test_precision</th>\n",
       "      <th>test_recall</th>\n",
       "      <th>test_f1</th>\n",
       "      <th>stock</th>\n",
       "      <th>desc</th>\n",
       "    </tr>\n",
       "  </thead>\n",
       "  <tbody>\n",
       "    <tr>\n",
       "      <th>mean</th>\n",
       "      <td>0.594535</td>\n",
       "      <td>0.008518</td>\n",
       "      <td>0.524015</td>\n",
       "      <td>0.520141</td>\n",
       "      <td>0.146939</td>\n",
       "      <td>0.226442</td>\n",
       "      <td>AAPL</td>\n",
       "      <td>Title Sentiment</td>\n",
       "    </tr>\n",
       "    <tr>\n",
       "      <th>mean</th>\n",
       "      <td>0.571147</td>\n",
       "      <td>0.010141</td>\n",
       "      <td>0.529315</td>\n",
       "      <td>0.536990</td>\n",
       "      <td>0.141338</td>\n",
       "      <td>0.222938</td>\n",
       "      <td>AAPL</td>\n",
       "      <td>Text Sentiment</td>\n",
       "    </tr>\n",
       "    <tr>\n",
       "      <th>mean</th>\n",
       "      <td>0.609629</td>\n",
       "      <td>0.009317</td>\n",
       "      <td>0.534529</td>\n",
       "      <td>0.528902</td>\n",
       "      <td>0.255877</td>\n",
       "      <td>0.341899</td>\n",
       "      <td>AAPL</td>\n",
       "      <td>Entity Sentiment</td>\n",
       "    </tr>\n",
       "    <tr>\n",
       "      <th>mean</th>\n",
       "      <td>0.043413</td>\n",
       "      <td>0.003108</td>\n",
       "      <td>0.499188</td>\n",
       "      <td>0.505939</td>\n",
       "      <td>0.684077</td>\n",
       "      <td>0.576527</td>\n",
       "      <td>AMZN</td>\n",
       "      <td>Title Sentiment</td>\n",
       "    </tr>\n",
       "    <tr>\n",
       "      <th>mean</th>\n",
       "      <td>0.017397</td>\n",
       "      <td>0.004204</td>\n",
       "      <td>0.518475</td>\n",
       "      <td>0.518041</td>\n",
       "      <td>0.801836</td>\n",
       "      <td>0.628637</td>\n",
       "      <td>AMZN</td>\n",
       "      <td>Text Sentiment</td>\n",
       "    </tr>\n",
       "    <tr>\n",
       "      <th>mean</th>\n",
       "      <td>0.021524</td>\n",
       "      <td>0.002711</td>\n",
       "      <td>0.511611</td>\n",
       "      <td>0.513088</td>\n",
       "      <td>0.800093</td>\n",
       "      <td>0.624494</td>\n",
       "      <td>AMZN</td>\n",
       "      <td>Entity Sentiment</td>\n",
       "    </tr>\n",
       "  </tbody>\n",
       "</table>\n",
       "</div>"
      ],
      "text/plain": [
       "      fit_time  score_time  test_accuracy  test_precision  test_recall  \\\n",
       "mean  0.594535    0.008518       0.524015        0.520141     0.146939   \n",
       "mean  0.571147    0.010141       0.529315        0.536990     0.141338   \n",
       "mean  0.609629    0.009317       0.534529        0.528902     0.255877   \n",
       "mean  0.043413    0.003108       0.499188        0.505939     0.684077   \n",
       "mean  0.017397    0.004204       0.518475        0.518041     0.801836   \n",
       "mean  0.021524    0.002711       0.511611        0.513088     0.800093   \n",
       "\n",
       "       test_f1 stock              desc  \n",
       "mean  0.226442  AAPL   Title Sentiment  \n",
       "mean  0.222938  AAPL    Text Sentiment  \n",
       "mean  0.341899  AAPL  Entity Sentiment  \n",
       "mean  0.576527  AMZN   Title Sentiment  \n",
       "mean  0.628637  AMZN    Text Sentiment  \n",
       "mean  0.624494  AMZN  Entity Sentiment  "
      ]
     },
     "execution_count": 4,
     "metadata": {},
     "output_type": "execute_result"
    }
   ],
   "source": [
    "sentiment_results = []\n",
    "\n",
    "# Title sentiment\n",
    "feat = [\n",
    "    'title_posSent',\n",
    "    'title_neg_sent',\n",
    "    'title_net_sent',\n",
    "]\n",
    "label = 'direction'\n",
    "\n",
    "sentiment_results.append(log_reg_cv(aapl, 'AAPL', 'Title Sentiment', feat, label))\n",
    "sentiment_results.append(log_reg_cv(amzn, 'AMZN', 'Title Sentiment', feat, label))\n",
    "\n",
    "\n",
    "# Text sentiment\n",
    "feat = [\n",
    "    'text_pos_sent',\n",
    "    'text_neg_sent',\n",
    "    'text_net_sent'\n",
    " ]\n",
    "label = 'direction'\n",
    "\n",
    "sentiment_results.append(log_reg_cv(aapl, 'AAPL', 'Text Sentiment', feat, label))\n",
    "sentiment_results.append(log_reg_cv(amzn, 'AMZN', 'Text Sentiment', feat, label))\n",
    "\n",
    "\n",
    "# Entity Sentiment\n",
    "feat = [\n",
    "    'entity_pos_sent',\n",
    "    'entity_neg_sent',\n",
    "    'entity_net_sent'\n",
    " ]\n",
    "label = 'direction'\n",
    "\n",
    "sentiment_results.append(log_reg_cv(aapl, 'AAPL', 'Entity Sentiment', feat, label))\n",
    "sentiment_results.append(log_reg_cv(amzn, 'AMZN', 'Entity Sentiment', feat, label))\n",
    "\n",
    "pd.DataFrame(sentiment_results).sort_values('stock')"
   ]
  },
  {
   "cell_type": "markdown",
   "metadata": {},
   "source": [
    "#### How many days of closing price should be included?"
   ]
  },
  {
   "cell_type": "code",
   "execution_count": 5,
   "metadata": {},
   "outputs": [],
   "source": [
    "prevClose = [\n",
    "    'prevClose_1',\n",
    "    'prevClose_2',\n",
    "    'prevClose_3',\n",
    "    'prevClose_4',\n",
    "    'prevClose_5',\n",
    "    'prevClose_6',\n",
    "    'prevClose_7',\n",
    "    'prevClose_8',\n",
    "    'prevClose_9',\n",
    "    'prevClose_10',\n",
    "    'prevClose_11',\n",
    "    'prevClose_12',\n",
    "    'prevClose_13',\n",
    "    'prevClose_14',\n",
    "    'prevClose_15',\n",
    "    'prevClose_16',\n",
    "    'prevClose_17',\n",
    "    'prevClose_18',\n",
    "    'prevClose_19',\n",
    "    'prevClose_20',\n",
    "    'prevClose_21',\n",
    "    'prevClose_22',\n",
    "    'prevClose_23',\n",
    "    'prevClose_24',\n",
    "    'prevClose_25'\n",
    "]\n",
    "label = 'direction'\n",
    "\n",
    "aapl_prevClose_accuracies = []\n",
    "amzn_prevClose_accuracies = []\n",
    "for i in range(len(prevClose)):\n",
    "    precClose_feat = prevClose[0:i+1]\n",
    "    aapl_prevClose_accuracies.append(log_reg_cv(aapl, 'AAPL', f'{i+1} days close price', precClose_feat, label)['test_accuracy'])\n",
    "    amzn_prevClose_accuracies.append(log_reg_cv(amzn, 'AMZN', f'{i+1} days close price', precClose_feat, label)['test_accuracy'])\n"
   ]
  },
  {
   "cell_type": "code",
   "execution_count": 7,
   "metadata": {},
   "outputs": [
    {
     "data": {
      "image/png": "[encoded data removed]",
      "text/plain": [
       "<Figure size 1080x720 with 1 Axes>"
      ]
     },
     "metadata": {
      "needs_background": "light"
     },
     "output_type": "display_data"
    }
   ],
   "source": [
    "fig, ax = plt.subplots(figsize=(15,10))\n",
    "_ = ax.plot(aapl_prevClose_accuracies, label='AAPL Previous Close', linewidth=3)\n",
    "_ = ax.plot(amzn_prevClose_accuracies, label='AMZN Previous Close', linewidth=3)\n",
    "_ = ax.legend()\n",
    "_ = ax.set_ylabel('Mean 12 Fold CV Accuracy')\n",
    "_ = ax.set_xlabel('Number of historical days included')"
   ]
  },
  {
   "cell_type": "markdown",
   "metadata": {},
   "source": [
    "#### Recursive feature selection"
   ]
  },
  {
   "cell_type": "code",
   "execution_count": 8,
   "metadata": {},
   "outputs": [],
   "source": [
    "from sklearn.feature_selection import RFE\n",
    "\n",
    "def recursive_feature_selection(df, feat, label, stock, desc, n_feat=10):\n",
    "    clf = LogisticRegression(random_state=0, max_iter=10e10, n_jobs=-1)\n",
    "    selector = RFE(clf, n_features_to_select=n_feat, step=1)\n",
    "    X, y = df[feat], df[label]\n",
    "    selector = selector.fit(X, y)\n",
    "\n",
    "    X = X.loc[:, X.columns[selector.support_]]\n",
    "    \n",
    "    res = log_reg_cv(df, stock, desc, list(X.columns), 'direction')\n",
    "\n",
    "    return {\n",
    "        'best_feat': list(X.columns),\n",
    "        'results': res\n",
    "    }"
   ]
  },
  {
   "cell_type": "code",
   "execution_count": 9,
   "metadata": {},
   "outputs": [
    {
     "name": "stdout",
     "output_type": "stream",
     "text": [
      "AAPL RFS:\n"
     ]
    },
    {
     "data": {
      "text/plain": [
       "{'best_feat': ['title_posSent',\n",
       "  'title_neg_sent',\n",
       "  'title_net_sent',\n",
       "  'text_pos_sent',\n",
       "  'text_neg_sent',\n",
       "  'text_net_sent',\n",
       "  'entity_pos_sent',\n",
       "  'entity_net_sent',\n",
       "  'prevClose_17',\n",
       "  'prevClose_23'],\n",
       " 'results': fit_time          0.861015\n",
       " score_time        0.025038\n",
       " test_accuracy     0.596519\n",
       " test_precision    0.611876\n",
       " test_recall       0.565353\n",
       " test_f1           0.556708\n",
       " stock                 AAPL\n",
       " desc              AAPL RFS\n",
       " Name: mean, dtype: object}"
      ]
     },
     "execution_count": 9,
     "metadata": {},
     "output_type": "execute_result"
    },
    {
     "name": "stdout",
     "output_type": "stream",
     "text": [
      "AMZN RFS:\n"
     ]
    },
    {
     "data": {
      "text/plain": [
       "{'best_feat': ['prevClose_7',\n",
       "  'prevClose_8',\n",
       "  'prevClose_9',\n",
       "  'prevClose_10',\n",
       "  'prevClose_14',\n",
       "  'prevClose_15',\n",
       "  'prevClose_16',\n",
       "  'prevClose_17',\n",
       "  'prevClose_18',\n",
       "  'prevClose_21'],\n",
       " 'results': fit_time          0.630863\n",
       " score_time        0.021575\n",
       " test_accuracy     0.600555\n",
       " test_precision     0.61622\n",
       " test_recall       0.575432\n",
       " test_f1           0.588273\n",
       " stock                 AMZN\n",
       " desc              AMZN RFS\n",
       " Name: mean, dtype: object}"
      ]
     },
     "execution_count": 9,
     "metadata": {},
     "output_type": "execute_result"
    }
   ],
   "source": [
    "feat = [\n",
    " 'title_posSent',\n",
    " 'title_neg_sent',\n",
    " 'title_net_sent',\n",
    " 'text_pos_sent',\n",
    " 'text_neg_sent',\n",
    " 'text_net_sent',\n",
    " 'entity_pos_sent',\n",
    " 'entity_neg_sent',\n",
    " 'entity_net_sent',\n",
    " 'prevClose_1',\n",
    " 'prevClose_2',\n",
    " 'prevClose_3',\n",
    " 'prevClose_4',\n",
    " 'prevClose_5',\n",
    " 'prevClose_6',\n",
    " 'prevClose_7',\n",
    " 'prevClose_8',\n",
    " 'prevClose_9',\n",
    " 'prevClose_10',\n",
    " 'prevClose_11',\n",
    " 'prevClose_12',\n",
    " 'prevClose_13',\n",
    " 'prevClose_14',\n",
    " 'prevClose_15',\n",
    " 'prevClose_16',\n",
    " 'prevClose_17',\n",
    " 'prevClose_18',\n",
    " 'prevClose_19',\n",
    " 'prevClose_20',\n",
    " 'prevClose_21',\n",
    " 'prevClose_22',\n",
    " 'prevClose_23',\n",
    " 'prevClose_24',\n",
    " 'prevClose_25']\n",
    "label = 'direction'\n",
    "\n",
    "print('AAPL RFS:')\n",
    "aapl_rfs = recursive_feature_selection(aapl, feat, label, 'AAPL', 'AAPL RFS', n_feat=10)\n",
    "aapl_rfs\n",
    "\n",
    "print('AMZN RFS:')\n",
    "amzn_rfs = recursive_feature_selection(amzn, feat, label, 'AMZN', 'AMZN RFS', n_feat=10)\n",
    "amzn_rfs"
   ]
  },
  {
   "cell_type": "markdown",
   "metadata": {},
   "source": [
    "#### Hyperparameter tuning w/ grid search"
   ]
  },
  {
   "cell_type": "code",
   "execution_count": 10,
   "metadata": {},
   "outputs": [
    {
     "name": "stdout",
     "output_type": "stream",
     "text": [
      "Apple tuned log reg using RFS features: \n"
     ]
    },
    {
     "data": {
      "text/html": [
       "<div>\n",
       "<style scoped>\n",
       "    .dataframe tbody tr th:only-of-type {\n",
       "        vertical-align: middle;\n",
       "    }\n",
       "\n",
       "    .dataframe tbody tr th {\n",
       "        vertical-align: top;\n",
       "    }\n",
       "\n",
       "    .dataframe thead th {\n",
       "        text-align: right;\n",
       "    }\n",
       "</style>\n",
       "<table border=\"1\" class=\"dataframe\">\n",
       "  <thead>\n",
       "    <tr style=\"text-align: right;\">\n",
       "      <th></th>\n",
       "      <th>fit_time</th>\n",
       "      <th>score_time</th>\n",
       "      <th>test_accuracy</th>\n",
       "      <th>test_precision</th>\n",
       "      <th>test_recall</th>\n",
       "      <th>test_f1</th>\n",
       "    </tr>\n",
       "  </thead>\n",
       "  <tbody>\n",
       "    <tr>\n",
       "      <th>count</th>\n",
       "      <td>12.000000</td>\n",
       "      <td>12.000000</td>\n",
       "      <td>12.000000</td>\n",
       "      <td>12.000000</td>\n",
       "      <td>12.000000</td>\n",
       "      <td>12.000000</td>\n",
       "    </tr>\n",
       "    <tr>\n",
       "      <th>mean</th>\n",
       "      <td>0.962078</td>\n",
       "      <td>0.009418</td>\n",
       "      <td>0.595485</td>\n",
       "      <td>0.611256</td>\n",
       "      <td>0.561580</td>\n",
       "      <td>0.552432</td>\n",
       "    </tr>\n",
       "    <tr>\n",
       "      <th>std</th>\n",
       "      <td>0.172520</td>\n",
       "      <td>0.004134</td>\n",
       "      <td>0.077393</td>\n",
       "      <td>0.142935</td>\n",
       "      <td>0.219393</td>\n",
       "      <td>0.129918</td>\n",
       "    </tr>\n",
       "    <tr>\n",
       "      <th>min</th>\n",
       "      <td>0.778469</td>\n",
       "      <td>0.005683</td>\n",
       "      <td>0.444234</td>\n",
       "      <td>0.437905</td>\n",
       "      <td>0.177866</td>\n",
       "      <td>0.284238</td>\n",
       "    </tr>\n",
       "    <tr>\n",
       "      <th>25%</th>\n",
       "      <td>0.847133</td>\n",
       "      <td>0.005968</td>\n",
       "      <td>0.567261</td>\n",
       "      <td>0.544338</td>\n",
       "      <td>0.420499</td>\n",
       "      <td>0.498057</td>\n",
       "    </tr>\n",
       "    <tr>\n",
       "      <th>50%</th>\n",
       "      <td>0.891413</td>\n",
       "      <td>0.008067</td>\n",
       "      <td>0.586608</td>\n",
       "      <td>0.589098</td>\n",
       "      <td>0.548246</td>\n",
       "      <td>0.540865</td>\n",
       "    </tr>\n",
       "    <tr>\n",
       "      <th>75%</th>\n",
       "      <td>1.044072</td>\n",
       "      <td>0.011145</td>\n",
       "      <td>0.649905</td>\n",
       "      <td>0.638958</td>\n",
       "      <td>0.682267</td>\n",
       "      <td>0.662542</td>\n",
       "    </tr>\n",
       "    <tr>\n",
       "      <th>max</th>\n",
       "      <td>1.323552</td>\n",
       "      <td>0.018121</td>\n",
       "      <td>0.693037</td>\n",
       "      <td>0.990215</td>\n",
       "      <td>0.924901</td>\n",
       "      <td>0.724242</td>\n",
       "    </tr>\n",
       "  </tbody>\n",
       "</table>\n",
       "</div>"
      ],
      "text/plain": [
       "        fit_time  score_time  test_accuracy  test_precision  test_recall  \\\n",
       "count  12.000000   12.000000      12.000000       12.000000    12.000000   \n",
       "mean    0.962078    0.009418       0.595485        0.611256     0.561580   \n",
       "std     0.172520    0.004134       0.077393        0.142935     0.219393   \n",
       "min     0.778469    0.005683       0.444234        0.437905     0.177866   \n",
       "25%     0.847133    0.005968       0.567261        0.544338     0.420499   \n",
       "50%     0.891413    0.008067       0.586608        0.589098     0.548246   \n",
       "75%     1.044072    0.011145       0.649905        0.638958     0.682267   \n",
       "max     1.323552    0.018121       0.693037        0.990215     0.924901   \n",
       "\n",
       "         test_f1  \n",
       "count  12.000000  \n",
       "mean    0.552432  \n",
       "std     0.129918  \n",
       "min     0.284238  \n",
       "25%     0.498057  \n",
       "50%     0.540865  \n",
       "75%     0.662542  \n",
       "max     0.724242  "
      ]
     },
     "execution_count": 10,
     "metadata": {},
     "output_type": "execute_result"
    },
    {
     "name": "stdout",
     "output_type": "stream",
     "text": [
      "Amazon tuned log reg using RFS features: \n"
     ]
    },
    {
     "data": {
      "text/html": [
       "<div>\n",
       "<style scoped>\n",
       "    .dataframe tbody tr th:only-of-type {\n",
       "        vertical-align: middle;\n",
       "    }\n",
       "\n",
       "    .dataframe tbody tr th {\n",
       "        vertical-align: top;\n",
       "    }\n",
       "\n",
       "    .dataframe thead th {\n",
       "        text-align: right;\n",
       "    }\n",
       "</style>\n",
       "<table border=\"1\" class=\"dataframe\">\n",
       "  <thead>\n",
       "    <tr style=\"text-align: right;\">\n",
       "      <th></th>\n",
       "      <th>fit_time</th>\n",
       "      <th>score_time</th>\n",
       "      <th>test_accuracy</th>\n",
       "      <th>test_precision</th>\n",
       "      <th>test_recall</th>\n",
       "      <th>test_f1</th>\n",
       "    </tr>\n",
       "  </thead>\n",
       "  <tbody>\n",
       "    <tr>\n",
       "      <th>count</th>\n",
       "      <td>12.000000</td>\n",
       "      <td>12.000000</td>\n",
       "      <td>12.000000</td>\n",
       "      <td>12.000000</td>\n",
       "      <td>12.000000</td>\n",
       "      <td>12.000000</td>\n",
       "    </tr>\n",
       "    <tr>\n",
       "      <th>mean</th>\n",
       "      <td>0.645338</td>\n",
       "      <td>0.007004</td>\n",
       "      <td>0.600555</td>\n",
       "      <td>0.616220</td>\n",
       "      <td>0.575432</td>\n",
       "      <td>0.588273</td>\n",
       "    </tr>\n",
       "    <tr>\n",
       "      <th>std</th>\n",
       "      <td>0.066676</td>\n",
       "      <td>0.003771</td>\n",
       "      <td>0.130956</td>\n",
       "      <td>0.135380</td>\n",
       "      <td>0.177233</td>\n",
       "      <td>0.146941</td>\n",
       "    </tr>\n",
       "    <tr>\n",
       "      <th>min</th>\n",
       "      <td>0.582359</td>\n",
       "      <td>0.002381</td>\n",
       "      <td>0.449057</td>\n",
       "      <td>0.454545</td>\n",
       "      <td>0.307028</td>\n",
       "      <td>0.392126</td>\n",
       "    </tr>\n",
       "    <tr>\n",
       "      <th>25%</th>\n",
       "      <td>0.617215</td>\n",
       "      <td>0.004339</td>\n",
       "      <td>0.511164</td>\n",
       "      <td>0.533696</td>\n",
       "      <td>0.488286</td>\n",
       "      <td>0.485685</td>\n",
       "    </tr>\n",
       "    <tr>\n",
       "      <th>50%</th>\n",
       "      <td>0.631451</td>\n",
       "      <td>0.006290</td>\n",
       "      <td>0.564649</td>\n",
       "      <td>0.581463</td>\n",
       "      <td>0.527451</td>\n",
       "      <td>0.557252</td>\n",
       "    </tr>\n",
       "    <tr>\n",
       "      <th>75%</th>\n",
       "      <td>0.644199</td>\n",
       "      <td>0.010598</td>\n",
       "      <td>0.698585</td>\n",
       "      <td>0.698486</td>\n",
       "      <td>0.741358</td>\n",
       "      <td>0.665298</td>\n",
       "    </tr>\n",
       "    <tr>\n",
       "      <th>max</th>\n",
       "      <td>0.842684</td>\n",
       "      <td>0.013531</td>\n",
       "      <td>0.879874</td>\n",
       "      <td>0.888331</td>\n",
       "      <td>0.874074</td>\n",
       "      <td>0.881145</td>\n",
       "    </tr>\n",
       "  </tbody>\n",
       "</table>\n",
       "</div>"
      ],
      "text/plain": [
       "        fit_time  score_time  test_accuracy  test_precision  test_recall  \\\n",
       "count  12.000000   12.000000      12.000000       12.000000    12.000000   \n",
       "mean    0.645338    0.007004       0.600555        0.616220     0.575432   \n",
       "std     0.066676    0.003771       0.130956        0.135380     0.177233   \n",
       "min     0.582359    0.002381       0.449057        0.454545     0.307028   \n",
       "25%     0.617215    0.004339       0.511164        0.533696     0.488286   \n",
       "50%     0.631451    0.006290       0.564649        0.581463     0.527451   \n",
       "75%     0.644199    0.010598       0.698585        0.698486     0.741358   \n",
       "max     0.842684    0.013531       0.879874        0.888331     0.874074   \n",
       "\n",
       "         test_f1  \n",
       "count  12.000000  \n",
       "mean    0.588273  \n",
       "std     0.146941  \n",
       "min     0.392126  \n",
       "25%     0.485685  \n",
       "50%     0.557252  \n",
       "75%     0.665298  \n",
       "max     0.881145  "
      ]
     },
     "execution_count": 10,
     "metadata": {},
     "output_type": "execute_result"
    }
   ],
   "source": [
    "from sklearn.model_selection import GridSearchCV\n",
    "\n",
    "def tune_log_reg_hyperparams(df, feat, label):\n",
    "    parameters = {\n",
    "        'penalty': ('l1', 'l2', 'elasticnet', 'none'), \n",
    "        'C': [100, 10, 1.0, 0.1, 0.01]\n",
    "    }\n",
    "    grid_clf = GridSearchCV(\n",
    "        LogisticRegression(random_state=0, max_iter=10e10, n_jobs=-1), \n",
    "        parameters\n",
    "    )\n",
    "    grid_clf.fit(df[feat], df[label])\n",
    "\n",
    "    clf = LogisticRegression(random_state=0, max_iter=10e10, n_jobs=-1, **grid_clf.best_params_)\n",
    "    results = pd.DataFrame(cross_validate(clf, df[feat], df[label], cv=12, scoring=['accuracy', 'precision', 'recall', 'f1']))\n",
    "    return {\n",
    "        'best_params': grid_clf.best_params_,\n",
    "        'results': results.describe()\n",
    "    }\n",
    "\n",
    "\n",
    "print('Apple tuned log reg using RFS features: ')\n",
    "aapl_tuned_logreg = tune_log_reg_hyperparams(aapl, aapl_rfs['best_feat'], 'direction')\n",
    "aapl_tuned_logreg['results']\n",
    "\n",
    "print('Amazon tuned log reg using RFS features: ')\n",
    "amzn_tuned_logreg = tune_log_reg_hyperparams(amzn, amzn_rfs['best_feat'], 'direction')\n",
    "amzn_tuned_logreg['results']"
   ]
  },
  {
   "cell_type": "markdown",
   "metadata": {},
   "source": [
    "### What authors/sources are the best at predicting direction?"
   ]
  },
  {
   "cell_type": "code",
   "execution_count": 56,
   "metadata": {},
   "outputs": [
    {
     "data": {
      "text/html": [
       "<style>#sk-container-id-5 {color: black;background-color: white;}#sk-container-id-5 pre{padding: 0;}#sk-container-id-5 div.sk-toggleable {background-color: white;}#sk-container-id-5 label.sk-toggleable__label {cursor: pointer;display: block;width: 100%;margin-bottom: 0;padding: 0.3em;box-sizing: border-box;text-align: center;}#sk-container-id-5 label.sk-toggleable__label-arrow:before {content: \"▸\";float: left;margin-right: 0.25em;color: #696969;}#sk-container-id-5 label.sk-toggleable__label-arrow:hover:before {color: black;}#sk-container-id-5 div.sk-estimator:hover label.sk-toggleable__label-arrow:before {color: black;}#sk-container-id-5 div.sk-toggleable__content {max-height: 0;max-width: 0;overflow: hidden;text-align: left;background-color: #f0f8ff;}#sk-container-id-5 div.sk-toggleable__content pre {margin: 0.2em;color: black;border-radius: 0.25em;background-color: #f0f8ff;}#sk-container-id-5 input.sk-toggleable__control:checked~div.sk-toggleable__content {max-height: 200px;max-width: 100%;overflow: auto;}#sk-container-id-5 input.sk-toggleable__control:checked~label.sk-toggleable__label-arrow:before {content: \"▾\";}#sk-container-id-5 div.sk-estimator input.sk-toggleable__control:checked~label.sk-toggleable__label {background-color: #d4ebff;}#sk-container-id-5 div.sk-label input.sk-toggleable__control:checked~label.sk-toggleable__label {background-color: #d4ebff;}#sk-container-id-5 input.sk-hidden--visually {border: 0;clip: rect(1px 1px 1px 1px);clip: rect(1px, 1px, 1px, 1px);height: 1px;margin: -1px;overflow: hidden;padding: 0;position: absolute;width: 1px;}#sk-container-id-5 div.sk-estimator {font-family: monospace;background-color: #f0f8ff;border: 1px dotted black;border-radius: 0.25em;box-sizing: border-box;margin-bottom: 0.5em;}#sk-container-id-5 div.sk-estimator:hover {background-color: #d4ebff;}#sk-container-id-5 div.sk-parallel-item::after {content: \"\";width: 100%;border-bottom: 1px solid gray;flex-grow: 1;}#sk-container-id-5 div.sk-label:hover label.sk-toggleable__label {background-color: #d4ebff;}#sk-container-id-5 div.sk-serial::before {content: \"\";position: absolute;border-left: 1px solid gray;box-sizing: border-box;top: 0;bottom: 0;left: 50%;z-index: 0;}#sk-container-id-5 div.sk-serial {display: flex;flex-direction: column;align-items: center;background-color: white;padding-right: 0.2em;padding-left: 0.2em;position: relative;}#sk-container-id-5 div.sk-item {position: relative;z-index: 1;}#sk-container-id-5 div.sk-parallel {display: flex;align-items: stretch;justify-content: center;background-color: white;position: relative;}#sk-container-id-5 div.sk-item::before, #sk-container-id-5 div.sk-parallel-item::before {content: \"\";position: absolute;border-left: 1px solid gray;box-sizing: border-box;top: 0;bottom: 0;left: 50%;z-index: -1;}#sk-container-id-5 div.sk-parallel-item {display: flex;flex-direction: column;z-index: 1;position: relative;background-color: white;}#sk-container-id-5 div.sk-parallel-item:first-child::after {align-self: flex-end;width: 50%;}#sk-container-id-5 div.sk-parallel-item:last-child::after {align-self: flex-start;width: 50%;}#sk-container-id-5 div.sk-parallel-item:only-child::after {width: 0;}#sk-container-id-5 div.sk-dashed-wrapped {border: 1px dashed gray;margin: 0 0.4em 0.5em 0.4em;box-sizing: border-box;padding-bottom: 0.4em;background-color: white;}#sk-container-id-5 div.sk-label label {font-family: monospace;font-weight: bold;display: inline-block;line-height: 1.2em;}#sk-container-id-5 div.sk-label-container {text-align: center;}#sk-container-id-5 div.sk-container {/* jupyter's `normalize.less` sets `[hidden] { display: none; }` but bootstrap.min.css set `[hidden] { display: none !important; }` so we also need the `!important` here to be able to override the default hidden behavior on the sphinx rendered scikit-learn.org. See: https://github.com/scikit-learn/scikit-learn/issues/21755 */display: inline-block !important;position: relative;}#sk-container-id-5 div.sk-text-repr-fallback {display: none;}</style><div id=\"sk-container-id-5\" class=\"sk-top-container\"><div class=\"sk-text-repr-fallback\"><pre>LogisticRegression(C=0.01, max_iter=100000000000.0, n_jobs=-1, random_state=0)</pre><b>In a Jupyter environment, please rerun this cell to show the HTML representation or trust the notebook. <br />On GitHub, the HTML representation is unable to render, please try loading this page with nbviewer.org.</b></div><div class=\"sk-container\" hidden><div class=\"sk-item\"><div class=\"sk-estimator sk-toggleable\"><input class=\"sk-toggleable__control sk-hidden--visually\" id=\"sk-estimator-id-5\" type=\"checkbox\" checked><label for=\"sk-estimator-id-5\" class=\"sk-toggleable__label sk-toggleable__label-arrow\">LogisticRegression</label><div class=\"sk-toggleable__content\"><pre>LogisticRegression(C=0.01, max_iter=100000000000.0, n_jobs=-1, random_state=0)</pre></div></div></div></div></div>"
      ],
      "text/plain": [
       "LogisticRegression(C=0.01, max_iter=100000000000.0, n_jobs=-1, random_state=0)"
      ]
     },
     "execution_count": 56,
     "metadata": {},
     "output_type": "execute_result"
    },
    {
     "data": {
      "text/plain": [
       "0.5162448651288386"
      ]
     },
     "execution_count": 56,
     "metadata": {},
     "output_type": "execute_result"
    },
    {
     "data": {
      "text/html": [
       "<div>\n",
       "<style scoped>\n",
       "    .dataframe tbody tr th:only-of-type {\n",
       "        vertical-align: middle;\n",
       "    }\n",
       "\n",
       "    .dataframe tbody tr th {\n",
       "        vertical-align: top;\n",
       "    }\n",
       "\n",
       "    .dataframe thead th {\n",
       "        text-align: right;\n",
       "    }\n",
       "</style>\n",
       "<table border=\"1\" class=\"dataframe\">\n",
       "  <thead>\n",
       "    <tr style=\"text-align: right;\">\n",
       "      <th></th>\n",
       "      <th>author</th>\n",
       "      <th>url</th>\n",
       "      <th>true_label</th>\n",
       "      <th>pred_label</th>\n",
       "      <th>correct_pred</th>\n",
       "    </tr>\n",
       "  </thead>\n",
       "  <tbody>\n",
       "    <tr>\n",
       "      <th>34811</th>\n",
       "      <td>ABMN Staff</td>\n",
       "      <td>www.americanbankingnews.com</td>\n",
       "      <td>1</td>\n",
       "      <td>-1</td>\n",
       "      <td>False</td>\n",
       "    </tr>\n",
       "    <tr>\n",
       "      <th>34812</th>\n",
       "      <td>JF Staff</td>\n",
       "      <td>www.journalfinance.net</td>\n",
       "      <td>1</td>\n",
       "      <td>-1</td>\n",
       "      <td>False</td>\n",
       "    </tr>\n",
       "    <tr>\n",
       "      <th>34813</th>\n",
       "      <td>NaN</td>\n",
       "      <td>cosmosmagazine.com</td>\n",
       "      <td>1</td>\n",
       "      <td>-1</td>\n",
       "      <td>False</td>\n",
       "    </tr>\n",
       "    <tr>\n",
       "      <th>34814</th>\n",
       "      <td>admin</td>\n",
       "      <td>www.listocks.com</td>\n",
       "      <td>1</td>\n",
       "      <td>-1</td>\n",
       "      <td>False</td>\n",
       "    </tr>\n",
       "    <tr>\n",
       "      <th>34815</th>\n",
       "      <td>sfgate.com</td>\n",
       "      <td>www.sfgate.com</td>\n",
       "      <td>1</td>\n",
       "      <td>-1</td>\n",
       "      <td>False</td>\n",
       "    </tr>\n",
       "    <tr>\n",
       "      <th>...</th>\n",
       "      <td>...</td>\n",
       "      <td>...</td>\n",
       "      <td>...</td>\n",
       "      <td>...</td>\n",
       "      <td>...</td>\n",
       "    </tr>\n",
       "    <tr>\n",
       "      <th>69617</th>\n",
       "      <td>Motley Fool</td>\n",
       "      <td>www.nasdaq.com</td>\n",
       "      <td>-1</td>\n",
       "      <td>-1</td>\n",
       "      <td>True</td>\n",
       "    </tr>\n",
       "    <tr>\n",
       "      <th>69618</th>\n",
       "      <td>Jussi Askola</td>\n",
       "      <td>seekingalpha.com</td>\n",
       "      <td>-1</td>\n",
       "      <td>-1</td>\n",
       "      <td>True</td>\n",
       "    </tr>\n",
       "    <tr>\n",
       "      <th>69619</th>\n",
       "      <td>Marguerite Chambers</td>\n",
       "      <td>heraldks.com</td>\n",
       "      <td>-1</td>\n",
       "      <td>-1</td>\n",
       "      <td>True</td>\n",
       "    </tr>\n",
       "    <tr>\n",
       "      <th>69620</th>\n",
       "      <td>Darrin Black</td>\n",
       "      <td>www.whatsonthorold.com</td>\n",
       "      <td>-1</td>\n",
       "      <td>-1</td>\n",
       "      <td>True</td>\n",
       "    </tr>\n",
       "    <tr>\n",
       "      <th>69621</th>\n",
       "      <td>Investing News Network</td>\n",
       "      <td>investingnews.com</td>\n",
       "      <td>1</td>\n",
       "      <td>-1</td>\n",
       "      <td>False</td>\n",
       "    </tr>\n",
       "  </tbody>\n",
       "</table>\n",
       "<p>34811 rows × 5 columns</p>\n",
       "</div>"
      ],
      "text/plain": [
       "                       author                          url  true_label  \\\n",
       "34811              ABMN Staff  www.americanbankingnews.com           1   \n",
       "34812                JF Staff       www.journalfinance.net           1   \n",
       "34813                     NaN           cosmosmagazine.com           1   \n",
       "34814                   admin             www.listocks.com           1   \n",
       "34815              sfgate.com               www.sfgate.com           1   \n",
       "...                       ...                          ...         ...   \n",
       "69617             Motley Fool               www.nasdaq.com          -1   \n",
       "69618            Jussi Askola             seekingalpha.com          -1   \n",
       "69619     Marguerite Chambers                 heraldks.com          -1   \n",
       "69620            Darrin Black       www.whatsonthorold.com          -1   \n",
       "69621  Investing News Network            investingnews.com           1   \n",
       "\n",
       "       pred_label  correct_pred  \n",
       "34811          -1         False  \n",
       "34812          -1         False  \n",
       "34813          -1         False  \n",
       "34814          -1         False  \n",
       "34815          -1         False  \n",
       "...           ...           ...  \n",
       "69617          -1          True  \n",
       "69618          -1          True  \n",
       "69619          -1          True  \n",
       "69620          -1          True  \n",
       "69621          -1         False  \n",
       "\n",
       "[34811 rows x 5 columns]"
      ]
     },
     "execution_count": 56,
     "metadata": {},
     "output_type": "execute_result"
    }
   ],
   "source": [
    "from sklearn.model_selection import train_test_split\n",
    "from sklearn.metrics import accuracy_score\n",
    "from urllib.parse import urlparse\n",
    "\n",
    "X_train, X_test, y_train, y_test = train_test_split(aapl[['entity_pos_sent', 'entity_neg_sent', 'entity_net_sent', 'author', 'url']], aapl['direction'], test_size=0.5, random_state=None, shuffle=False)\n",
    "clf = LogisticRegression(random_state=0, max_iter=10e10, n_jobs=-1, **aapl_tuned_logreg['best_params'])\n",
    "\n",
    "author = X_test['author']\n",
    "url = X_test['url'].apply(lambda x: urlparse(x).netloc)\n",
    "# urlparse(res.reset_index().loc[0,'url']).netloc\n",
    "X_train = X_train.drop(['author', 'url'], axis=1)\n",
    "clf.fit(X_train, y_train)\n",
    "pred = clf.predict(X_test.drop(['author', 'url'], axis=1))\n",
    "\n",
    "res = pd.DataFrame({\n",
    "    'author': author,\n",
    "    'url': url,\n",
    "    'true_label': y_test,\n",
    "    'pred_label': pred\n",
    "})\n",
    "res['correct_pred'] = res['true_label'] == res['pred_label']\n",
    "\n",
    "accuracy_score(pred, y_test)\n",
    "res"
   ]
  },
  {
   "cell_type": "code",
   "execution_count": 58,
   "metadata": {},
   "outputs": [],
   "source": [
    "from sklearn.metrics import precision_recall_fscore_support\n",
    "\n",
    "def source_stats(df):\n",
    "    precision, recall, f1, _ = precision_recall_fscore_support(df['true_label'], df['pred_label'], average='binary')\n",
    "    res = {\n",
    "        'precision': precision,\n",
    "        'recall': recall,\n",
    "        'f1': f1,\n",
    "        'accuracy': df['correct_pred'].sum() / df.shape[0],\n",
    "        'total_correct': df['correct_pred'].sum(),\n",
    "        'total_articles': df.shape[0],\n",
    "\n",
    "    }\n",
    "    return pd.Series(res, index=['precision', 'recall', 'f1', 'accuracy', 'total_correct', 'total_articles'])\n",
    "\n",
    "best_author = (res.groupby('author')\n",
    "    .apply(source_stats)\n",
    "    .reset_index()\n",
    "    # .sort_values('f1', ascending=False)\n",
    "    # .sort_values(['proportion_correct', 'total_articles'], ascending=False)\n",
    "    # .sort_values(['total_articles', 'total_correct'], ascending=False)\n",
    ")\n",
    "\n",
    "best_url = (res.groupby('url')\n",
    "    .apply(source_stats)\n",
    "    .reset_index()\n",
    ")"
   ]
  },
  {
   "cell_type": "code",
   "execution_count": 82,
   "metadata": {},
   "outputs": [
    {
     "data": {
      "application/vnd.plotly.v1+json": {
       "config": {
        "plotlyServerURL": "https://plot.ly"
       },
       "data": [
        {
         "alignmentgroup": "True",
         "hovertemplate": "variable=total_articles<br>author=%{x}<br>value=%{y}<extra></extra>",
         "legendgroup": "total_articles",
         "marker": {
          "color": "#636efa",
          "pattern": {
           "shape": ""
          }
         },
         "name": "total_articles",
         "offsetgroup": "total_articles",
         "orientation": "v",
         "showlegend": true,
         "textposition": "auto",
         "type": "bar",
         "x": [
          "Cnn News",
          "SCOTT LEHTONEN",
          "Therese Poletti",
          "Dave Smith",
          "Jonathan Garber",
          "D.M. Martins Research",
          "Vince Martin",
          "Tripp Mickle",
          "barchart.com",
          "theglobeandmail.com",
          "investopedia.com",
          "newsfeedback@fool.com (Motley Fool Staff)",
          "Aaron Hankin",
          "Sara Sjolin",
          "Anora M. Gaudiano",
          "lganassali",
          "The Ticker Tape",
          "kake.com",
          "Editor - Stock Markets News",
          "David Pogue",
          "newsfeedback@fool.com (Danny Vena)",
          "Cynthia Hall",
          "CNN",
          "Thomas H. Kee Jr.",
          "Todd Campbell"
         ],
         "xaxis": "x",
         "y": [
          0.57,
          0.33,
          0.28,
          0.26,
          0.24,
          0.22,
          0.21,
          0.19,
          0.17,
          0.15,
          0.15,
          0.14,
          0.14,
          0.13,
          0.12,
          0.12,
          0.11,
          0.11,
          0.1,
          0.1,
          0.1,
          0.1,
          0.09,
          0.09,
          0.09
         ],
         "yaxis": "y"
        },
        {
         "alignmentgroup": "True",
         "hovertemplate": "variable=accuracy<br>author=%{x}<br>value=%{y}<extra></extra>",
         "legendgroup": "accuracy",
         "marker": {
          "color": "#EF553B",
          "pattern": {
           "shape": ""
          }
         },
         "name": "accuracy",
         "offsetgroup": "accuracy",
         "orientation": "v",
         "showlegend": true,
         "textposition": "auto",
         "type": "bar",
         "x": [
          "Cnn News",
          "SCOTT LEHTONEN",
          "Therese Poletti",
          "Dave Smith",
          "Jonathan Garber",
          "D.M. Martins Research",
          "Vince Martin",
          "Tripp Mickle",
          "barchart.com",
          "theglobeandmail.com",
          "investopedia.com",
          "newsfeedback@fool.com (Motley Fool Staff)",
          "Aaron Hankin",
          "Sara Sjolin",
          "Anora M. Gaudiano",
          "lganassali",
          "The Ticker Tape",
          "kake.com",
          "Editor - Stock Markets News",
          "David Pogue",
          "newsfeedback@fool.com (Danny Vena)",
          "Cynthia Hall",
          "CNN",
          "Thomas H. Kee Jr.",
          "Todd Campbell"
         ],
         "xaxis": "x",
         "y": [
          0.7192982456140351,
          0.7575757575757576,
          0.7142857142857143,
          0.7307692307692307,
          0.75,
          0.7727272727272727,
          0.7142857142857143,
          0.8421052631578947,
          0.7058823529411765,
          0.7333333333333333,
          0.7333333333333333,
          0.7142857142857143,
          0.7142857142857143,
          0.8461538461538461,
          0.75,
          1,
          0.8181818181818182,
          0.7272727272727273,
          0.8,
          0.7,
          0.7,
          0.8,
          1,
          1,
          0.7777777777777778
         ],
         "yaxis": "y"
        }
       ],
       "layout": {
        "barmode": "relative",
        "legend": {
         "title": {
          "text": "variable"
         },
         "tracegroupgap": 0
        },
        "template": {
         "data": {
          "bar": [
           {
            "error_x": {
             "color": "#2a3f5f"
            },
            "error_y": {
             "color": "#2a3f5f"
            },
            "marker": {
             "line": {
              "color": "#E5ECF6",
              "width": 0.5
             },
             "pattern": {
              "fillmode": "overlay",
              "size": 10,
              "solidity": 0.2
             }
            },
            "type": "bar"
           }
          ],
          "barpolar": [
           {
            "marker": {
             "line": {
              "color": "#E5ECF6",
              "width": 0.5
             },
             "pattern": {
              "fillmode": "overlay",
              "size": 10,
              "solidity": 0.2
             }
            },
            "type": "barpolar"
           }
          ],
          "carpet": [
           {
            "aaxis": {
             "endlinecolor": "#2a3f5f",
             "gridcolor": "white",
             "linecolor": "white",
             "minorgridcolor": "white",
             "startlinecolor": "#2a3f5f"
            },
            "baxis": {
             "endlinecolor": "#2a3f5f",
             "gridcolor": "white",
             "linecolor": "white",
             "minorgridcolor": "white",
             "startlinecolor": "#2a3f5f"
            },
            "type": "carpet"
           }
          ],
          "choropleth": [
           {
            "colorbar": {
             "outlinewidth": 0,
             "ticks": ""
            },
            "type": "choropleth"
           }
          ],
          "contour": [
           {
            "colorbar": {
             "outlinewidth": 0,
             "ticks": ""
            },
            "colorscale": [
             [
              0,
              "#0d0887"
             ],
             [
              0.1111111111111111,
              "#46039f"
             ],
             [
              0.2222222222222222,
              "#7201a8"
             ],
             [
              0.3333333333333333,
              "#9c179e"
             ],
             [
              0.4444444444444444,
              "#bd3786"
             ],
             [
              0.5555555555555556,
              "#d8576b"
             ],
             [
              0.6666666666666666,
              "#ed7953"
             ],
             [
              0.7777777777777778,
              "#fb9f3a"
             ],
             [
              0.8888888888888888,
              "#fdca26"
             ],
             [
              1,
              "#f0f921"
             ]
            ],
            "type": "contour"
           }
          ],
          "contourcarpet": [
           {
            "colorbar": {
             "outlinewidth": 0,
             "ticks": ""
            },
            "type": "contourcarpet"
           }
          ],
          "heatmap": [
           {
            "colorbar": {
             "outlinewidth": 0,
             "ticks": ""
            },
            "colorscale": [
             [
              0,
              "#0d0887"
             ],
             [
              0.1111111111111111,
              "#46039f"
             ],
             [
              0.2222222222222222,
              "#7201a8"
             ],
             [
              0.3333333333333333,
              "#9c179e"
             ],
             [
              0.4444444444444444,
              "#bd3786"
             ],
             [
              0.5555555555555556,
              "#d8576b"
             ],
             [
              0.6666666666666666,
              "#ed7953"
             ],
             [
              0.7777777777777778,
              "#fb9f3a"
             ],
             [
              0.8888888888888888,
              "#fdca26"
             ],
             [
              1,
              "#f0f921"
             ]
            ],
            "type": "heatmap"
           }
          ],
          "heatmapgl": [
           {
            "colorbar": {
             "outlinewidth": 0,
             "ticks": ""
            },
            "colorscale": [
             [
              0,
              "#0d0887"
             ],
             [
              0.1111111111111111,
              "#46039f"
             ],
             [
              0.2222222222222222,
              "#7201a8"
             ],
             [
              0.3333333333333333,
              "#9c179e"
             ],
             [
              0.4444444444444444,
              "#bd3786"
             ],
             [
              0.5555555555555556,
              "#d8576b"
             ],
             [
              0.6666666666666666,
              "#ed7953"
             ],
             [
              0.7777777777777778,
              "#fb9f3a"
             ],
             [
              0.8888888888888888,
              "#fdca26"
             ],
             [
              1,
              "#f0f921"
             ]
            ],
            "type": "heatmapgl"
           }
          ],
          "histogram": [
           {
            "marker": {
             "pattern": {
              "fillmode": "overlay",
              "size": 10,
              "solidity": 0.2
             }
            },
            "type": "histogram"
           }
          ],
          "histogram2d": [
           {
            "colorbar": {
             "outlinewidth": 0,
             "ticks": ""
            },
            "colorscale": [
             [
              0,
              "#0d0887"
             ],
             [
              0.1111111111111111,
              "#46039f"
             ],
             [
              0.2222222222222222,
              "#7201a8"
             ],
             [
              0.3333333333333333,
              "#9c179e"
             ],
             [
              0.4444444444444444,
              "#bd3786"
             ],
             [
              0.5555555555555556,
              "#d8576b"
             ],
             [
              0.6666666666666666,
              "#ed7953"
             ],
             [
              0.7777777777777778,
              "#fb9f3a"
             ],
             [
              0.8888888888888888,
              "#fdca26"
             ],
             [
              1,
              "#f0f921"
             ]
            ],
            "type": "histogram2d"
           }
          ],
          "histogram2dcontour": [
           {
            "colorbar": {
             "outlinewidth": 0,
             "ticks": ""
            },
            "colorscale": [
             [
              0,
              "#0d0887"
             ],
             [
              0.1111111111111111,
              "#46039f"
             ],
             [
              0.2222222222222222,
              "#7201a8"
             ],
             [
              0.3333333333333333,
              "#9c179e"
             ],
             [
              0.4444444444444444,
              "#bd3786"
             ],
             [
              0.5555555555555556,
              "#d8576b"
             ],
             [
              0.6666666666666666,
              "#ed7953"
             ],
             [
              0.7777777777777778,
              "#fb9f3a"
             ],
             [
              0.8888888888888888,
              "#fdca26"
             ],
             [
              1,
              "#f0f921"
             ]
            ],
            "type": "histogram2dcontour"
           }
          ],
          "mesh3d": [
           {
            "colorbar": {
             "outlinewidth": 0,
             "ticks": ""
            },
            "type": "mesh3d"
           }
          ],
          "parcoords": [
           {
            "line": {
             "colorbar": {
              "outlinewidth": 0,
              "ticks": ""
             }
            },
            "type": "parcoords"
           }
          ],
          "pie": [
           {
            "automargin": true,
            "type": "pie"
           }
          ],
          "scatter": [
           {
            "fillpattern": {
             "fillmode": "overlay",
             "size": 10,
             "solidity": 0.2
            },
            "type": "scatter"
           }
          ],
          "scatter3d": [
           {
            "line": {
             "colorbar": {
              "outlinewidth": 0,
              "ticks": ""
             }
            },
            "marker": {
             "colorbar": {
              "outlinewidth": 0,
              "ticks": ""
             }
            },
            "type": "scatter3d"
           }
          ],
          "scattercarpet": [
           {
            "marker": {
             "colorbar": {
              "outlinewidth": 0,
              "ticks": ""
             }
            },
            "type": "scattercarpet"
           }
          ],
          "scattergeo": [
           {
            "marker": {
             "colorbar": {
              "outlinewidth": 0,
              "ticks": ""
             }
            },
            "type": "scattergeo"
           }
          ],
          "scattergl": [
           {
            "marker": {
             "colorbar": {
              "outlinewidth": 0,
              "ticks": ""
             }
            },
            "type": "scattergl"
           }
          ],
          "scattermapbox": [
           {
            "marker": {
             "colorbar": {
              "outlinewidth": 0,
              "ticks": ""
             }
            },
            "type": "scattermapbox"
           }
          ],
          "scatterpolar": [
           {
            "marker": {
             "colorbar": {
              "outlinewidth": 0,
              "ticks": ""
             }
            },
            "type": "scatterpolar"
           }
          ],
          "scatterpolargl": [
           {
            "marker": {
             "colorbar": {
              "outlinewidth": 0,
              "ticks": ""
             }
            },
            "type": "scatterpolargl"
           }
          ],
          "scatterternary": [
           {
            "marker": {
             "colorbar": {
              "outlinewidth": 0,
              "ticks": ""
             }
            },
            "type": "scatterternary"
           }
          ],
          "surface": [
           {
            "colorbar": {
             "outlinewidth": 0,
             "ticks": ""
            },
            "colorscale": [
             [
              0,
              "#0d0887"
             ],
             [
              0.1111111111111111,
              "#46039f"
             ],
             [
              0.2222222222222222,
              "#7201a8"
             ],
             [
              0.3333333333333333,
              "#9c179e"
             ],
             [
              0.4444444444444444,
              "#bd3786"
             ],
             [
              0.5555555555555556,
              "#d8576b"
             ],
             [
              0.6666666666666666,
              "#ed7953"
             ],
             [
              0.7777777777777778,
              "#fb9f3a"
             ],
             [
              0.8888888888888888,
              "#fdca26"
             ],
             [
              1,
              "#f0f921"
             ]
            ],
            "type": "surface"
           }
          ],
          "table": [
           {
            "cells": {
             "fill": {
              "color": "#EBF0F8"
             },
             "line": {
              "color": "white"
             }
            },
            "header": {
             "fill": {
              "color": "#C8D4E3"
             },
             "line": {
              "color": "white"
             }
            },
            "type": "table"
           }
          ]
         },
         "layout": {
          "annotationdefaults": {
           "arrowcolor": "#2a3f5f",
           "arrowhead": 0,
           "arrowwidth": 1
          },
          "autotypenumbers": "strict",
          "coloraxis": {
           "colorbar": {
            "outlinewidth": 0,
            "ticks": ""
           }
          },
          "colorscale": {
           "diverging": [
            [
             0,
             "#8e0152"
            ],
            [
             0.1,
             "#c51b7d"
            ],
            [
             0.2,
             "#de77ae"
            ],
            [
             0.3,
             "#f1b6da"
            ],
            [
             0.4,
             "#fde0ef"
            ],
            [
             0.5,
             "#f7f7f7"
            ],
            [
             0.6,
             "#e6f5d0"
            ],
            [
             0.7,
             "#b8e186"
            ],
            [
             0.8,
             "#7fbc41"
            ],
            [
             0.9,
             "#4d9221"
            ],
            [
             1,
             "#276419"
            ]
           ],
           "sequential": [
            [
             0,
             "#0d0887"
            ],
            [
             0.1111111111111111,
             "#46039f"
            ],
            [
             0.2222222222222222,
             "#7201a8"
            ],
            [
             0.3333333333333333,
             "#9c179e"
            ],
            [
             0.4444444444444444,
             "#bd3786"
            ],
            [
             0.5555555555555556,
             "#d8576b"
            ],
            [
             0.6666666666666666,
             "#ed7953"
            ],
            [
             0.7777777777777778,
             "#fb9f3a"
            ],
            [
             0.8888888888888888,
             "#fdca26"
            ],
            [
             1,
             "#f0f921"
            ]
           ],
           "sequentialminus": [
            [
             0,
             "#0d0887"
            ],
            [
             0.1111111111111111,
             "#46039f"
            ],
            [
             0.2222222222222222,
             "#7201a8"
            ],
            [
             0.3333333333333333,
             "#9c179e"
            ],
            [
             0.4444444444444444,
             "#bd3786"
            ],
            [
             0.5555555555555556,
             "#d8576b"
            ],
            [
             0.6666666666666666,
             "#ed7953"
            ],
            [
             0.7777777777777778,
             "#fb9f3a"
            ],
            [
             0.8888888888888888,
             "#fdca26"
            ],
            [
             1,
             "#f0f921"
            ]
           ]
          },
          "colorway": [
           "#636efa",
           "#EF553B",
           "#00cc96",
           "#ab63fa",
           "#FFA15A",
           "#19d3f3",
           "#FF6692",
           "#B6E880",
           "#FF97FF",
           "#FECB52"
          ],
          "font": {
           "color": "#2a3f5f"
          },
          "geo": {
           "bgcolor": "white",
           "lakecolor": "white",
           "landcolor": "#E5ECF6",
           "showlakes": true,
           "showland": true,
           "subunitcolor": "white"
          },
          "hoverlabel": {
           "align": "left"
          },
          "hovermode": "closest",
          "mapbox": {
           "style": "light"
          },
          "paper_bgcolor": "white",
          "plot_bgcolor": "#E5ECF6",
          "polar": {
           "angularaxis": {
            "gridcolor": "white",
            "linecolor": "white",
            "ticks": ""
           },
           "bgcolor": "#E5ECF6",
           "radialaxis": {
            "gridcolor": "white",
            "linecolor": "white",
            "ticks": ""
           }
          },
          "scene": {
           "xaxis": {
            "backgroundcolor": "#E5ECF6",
            "gridcolor": "white",
            "gridwidth": 2,
            "linecolor": "white",
            "showbackground": true,
            "ticks": "",
            "zerolinecolor": "white"
           },
           "yaxis": {
            "backgroundcolor": "#E5ECF6",
            "gridcolor": "white",
            "gridwidth": 2,
            "linecolor": "white",
            "showbackground": true,
            "ticks": "",
            "zerolinecolor": "white"
           },
           "zaxis": {
            "backgroundcolor": "#E5ECF6",
            "gridcolor": "white",
            "gridwidth": 2,
            "linecolor": "white",
            "showbackground": true,
            "ticks": "",
            "zerolinecolor": "white"
           }
          },
          "shapedefaults": {
           "line": {
            "color": "#2a3f5f"
           }
          },
          "ternary": {
           "aaxis": {
            "gridcolor": "white",
            "linecolor": "white",
            "ticks": ""
           },
           "baxis": {
            "gridcolor": "white",
            "linecolor": "white",
            "ticks": ""
           },
           "bgcolor": "#E5ECF6",
           "caxis": {
            "gridcolor": "white",
            "linecolor": "white",
            "ticks": ""
           }
          },
          "title": {
           "x": 0.05
          },
          "xaxis": {
           "automargin": true,
           "gridcolor": "white",
           "linecolor": "white",
           "ticks": "",
           "title": {
            "standoff": 15
           },
           "zerolinecolor": "white",
           "zerolinewidth": 2
          },
          "yaxis": {
           "automargin": true,
           "gridcolor": "white",
           "linecolor": "white",
           "ticks": "",
           "title": {
            "standoff": 15
           },
           "zerolinecolor": "white",
           "zerolinewidth": 2
          }
         }
        },
        "title": {
         "text": "Best Authors"
        },
        "xaxis": {
         "anchor": "y",
         "domain": [
          0,
          1
         ],
         "title": {
          "text": "author"
         }
        },
        "yaxis": {
         "anchor": "x",
         "domain": [
          0,
          1
         ],
         "title": {
          "text": "value"
         }
        }
       }
      }
     },
     "metadata": {},
     "output_type": "display_data"
    }
   ],
   "source": [
    "import plotly.express as px\n",
    "\n",
    "\n",
    "best_author_plot = best_author[\n",
    "    (best_author['accuracy'] >= 0.70)\n",
    "].sort_values('total_articles', ascending=False).head(25)\n",
    "best_author_plot['total_articles'] = best_author_plot['total_articles'] / 100\n",
    "\n",
    "px.bar(\n",
    "    best_author_plot,\n",
    "    x='author', y=['total_articles', 'accuracy'], title='Best Authors'\n",
    ")\n",
    "\n"
   ]
  },
  {
   "cell_type": "code",
   "execution_count": null,
   "metadata": {},
   "outputs": [],
   "source": []
  },
  {
   "cell_type": "code",
   "execution_count": 60,
   "metadata": {},
   "outputs": [
    {
     "data": {
      "text/html": [
       "<div>\n",
       "<style scoped>\n",
       "    .dataframe tbody tr th:only-of-type {\n",
       "        vertical-align: middle;\n",
       "    }\n",
       "\n",
       "    .dataframe tbody tr th {\n",
       "        vertical-align: top;\n",
       "    }\n",
       "\n",
       "    .dataframe thead th {\n",
       "        text-align: right;\n",
       "    }\n",
       "</style>\n",
       "<table border=\"1\" class=\"dataframe\">\n",
       "  <thead>\n",
       "    <tr style=\"text-align: right;\">\n",
       "      <th></th>\n",
       "      <th>url</th>\n",
       "      <th>precision</th>\n",
       "      <th>recall</th>\n",
       "      <th>f1</th>\n",
       "      <th>accuracy</th>\n",
       "      <th>total_correct</th>\n",
       "      <th>total_articles</th>\n",
       "    </tr>\n",
       "  </thead>\n",
       "  <tbody>\n",
       "    <tr>\n",
       "      <th>975</th>\n",
       "      <td>www.wallstreet-online.de</td>\n",
       "      <td>1.0</td>\n",
       "      <td>0.666667</td>\n",
       "      <td>0.800000</td>\n",
       "      <td>0.750000</td>\n",
       "      <td>9.0</td>\n",
       "      <td>12.0</td>\n",
       "    </tr>\n",
       "    <tr>\n",
       "      <th>722</th>\n",
       "      <td>www.kake.com</td>\n",
       "      <td>1.0</td>\n",
       "      <td>0.571429</td>\n",
       "      <td>0.727273</td>\n",
       "      <td>0.727273</td>\n",
       "      <td>8.0</td>\n",
       "      <td>11.0</td>\n",
       "    </tr>\n",
       "    <tr>\n",
       "      <th>707</th>\n",
       "      <td>www.investingdaily.com</td>\n",
       "      <td>0.8</td>\n",
       "      <td>0.800000</td>\n",
       "      <td>0.800000</td>\n",
       "      <td>0.800000</td>\n",
       "      <td>8.0</td>\n",
       "      <td>10.0</td>\n",
       "    </tr>\n",
       "    <tr>\n",
       "      <th>591</th>\n",
       "      <td>www.commdiginews.com</td>\n",
       "      <td>1.0</td>\n",
       "      <td>0.750000</td>\n",
       "      <td>0.857143</td>\n",
       "      <td>0.888889</td>\n",
       "      <td>8.0</td>\n",
       "      <td>9.0</td>\n",
       "    </tr>\n",
       "    <tr>\n",
       "      <th>776</th>\n",
       "      <td>www.massdevice.com</td>\n",
       "      <td>1.0</td>\n",
       "      <td>1.000000</td>\n",
       "      <td>1.000000</td>\n",
       "      <td>1.000000</td>\n",
       "      <td>9.0</td>\n",
       "      <td>9.0</td>\n",
       "    </tr>\n",
       "    <tr>\n",
       "      <th>853</th>\n",
       "      <td>www.prnewswire.co.uk</td>\n",
       "      <td>1.0</td>\n",
       "      <td>0.666667</td>\n",
       "      <td>0.800000</td>\n",
       "      <td>0.857143</td>\n",
       "      <td>6.0</td>\n",
       "      <td>7.0</td>\n",
       "    </tr>\n",
       "    <tr>\n",
       "      <th>72</th>\n",
       "      <td>citywire.co.uk</td>\n",
       "      <td>1.0</td>\n",
       "      <td>1.000000</td>\n",
       "      <td>1.000000</td>\n",
       "      <td>1.000000</td>\n",
       "      <td>6.0</td>\n",
       "      <td>6.0</td>\n",
       "    </tr>\n",
       "    <tr>\n",
       "      <th>748</th>\n",
       "      <td>www.latestcommentary.com</td>\n",
       "      <td>1.0</td>\n",
       "      <td>0.666667</td>\n",
       "      <td>0.800000</td>\n",
       "      <td>0.750000</td>\n",
       "      <td>3.0</td>\n",
       "      <td>4.0</td>\n",
       "    </tr>\n",
       "    <tr>\n",
       "      <th>551</th>\n",
       "      <td>www.briefreport.co.uk</td>\n",
       "      <td>1.0</td>\n",
       "      <td>1.000000</td>\n",
       "      <td>1.000000</td>\n",
       "      <td>1.000000</td>\n",
       "      <td>4.0</td>\n",
       "      <td>4.0</td>\n",
       "    </tr>\n",
       "    <tr>\n",
       "      <th>23</th>\n",
       "      <td>americanstocktrader.com</td>\n",
       "      <td>1.0</td>\n",
       "      <td>1.000000</td>\n",
       "      <td>1.000000</td>\n",
       "      <td>1.000000</td>\n",
       "      <td>3.0</td>\n",
       "      <td>3.0</td>\n",
       "    </tr>\n",
       "    <tr>\n",
       "      <th>675</th>\n",
       "      <td>www.globalbankingandfinance.com</td>\n",
       "      <td>1.0</td>\n",
       "      <td>0.666667</td>\n",
       "      <td>0.800000</td>\n",
       "      <td>0.666667</td>\n",
       "      <td>2.0</td>\n",
       "      <td>3.0</td>\n",
       "    </tr>\n",
       "    <tr>\n",
       "      <th>759</th>\n",
       "      <td>www.lopinion.fr</td>\n",
       "      <td>1.0</td>\n",
       "      <td>0.666667</td>\n",
       "      <td>0.800000</td>\n",
       "      <td>0.666667</td>\n",
       "      <td>2.0</td>\n",
       "      <td>3.0</td>\n",
       "    </tr>\n",
       "    <tr>\n",
       "      <th>968</th>\n",
       "      <td>www.valuewalk.com</td>\n",
       "      <td>1.0</td>\n",
       "      <td>1.000000</td>\n",
       "      <td>1.000000</td>\n",
       "      <td>1.000000</td>\n",
       "      <td>3.0</td>\n",
       "      <td>3.0</td>\n",
       "    </tr>\n",
       "    <tr>\n",
       "      <th>298</th>\n",
       "      <td>newsbroadcastnetwork.com</td>\n",
       "      <td>1.0</td>\n",
       "      <td>1.000000</td>\n",
       "      <td>1.000000</td>\n",
       "      <td>1.000000</td>\n",
       "      <td>3.0</td>\n",
       "      <td>3.0</td>\n",
       "    </tr>\n",
       "    <tr>\n",
       "      <th>429</th>\n",
       "      <td>trading.co.uk</td>\n",
       "      <td>1.0</td>\n",
       "      <td>1.000000</td>\n",
       "      <td>1.000000</td>\n",
       "      <td>1.000000</td>\n",
       "      <td>2.0</td>\n",
       "      <td>2.0</td>\n",
       "    </tr>\n",
       "    <tr>\n",
       "      <th>819</th>\n",
       "      <td>www.newsnet5.com</td>\n",
       "      <td>1.0</td>\n",
       "      <td>1.000000</td>\n",
       "      <td>1.000000</td>\n",
       "      <td>1.000000</td>\n",
       "      <td>2.0</td>\n",
       "      <td>2.0</td>\n",
       "    </tr>\n",
       "    <tr>\n",
       "      <th>858</th>\n",
       "      <td>www.proactiveinvestors.com.au</td>\n",
       "      <td>1.0</td>\n",
       "      <td>1.000000</td>\n",
       "      <td>1.000000</td>\n",
       "      <td>1.000000</td>\n",
       "      <td>2.0</td>\n",
       "      <td>2.0</td>\n",
       "    </tr>\n",
       "    <tr>\n",
       "      <th>939</th>\n",
       "      <td>www.therussophile.org</td>\n",
       "      <td>1.0</td>\n",
       "      <td>1.000000</td>\n",
       "      <td>1.000000</td>\n",
       "      <td>1.000000</td>\n",
       "      <td>2.0</td>\n",
       "      <td>2.0</td>\n",
       "    </tr>\n",
       "    <tr>\n",
       "      <th>564</th>\n",
       "      <td>www.capitalessence.com</td>\n",
       "      <td>1.0</td>\n",
       "      <td>1.000000</td>\n",
       "      <td>1.000000</td>\n",
       "      <td>1.000000</td>\n",
       "      <td>2.0</td>\n",
       "      <td>2.0</td>\n",
       "    </tr>\n",
       "    <tr>\n",
       "      <th>503</th>\n",
       "      <td>www.abc15.com</td>\n",
       "      <td>1.0</td>\n",
       "      <td>1.000000</td>\n",
       "      <td>1.000000</td>\n",
       "      <td>1.000000</td>\n",
       "      <td>2.0</td>\n",
       "      <td>2.0</td>\n",
       "    </tr>\n",
       "    <tr>\n",
       "      <th>1025</th>\n",
       "      <td>www.xconomy.com</td>\n",
       "      <td>1.0</td>\n",
       "      <td>1.000000</td>\n",
       "      <td>1.000000</td>\n",
       "      <td>1.000000</td>\n",
       "      <td>2.0</td>\n",
       "      <td>2.0</td>\n",
       "    </tr>\n",
       "    <tr>\n",
       "      <th>232</th>\n",
       "      <td>latestcommentary.com</td>\n",
       "      <td>1.0</td>\n",
       "      <td>1.000000</td>\n",
       "      <td>1.000000</td>\n",
       "      <td>1.000000</td>\n",
       "      <td>2.0</td>\n",
       "      <td>2.0</td>\n",
       "    </tr>\n",
       "    <tr>\n",
       "      <th>220</th>\n",
       "      <td>kdvr.com</td>\n",
       "      <td>1.0</td>\n",
       "      <td>1.000000</td>\n",
       "      <td>1.000000</td>\n",
       "      <td>1.000000</td>\n",
       "      <td>2.0</td>\n",
       "      <td>2.0</td>\n",
       "    </tr>\n",
       "    <tr>\n",
       "      <th>157</th>\n",
       "      <td>globalcoinreport.com</td>\n",
       "      <td>1.0</td>\n",
       "      <td>1.000000</td>\n",
       "      <td>1.000000</td>\n",
       "      <td>1.000000</td>\n",
       "      <td>2.0</td>\n",
       "      <td>2.0</td>\n",
       "    </tr>\n",
       "    <tr>\n",
       "      <th>233</th>\n",
       "      <td>lawyer800marketing.com</td>\n",
       "      <td>1.0</td>\n",
       "      <td>1.000000</td>\n",
       "      <td>1.000000</td>\n",
       "      <td>1.000000</td>\n",
       "      <td>2.0</td>\n",
       "      <td>2.0</td>\n",
       "    </tr>\n",
       "  </tbody>\n",
       "</table>\n",
       "</div>"
      ],
      "text/plain": [
       "                                  url  precision    recall        f1  \\\n",
       "975          www.wallstreet-online.de        1.0  0.666667  0.800000   \n",
       "722                      www.kake.com        1.0  0.571429  0.727273   \n",
       "707            www.investingdaily.com        0.8  0.800000  0.800000   \n",
       "591              www.commdiginews.com        1.0  0.750000  0.857143   \n",
       "776                www.massdevice.com        1.0  1.000000  1.000000   \n",
       "853              www.prnewswire.co.uk        1.0  0.666667  0.800000   \n",
       "72                     citywire.co.uk        1.0  1.000000  1.000000   \n",
       "748          www.latestcommentary.com        1.0  0.666667  0.800000   \n",
       "551             www.briefreport.co.uk        1.0  1.000000  1.000000   \n",
       "23            americanstocktrader.com        1.0  1.000000  1.000000   \n",
       "675   www.globalbankingandfinance.com        1.0  0.666667  0.800000   \n",
       "759                   www.lopinion.fr        1.0  0.666667  0.800000   \n",
       "968                 www.valuewalk.com        1.0  1.000000  1.000000   \n",
       "298          newsbroadcastnetwork.com        1.0  1.000000  1.000000   \n",
       "429                     trading.co.uk        1.0  1.000000  1.000000   \n",
       "819                  www.newsnet5.com        1.0  1.000000  1.000000   \n",
       "858     www.proactiveinvestors.com.au        1.0  1.000000  1.000000   \n",
       "939             www.therussophile.org        1.0  1.000000  1.000000   \n",
       "564            www.capitalessence.com        1.0  1.000000  1.000000   \n",
       "503                     www.abc15.com        1.0  1.000000  1.000000   \n",
       "1025                  www.xconomy.com        1.0  1.000000  1.000000   \n",
       "232              latestcommentary.com        1.0  1.000000  1.000000   \n",
       "220                          kdvr.com        1.0  1.000000  1.000000   \n",
       "157              globalcoinreport.com        1.0  1.000000  1.000000   \n",
       "233            lawyer800marketing.com        1.0  1.000000  1.000000   \n",
       "\n",
       "      accuracy  total_correct  total_articles  \n",
       "975   0.750000            9.0            12.0  \n",
       "722   0.727273            8.0            11.0  \n",
       "707   0.800000            8.0            10.0  \n",
       "591   0.888889            8.0             9.0  \n",
       "776   1.000000            9.0             9.0  \n",
       "853   0.857143            6.0             7.0  \n",
       "72    1.000000            6.0             6.0  \n",
       "748   0.750000            3.0             4.0  \n",
       "551   1.000000            4.0             4.0  \n",
       "23    1.000000            3.0             3.0  \n",
       "675   0.666667            2.0             3.0  \n",
       "759   0.666667            2.0             3.0  \n",
       "968   1.000000            3.0             3.0  \n",
       "298   1.000000            3.0             3.0  \n",
       "429   1.000000            2.0             2.0  \n",
       "819   1.000000            2.0             2.0  \n",
       "858   1.000000            2.0             2.0  \n",
       "939   1.000000            2.0             2.0  \n",
       "564   1.000000            2.0             2.0  \n",
       "503   1.000000            2.0             2.0  \n",
       "1025  1.000000            2.0             2.0  \n",
       "232   1.000000            2.0             2.0  \n",
       "220   1.000000            2.0             2.0  \n",
       "157   1.000000            2.0             2.0  \n",
       "233   1.000000            2.0             2.0  "
      ]
     },
     "execution_count": 60,
     "metadata": {},
     "output_type": "execute_result"
    }
   ],
   "source": [
    "best_url[\n",
    "    (best_url['accuracy'] >= 0.70)\n",
    "].sort_values('total_articles', ascending=False).head(25)"
   ]
  },
  {
   "cell_type": "code",
   "execution_count": null,
   "metadata": {},
   "outputs": [],
   "source": []
  },
  {
   "cell_type": "code",
   "execution_count": null,
   "metadata": {},
   "outputs": [],
   "source": []
  },
  {
   "cell_type": "code",
   "execution_count": null,
   "metadata": {},
   "outputs": [],
   "source": []
  },
  {
   "cell_type": "code",
   "execution_count": null,
   "metadata": {},
   "outputs": [],
   "source": []
  },
  {
   "cell_type": "code",
   "execution_count": null,
   "metadata": {},
   "outputs": [],
   "source": []
  }
 ],
 "metadata": {
  "kernelspec": {
   "display_name": "Python 3.10.3 64-bit ('3.10.3')",
   "language": "python",
   "name": "python3"
  },
  "language_info": {
   "codemirror_mode": {
    "name": "ipython",
    "version": 3
   },
   "file_extension": ".py",
   "mimetype": "text/x-python",
   "name": "python",
   "nbconvert_exporter": "python",
   "pygments_lexer": "ipython3",
   "version": "3.10.3"
  },
  "orig_nbformat": 4,
  "vscode": {
   "interpreter": {
    "hash": "1e63a04e56f32d87b8c894c3ab66cb38310fd68c9d59dec2a9fa7fc3194d1496"
   }
  }
 },
 "nbformat": 4,
 "nbformat_minor": 2
}
