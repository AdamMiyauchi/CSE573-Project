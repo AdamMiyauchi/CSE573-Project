{
 "cells": [
  {
   "cell_type": "code",
   "execution_count": 1,
   "metadata": {},
   "outputs": [],
   "source": [
    "import pandas as pd\n",
    "import numpy as np\n",
    "def warn(*args, **kwargs):\n",
    "    pass\n",
    "import warnings\n",
    "warnings.warn = warn\n",
    "from sklearn.model_selection import TimeSeriesSplit, train_test_split, KFold, cross_validate\n",
    "from sklearn.linear_model import LogisticRegression\n",
    "from sklearn.metrics import classification_report\n",
    "from sklearn.preprocessing import StandardScaler, MinMaxScaler, PowerTransformer\n",
    "import matplotlib.pyplot as plt\n",
    "\n",
    "# Library configuration\n",
    "from IPython.core.interactiveshell import InteractiveShell\n",
    "InteractiveShell.ast_node_interactivity = 'all'\n",
    "# Set output options\n",
    "pd.set_option('display.max_columns', 3000)\n",
    "pd.options.display.max_rows = 999"
   ]
  },
  {
   "cell_type": "code",
   "execution_count": 2,
   "metadata": {},
   "outputs": [
    {
     "data": {
      "text/plain": [
       "(69622, 55)"
      ]
     },
     "execution_count": 2,
     "metadata": {},
     "output_type": "execute_result"
    },
    {
     "name": "stdout",
     "output_type": "stream",
     "text": [
      "AAPL:\n"
     ]
    },
    {
     "data": {
      "text/html": [
       "<div>\n",
       "<style scoped>\n",
       "    .dataframe tbody tr th:only-of-type {\n",
       "        vertical-align: middle;\n",
       "    }\n",
       "\n",
       "    .dataframe tbody tr th {\n",
       "        vertical-align: top;\n",
       "    }\n",
       "\n",
       "    .dataframe thead th {\n",
       "        text-align: right;\n",
       "    }\n",
       "</style>\n",
       "<table border=\"1\" class=\"dataframe\">\n",
       "  <thead>\n",
       "    <tr style=\"text-align: right;\">\n",
       "      <th></th>\n",
       "      <th>uuid</th>\n",
       "      <th>author</th>\n",
       "      <th>url</th>\n",
       "      <th>title</th>\n",
       "      <th>language</th>\n",
       "      <th>text</th>\n",
       "      <th>published</th>\n",
       "      <th>title_aapl</th>\n",
       "      <th>text_aapl</th>\n",
       "      <th>title_amzn</th>\n",
       "      <th>text_amzn</th>\n",
       "      <th>title_posSent</th>\n",
       "      <th>title_neg_sent</th>\n",
       "      <th>title_net_sent</th>\n",
       "      <th>text_pos_sent</th>\n",
       "      <th>text_neg_sent</th>\n",
       "      <th>text_net_sent</th>\n",
       "      <th>entity_pos_sent</th>\n",
       "      <th>entity_neg_sent</th>\n",
       "      <th>entity_net_sent</th>\n",
       "      <th>title_entities</th>\n",
       "      <th>text_entities</th>\n",
       "      <th>prediction_date</th>\n",
       "      <th>open</th>\n",
       "      <th>high</th>\n",
       "      <th>low</th>\n",
       "      <th>close</th>\n",
       "      <th>volume</th>\n",
       "      <th>direction</th>\n",
       "      <th>pct_chng</th>\n",
       "      <th>prevClose_1</th>\n",
       "      <th>prevClose_2</th>\n",
       "      <th>prevClose_3</th>\n",
       "      <th>prevClose_4</th>\n",
       "      <th>prevClose_5</th>\n",
       "      <th>prevClose_6</th>\n",
       "      <th>prevClose_7</th>\n",
       "      <th>prevClose_8</th>\n",
       "      <th>prevClose_9</th>\n",
       "      <th>prevClose_10</th>\n",
       "      <th>prevClose_11</th>\n",
       "      <th>prevClose_12</th>\n",
       "      <th>prevClose_13</th>\n",
       "      <th>prevClose_14</th>\n",
       "      <th>prevClose_15</th>\n",
       "      <th>prevClose_16</th>\n",
       "      <th>prevClose_17</th>\n",
       "      <th>prevClose_18</th>\n",
       "      <th>prevClose_19</th>\n",
       "      <th>prevClose_20</th>\n",
       "      <th>prevClose_21</th>\n",
       "      <th>prevClose_22</th>\n",
       "      <th>prevClose_23</th>\n",
       "      <th>prevClose_24</th>\n",
       "      <th>prevClose_25</th>\n",
       "    </tr>\n",
       "  </thead>\n",
       "  <tbody>\n",
       "    <tr>\n",
       "      <th>0</th>\n",
       "      <td>3f884eef1ee888c2053c8eed3dda913e54a568f9</td>\n",
       "      <td>admin</td>\n",
       "      <td>http://www.wallstreetreporter.com/2018/09/the-...</td>\n",
       "      <td>The evidence is mounting that Apple&amp;apos;s nex...</td>\n",
       "      <td>english</td>\n",
       "      <td>September 2, 2018 admin Trading Ideas Comments...</td>\n",
       "      <td>2018-09-02 12:00:00+00:00</td>\n",
       "      <td>True</td>\n",
       "      <td>True</td>\n",
       "      <td>False</td>\n",
       "      <td>False</td>\n",
       "      <td>0.292428</td>\n",
       "      <td>0.009908</td>\n",
       "      <td>0.697664</td>\n",
       "      <td>0.041162</td>\n",
       "      <td>0.033188</td>\n",
       "      <td>0.925649</td>\n",
       "      <td>0.096885</td>\n",
       "      <td>0.029284</td>\n",
       "      <td>0.873831</td>\n",
       "      <td>[{'entity_group': 'ORG', 'score': 0.86504984, ...</td>\n",
       "      <td>[{'entity_group': 'MISC', 'score': 0.8753462, ...</td>\n",
       "      <td>2018-09-04</td>\n",
       "      <td>227.9</td>\n",
       "      <td>229.17</td>\n",
       "      <td>226.6</td>\n",
       "      <td>228.36</td>\n",
       "      <td>61218</td>\n",
       "      <td>1</td>\n",
       "      <td>0.201436</td>\n",
       "      <td>227.52</td>\n",
       "      <td>225.02</td>\n",
       "      <td>223.22</td>\n",
       "      <td>219.78</td>\n",
       "      <td>217.92</td>\n",
       "      <td>216.17</td>\n",
       "      <td>215.5</td>\n",
       "      <td>215.0</td>\n",
       "      <td>214.27</td>\n",
       "      <td>215.22</td>\n",
       "      <td>217.64</td>\n",
       "      <td>212.77</td>\n",
       "      <td>210.39</td>\n",
       "      <td>209.75</td>\n",
       "      <td>208.92</td>\n",
       "      <td>207.51</td>\n",
       "      <td>208.78</td>\n",
       "      <td>206.92</td>\n",
       "      <td>207.09</td>\n",
       "      <td>208.99</td>\n",
       "      <td>207.98</td>\n",
       "      <td>207.42</td>\n",
       "      <td>201.64</td>\n",
       "      <td>195.64</td>\n",
       "      <td>189.98</td>\n",
       "    </tr>\n",
       "    <tr>\n",
       "      <th>1</th>\n",
       "      <td>4bb3cfd0aaf0ffd7c843695d28a6c7f97c005f0a</td>\n",
       "      <td>Jon Swartz</td>\n",
       "      <td>https://www.barrons.com/articles/regulation-is...</td>\n",
       "      <td>Regulation Is the Risk as Facebook, Twitter, H...</td>\n",
       "      <td>english</td>\n",
       "      <td>Sheryl Sandberg, chief operating officer of Fa...</td>\n",
       "      <td>2018-08-31 18:33:00+00:00</td>\n",
       "      <td>False</td>\n",
       "      <td>True</td>\n",
       "      <td>False</td>\n",
       "      <td>False</td>\n",
       "      <td>0.038350</td>\n",
       "      <td>0.353034</td>\n",
       "      <td>0.608616</td>\n",
       "      <td>0.034434</td>\n",
       "      <td>0.238836</td>\n",
       "      <td>0.726730</td>\n",
       "      <td>0.037567</td>\n",
       "      <td>0.514139</td>\n",
       "      <td>0.448294</td>\n",
       "      <td>[{'entity_group': 'MISC', 'score': 0.934303, '...</td>\n",
       "      <td>[{'entity_group': 'PER', 'score': 0.998726, 'w...</td>\n",
       "      <td>2018-09-04</td>\n",
       "      <td>227.9</td>\n",
       "      <td>229.17</td>\n",
       "      <td>226.6</td>\n",
       "      <td>228.36</td>\n",
       "      <td>61218</td>\n",
       "      <td>1</td>\n",
       "      <td>0.201436</td>\n",
       "      <td>227.52</td>\n",
       "      <td>225.02</td>\n",
       "      <td>223.22</td>\n",
       "      <td>219.78</td>\n",
       "      <td>217.92</td>\n",
       "      <td>216.17</td>\n",
       "      <td>215.5</td>\n",
       "      <td>215.0</td>\n",
       "      <td>214.27</td>\n",
       "      <td>215.22</td>\n",
       "      <td>217.64</td>\n",
       "      <td>212.77</td>\n",
       "      <td>210.39</td>\n",
       "      <td>209.75</td>\n",
       "      <td>208.92</td>\n",
       "      <td>207.51</td>\n",
       "      <td>208.78</td>\n",
       "      <td>206.92</td>\n",
       "      <td>207.09</td>\n",
       "      <td>208.99</td>\n",
       "      <td>207.98</td>\n",
       "      <td>207.42</td>\n",
       "      <td>201.64</td>\n",
       "      <td>195.64</td>\n",
       "      <td>189.98</td>\n",
       "    </tr>\n",
       "    <tr>\n",
       "      <th>2</th>\n",
       "      <td>0568ab64d8949b6aca4db001b1d3362d0721a618</td>\n",
       "      <td>PATRICK SEITZ</td>\n",
       "      <td>https://www.investors.com/news/technology/clic...</td>\n",
       "      <td>Apple Stock Gets Price-Target Hikes Ahead Of N...</td>\n",
       "      <td>english</td>\n",
       "      <td>With Apple stock trading near its all-time hig...</td>\n",
       "      <td>2018-09-04 00:00:00+00:00</td>\n",
       "      <td>True</td>\n",
       "      <td>True</td>\n",
       "      <td>False</td>\n",
       "      <td>False</td>\n",
       "      <td>0.538069</td>\n",
       "      <td>0.373904</td>\n",
       "      <td>0.088027</td>\n",
       "      <td>0.251128</td>\n",
       "      <td>0.019059</td>\n",
       "      <td>0.729814</td>\n",
       "      <td>0.608991</td>\n",
       "      <td>0.071097</td>\n",
       "      <td>0.319912</td>\n",
       "      <td>[{'entity_group': 'ORG', 'score': 0.9655371, '...</td>\n",
       "      <td>[{'entity_group': 'ORG', 'score': 0.7043, 'wor...</td>\n",
       "      <td>2018-09-04</td>\n",
       "      <td>227.9</td>\n",
       "      <td>229.17</td>\n",
       "      <td>226.6</td>\n",
       "      <td>228.36</td>\n",
       "      <td>61218</td>\n",
       "      <td>1</td>\n",
       "      <td>0.201436</td>\n",
       "      <td>227.52</td>\n",
       "      <td>225.02</td>\n",
       "      <td>223.22</td>\n",
       "      <td>219.78</td>\n",
       "      <td>217.92</td>\n",
       "      <td>216.17</td>\n",
       "      <td>215.5</td>\n",
       "      <td>215.0</td>\n",
       "      <td>214.27</td>\n",
       "      <td>215.22</td>\n",
       "      <td>217.64</td>\n",
       "      <td>212.77</td>\n",
       "      <td>210.39</td>\n",
       "      <td>209.75</td>\n",
       "      <td>208.92</td>\n",
       "      <td>207.51</td>\n",
       "      <td>208.78</td>\n",
       "      <td>206.92</td>\n",
       "      <td>207.09</td>\n",
       "      <td>208.99</td>\n",
       "      <td>207.98</td>\n",
       "      <td>207.42</td>\n",
       "      <td>201.64</td>\n",
       "      <td>195.64</td>\n",
       "      <td>189.98</td>\n",
       "    </tr>\n",
       "    <tr>\n",
       "      <th>3</th>\n",
       "      <td>21c864caa4c53bffae9b4674eebe93d99bed9ceb</td>\n",
       "      <td>NaN</td>\n",
       "      <td>https://www.barrons.com/articles/stocks-rise-a...</td>\n",
       "      <td>Stocks Rise, as Trade and Tech Remain Familiar...</td>\n",
       "      <td>english</td>\n",
       "      <td>President Trump was reported to be in favor of...</td>\n",
       "      <td>2018-09-01 02:55:00+00:00</td>\n",
       "      <td>False</td>\n",
       "      <td>True</td>\n",
       "      <td>False</td>\n",
       "      <td>True</td>\n",
       "      <td>0.233226</td>\n",
       "      <td>0.399302</td>\n",
       "      <td>0.367471</td>\n",
       "      <td>0.135174</td>\n",
       "      <td>0.062387</td>\n",
       "      <td>0.802438</td>\n",
       "      <td>0.701790</td>\n",
       "      <td>0.033941</td>\n",
       "      <td>0.264270</td>\n",
       "      <td>[{'entity_group': 'MISC', 'score': 0.480398, '...</td>\n",
       "      <td>[{'entity_group': 'PER', 'score': 0.98648983, ...</td>\n",
       "      <td>2018-09-04</td>\n",
       "      <td>227.9</td>\n",
       "      <td>229.17</td>\n",
       "      <td>226.6</td>\n",
       "      <td>228.36</td>\n",
       "      <td>61218</td>\n",
       "      <td>1</td>\n",
       "      <td>0.201436</td>\n",
       "      <td>227.52</td>\n",
       "      <td>225.02</td>\n",
       "      <td>223.22</td>\n",
       "      <td>219.78</td>\n",
       "      <td>217.92</td>\n",
       "      <td>216.17</td>\n",
       "      <td>215.5</td>\n",
       "      <td>215.0</td>\n",
       "      <td>214.27</td>\n",
       "      <td>215.22</td>\n",
       "      <td>217.64</td>\n",
       "      <td>212.77</td>\n",
       "      <td>210.39</td>\n",
       "      <td>209.75</td>\n",
       "      <td>208.92</td>\n",
       "      <td>207.51</td>\n",
       "      <td>208.78</td>\n",
       "      <td>206.92</td>\n",
       "      <td>207.09</td>\n",
       "      <td>208.99</td>\n",
       "      <td>207.98</td>\n",
       "      <td>207.42</td>\n",
       "      <td>201.64</td>\n",
       "      <td>195.64</td>\n",
       "      <td>189.98</td>\n",
       "    </tr>\n",
       "    <tr>\n",
       "      <th>4</th>\n",
       "      <td>aad9eb49815cbf6f6a85c1167868ef29f5649c5f</td>\n",
       "      <td>Ashraf Eassa, The Motley Fool</td>\n",
       "      <td>https://sg.finance.yahoo.com/news/tim-cook-hel...</td>\n",
       "      <td>How Tim Cook Has Helped Make Apple Shareholder...</td>\n",
       "      <td>english</td>\n",
       "      <td>Tim Cook became Apple 's (NASDAQ: AAPL) CEO on...</td>\n",
       "      <td>2018-09-01 06:05:00+00:00</td>\n",
       "      <td>True</td>\n",
       "      <td>True</td>\n",
       "      <td>False</td>\n",
       "      <td>False</td>\n",
       "      <td>0.214392</td>\n",
       "      <td>0.011442</td>\n",
       "      <td>0.774166</td>\n",
       "      <td>0.522637</td>\n",
       "      <td>0.050985</td>\n",
       "      <td>0.426378</td>\n",
       "      <td>0.343107</td>\n",
       "      <td>0.106315</td>\n",
       "      <td>0.550579</td>\n",
       "      <td>[{'entity_group': 'PER', 'score': 0.99408, 'wo...</td>\n",
       "      <td>[{'entity_group': 'PER', 'score': 0.9985752, '...</td>\n",
       "      <td>2018-09-04</td>\n",
       "      <td>227.9</td>\n",
       "      <td>229.17</td>\n",
       "      <td>226.6</td>\n",
       "      <td>228.36</td>\n",
       "      <td>61218</td>\n",
       "      <td>1</td>\n",
       "      <td>0.201436</td>\n",
       "      <td>227.52</td>\n",
       "      <td>225.02</td>\n",
       "      <td>223.22</td>\n",
       "      <td>219.78</td>\n",
       "      <td>217.92</td>\n",
       "      <td>216.17</td>\n",
       "      <td>215.5</td>\n",
       "      <td>215.0</td>\n",
       "      <td>214.27</td>\n",
       "      <td>215.22</td>\n",
       "      <td>217.64</td>\n",
       "      <td>212.77</td>\n",
       "      <td>210.39</td>\n",
       "      <td>209.75</td>\n",
       "      <td>208.92</td>\n",
       "      <td>207.51</td>\n",
       "      <td>208.78</td>\n",
       "      <td>206.92</td>\n",
       "      <td>207.09</td>\n",
       "      <td>208.99</td>\n",
       "      <td>207.98</td>\n",
       "      <td>207.42</td>\n",
       "      <td>201.64</td>\n",
       "      <td>195.64</td>\n",
       "      <td>189.98</td>\n",
       "    </tr>\n",
       "  </tbody>\n",
       "</table>\n",
       "</div>"
      ],
      "text/plain": [
       "                                       uuid                         author  \\\n",
       "0  3f884eef1ee888c2053c8eed3dda913e54a568f9                          admin   \n",
       "1  4bb3cfd0aaf0ffd7c843695d28a6c7f97c005f0a                     Jon Swartz   \n",
       "2  0568ab64d8949b6aca4db001b1d3362d0721a618                  PATRICK SEITZ   \n",
       "3  21c864caa4c53bffae9b4674eebe93d99bed9ceb                            NaN   \n",
       "4  aad9eb49815cbf6f6a85c1167868ef29f5649c5f  Ashraf Eassa, The Motley Fool   \n",
       "\n",
       "                                                 url  \\\n",
       "0  http://www.wallstreetreporter.com/2018/09/the-...   \n",
       "1  https://www.barrons.com/articles/regulation-is...   \n",
       "2  https://www.investors.com/news/technology/clic...   \n",
       "3  https://www.barrons.com/articles/stocks-rise-a...   \n",
       "4  https://sg.finance.yahoo.com/news/tim-cook-hel...   \n",
       "\n",
       "                                               title language  \\\n",
       "0  The evidence is mounting that Apple&apos;s nex...  english   \n",
       "1  Regulation Is the Risk as Facebook, Twitter, H...  english   \n",
       "2  Apple Stock Gets Price-Target Hikes Ahead Of N...  english   \n",
       "3  Stocks Rise, as Trade and Tech Remain Familiar...  english   \n",
       "4  How Tim Cook Has Helped Make Apple Shareholder...  english   \n",
       "\n",
       "                                                text  \\\n",
       "0  September 2, 2018 admin Trading Ideas Comments...   \n",
       "1  Sheryl Sandberg, chief operating officer of Fa...   \n",
       "2  With Apple stock trading near its all-time hig...   \n",
       "3  President Trump was reported to be in favor of...   \n",
       "4  Tim Cook became Apple 's (NASDAQ: AAPL) CEO on...   \n",
       "\n",
       "                   published  title_aapl  text_aapl  title_amzn  text_amzn  \\\n",
       "0  2018-09-02 12:00:00+00:00        True       True       False      False   \n",
       "1  2018-08-31 18:33:00+00:00       False       True       False      False   \n",
       "2  2018-09-04 00:00:00+00:00        True       True       False      False   \n",
       "3  2018-09-01 02:55:00+00:00       False       True       False       True   \n",
       "4  2018-09-01 06:05:00+00:00        True       True       False      False   \n",
       "\n",
       "   title_posSent  title_neg_sent  title_net_sent  text_pos_sent  \\\n",
       "0       0.292428        0.009908        0.697664       0.041162   \n",
       "1       0.038350        0.353034        0.608616       0.034434   \n",
       "2       0.538069        0.373904        0.088027       0.251128   \n",
       "3       0.233226        0.399302        0.367471       0.135174   \n",
       "4       0.214392        0.011442        0.774166       0.522637   \n",
       "\n",
       "   text_neg_sent  text_net_sent  entity_pos_sent  entity_neg_sent  \\\n",
       "0       0.033188       0.925649         0.096885         0.029284   \n",
       "1       0.238836       0.726730         0.037567         0.514139   \n",
       "2       0.019059       0.729814         0.608991         0.071097   \n",
       "3       0.062387       0.802438         0.701790         0.033941   \n",
       "4       0.050985       0.426378         0.343107         0.106315   \n",
       "\n",
       "   entity_net_sent                                     title_entities  \\\n",
       "0         0.873831  [{'entity_group': 'ORG', 'score': 0.86504984, ...   \n",
       "1         0.448294  [{'entity_group': 'MISC', 'score': 0.934303, '...   \n",
       "2         0.319912  [{'entity_group': 'ORG', 'score': 0.9655371, '...   \n",
       "3         0.264270  [{'entity_group': 'MISC', 'score': 0.480398, '...   \n",
       "4         0.550579  [{'entity_group': 'PER', 'score': 0.99408, 'wo...   \n",
       "\n",
       "                                       text_entities prediction_date   open  \\\n",
       "0  [{'entity_group': 'MISC', 'score': 0.8753462, ...      2018-09-04  227.9   \n",
       "1  [{'entity_group': 'PER', 'score': 0.998726, 'w...      2018-09-04  227.9   \n",
       "2  [{'entity_group': 'ORG', 'score': 0.7043, 'wor...      2018-09-04  227.9   \n",
       "3  [{'entity_group': 'PER', 'score': 0.98648983, ...      2018-09-04  227.9   \n",
       "4  [{'entity_group': 'PER', 'score': 0.9985752, '...      2018-09-04  227.9   \n",
       "\n",
       "     high    low   close  volume  direction  pct_chng  prevClose_1  \\\n",
       "0  229.17  226.6  228.36   61218          1  0.201436       227.52   \n",
       "1  229.17  226.6  228.36   61218          1  0.201436       227.52   \n",
       "2  229.17  226.6  228.36   61218          1  0.201436       227.52   \n",
       "3  229.17  226.6  228.36   61218          1  0.201436       227.52   \n",
       "4  229.17  226.6  228.36   61218          1  0.201436       227.52   \n",
       "\n",
       "   prevClose_2  prevClose_3  prevClose_4  prevClose_5  prevClose_6  \\\n",
       "0       225.02       223.22       219.78       217.92       216.17   \n",
       "1       225.02       223.22       219.78       217.92       216.17   \n",
       "2       225.02       223.22       219.78       217.92       216.17   \n",
       "3       225.02       223.22       219.78       217.92       216.17   \n",
       "4       225.02       223.22       219.78       217.92       216.17   \n",
       "\n",
       "   prevClose_7  prevClose_8  prevClose_9  prevClose_10  prevClose_11  \\\n",
       "0        215.5        215.0       214.27        215.22        217.64   \n",
       "1        215.5        215.0       214.27        215.22        217.64   \n",
       "2        215.5        215.0       214.27        215.22        217.64   \n",
       "3        215.5        215.0       214.27        215.22        217.64   \n",
       "4        215.5        215.0       214.27        215.22        217.64   \n",
       "\n",
       "   prevClose_12  prevClose_13  prevClose_14  prevClose_15  prevClose_16  \\\n",
       "0        212.77        210.39        209.75        208.92        207.51   \n",
       "1        212.77        210.39        209.75        208.92        207.51   \n",
       "2        212.77        210.39        209.75        208.92        207.51   \n",
       "3        212.77        210.39        209.75        208.92        207.51   \n",
       "4        212.77        210.39        209.75        208.92        207.51   \n",
       "\n",
       "   prevClose_17  prevClose_18  prevClose_19  prevClose_20  prevClose_21  \\\n",
       "0        208.78        206.92        207.09        208.99        207.98   \n",
       "1        208.78        206.92        207.09        208.99        207.98   \n",
       "2        208.78        206.92        207.09        208.99        207.98   \n",
       "3        208.78        206.92        207.09        208.99        207.98   \n",
       "4        208.78        206.92        207.09        208.99        207.98   \n",
       "\n",
       "   prevClose_22  prevClose_23  prevClose_24  prevClose_25  \n",
       "0        207.42        201.64        195.64        189.98  \n",
       "1        207.42        201.64        195.64        189.98  \n",
       "2        207.42        201.64        195.64        189.98  \n",
       "3        207.42        201.64        195.64        189.98  \n",
       "4        207.42        201.64        195.64        189.98  "
      ]
     },
     "execution_count": 2,
     "metadata": {},
     "output_type": "execute_result"
    },
    {
     "data": {
      "text/plain": [
       "(19079, 55)"
      ]
     },
     "execution_count": 2,
     "metadata": {},
     "output_type": "execute_result"
    },
    {
     "name": "stdout",
     "output_type": "stream",
     "text": [
      "AMZN:\n"
     ]
    },
    {
     "data": {
      "text/html": [
       "<div>\n",
       "<style scoped>\n",
       "    .dataframe tbody tr th:only-of-type {\n",
       "        vertical-align: middle;\n",
       "    }\n",
       "\n",
       "    .dataframe tbody tr th {\n",
       "        vertical-align: top;\n",
       "    }\n",
       "\n",
       "    .dataframe thead th {\n",
       "        text-align: right;\n",
       "    }\n",
       "</style>\n",
       "<table border=\"1\" class=\"dataframe\">\n",
       "  <thead>\n",
       "    <tr style=\"text-align: right;\">\n",
       "      <th></th>\n",
       "      <th>uuid</th>\n",
       "      <th>author</th>\n",
       "      <th>url</th>\n",
       "      <th>title</th>\n",
       "      <th>language</th>\n",
       "      <th>text</th>\n",
       "      <th>published</th>\n",
       "      <th>title_aapl</th>\n",
       "      <th>text_aapl</th>\n",
       "      <th>title_amzn</th>\n",
       "      <th>text_amzn</th>\n",
       "      <th>title_posSent</th>\n",
       "      <th>title_neg_sent</th>\n",
       "      <th>title_net_sent</th>\n",
       "      <th>text_pos_sent</th>\n",
       "      <th>text_neg_sent</th>\n",
       "      <th>text_net_sent</th>\n",
       "      <th>entity_pos_sent</th>\n",
       "      <th>entity_neg_sent</th>\n",
       "      <th>entity_net_sent</th>\n",
       "      <th>title_entities</th>\n",
       "      <th>text_entities</th>\n",
       "      <th>prediction_date</th>\n",
       "      <th>open</th>\n",
       "      <th>high</th>\n",
       "      <th>low</th>\n",
       "      <th>close</th>\n",
       "      <th>volume</th>\n",
       "      <th>direction</th>\n",
       "      <th>pct_chng</th>\n",
       "      <th>prevClose_1</th>\n",
       "      <th>prevClose_2</th>\n",
       "      <th>prevClose_3</th>\n",
       "      <th>prevClose_4</th>\n",
       "      <th>prevClose_5</th>\n",
       "      <th>prevClose_6</th>\n",
       "      <th>prevClose_7</th>\n",
       "      <th>prevClose_8</th>\n",
       "      <th>prevClose_9</th>\n",
       "      <th>prevClose_10</th>\n",
       "      <th>prevClose_11</th>\n",
       "      <th>prevClose_12</th>\n",
       "      <th>prevClose_13</th>\n",
       "      <th>prevClose_14</th>\n",
       "      <th>prevClose_15</th>\n",
       "      <th>prevClose_16</th>\n",
       "      <th>prevClose_17</th>\n",
       "      <th>prevClose_18</th>\n",
       "      <th>prevClose_19</th>\n",
       "      <th>prevClose_20</th>\n",
       "      <th>prevClose_21</th>\n",
       "      <th>prevClose_22</th>\n",
       "      <th>prevClose_23</th>\n",
       "      <th>prevClose_24</th>\n",
       "      <th>prevClose_25</th>\n",
       "    </tr>\n",
       "  </thead>\n",
       "  <tbody>\n",
       "    <tr>\n",
       "      <th>0</th>\n",
       "      <td>3b7327f6858be72e780b02b863d941fe7ce81eab</td>\n",
       "      <td>NaN</td>\n",
       "      <td>https://money.cnn.com/2018/09/05/investing/pre...</td>\n",
       "      <td>6 things to know before the opening bell</td>\n",
       "      <td>english</td>\n",
       "      <td>Click chart for more in-depth data. 1. Big Tec...</td>\n",
       "      <td>2018-09-05 05:12:00+00:00</td>\n",
       "      <td>False</td>\n",
       "      <td>True</td>\n",
       "      <td>False</td>\n",
       "      <td>True</td>\n",
       "      <td>0.060998</td>\n",
       "      <td>0.040879</td>\n",
       "      <td>0.898123</td>\n",
       "      <td>0.029282</td>\n",
       "      <td>0.568029</td>\n",
       "      <td>0.402689</td>\n",
       "      <td>0.282342</td>\n",
       "      <td>0.013111</td>\n",
       "      <td>0.704547</td>\n",
       "      <td>[{'entity_group': 'MISC', 'score': 0.8700097, ...</td>\n",
       "      <td>[{'entity_group': 'MISC', 'score': 0.96541995,...</td>\n",
       "      <td>2018-09-05</td>\n",
       "      <td>2035.98</td>\n",
       "      <td>2040.61</td>\n",
       "      <td>1989.76</td>\n",
       "      <td>1997.0</td>\n",
       "      <td>41171</td>\n",
       "      <td>-1</td>\n",
       "      <td>-1.951928</td>\n",
       "      <td>2038.05</td>\n",
       "      <td>2013.56</td>\n",
       "      <td>2003.01</td>\n",
       "      <td>1998.5</td>\n",
       "      <td>1931.83</td>\n",
       "      <td>1928.83</td>\n",
       "      <td>1905.38</td>\n",
       "      <td>1901.75</td>\n",
       "      <td>1903.5</td>\n",
       "      <td>1870.49</td>\n",
       "      <td>1875.73</td>\n",
       "      <td>1881.13</td>\n",
       "      <td>1887.35</td>\n",
       "      <td>1883.33</td>\n",
       "      <td>1919.65</td>\n",
       "      <td>1896.99</td>\n",
       "      <td>1885.99</td>\n",
       "      <td>1896.0</td>\n",
       "      <td>1882.98</td>\n",
       "      <td>1861.48</td>\n",
       "      <td>1847.11</td>\n",
       "      <td>1822.94</td>\n",
       "      <td>1833.98</td>\n",
       "      <td>1796.14</td>\n",
       "      <td>1787.38</td>\n",
       "    </tr>\n",
       "    <tr>\n",
       "      <th>1</th>\n",
       "      <td>8a3015a274df99d231fcf7ff3eb38e2660a984ff</td>\n",
       "      <td>Michael Wiggins De Oliveira</td>\n",
       "      <td>https://seekingalpha.com/article/4203857-netfl...</td>\n",
       "      <td>Netflix And The Competition - Netflix, Inc. (N...</td>\n",
       "      <td>english</td>\n",
       "      <td>Investment Thesis Netflix ( NFLX ) is a remark...</td>\n",
       "      <td>2018-09-04 15:00:00+00:00</td>\n",
       "      <td>False</td>\n",
       "      <td>True</td>\n",
       "      <td>False</td>\n",
       "      <td>True</td>\n",
       "      <td>0.031161</td>\n",
       "      <td>0.021816</td>\n",
       "      <td>0.947023</td>\n",
       "      <td>0.072877</td>\n",
       "      <td>0.028435</td>\n",
       "      <td>0.898688</td>\n",
       "      <td>0.325566</td>\n",
       "      <td>0.064595</td>\n",
       "      <td>0.609839</td>\n",
       "      <td>[{'entity_group': 'ORG', 'score': 0.99179953, ...</td>\n",
       "      <td>[{'entity_group': 'MISC', 'score': 0.988969, '...</td>\n",
       "      <td>2018-09-05</td>\n",
       "      <td>2035.98</td>\n",
       "      <td>2040.61</td>\n",
       "      <td>1989.76</td>\n",
       "      <td>1997.0</td>\n",
       "      <td>41171</td>\n",
       "      <td>-1</td>\n",
       "      <td>-1.951928</td>\n",
       "      <td>2038.05</td>\n",
       "      <td>2013.56</td>\n",
       "      <td>2003.01</td>\n",
       "      <td>1998.5</td>\n",
       "      <td>1931.83</td>\n",
       "      <td>1928.83</td>\n",
       "      <td>1905.38</td>\n",
       "      <td>1901.75</td>\n",
       "      <td>1903.5</td>\n",
       "      <td>1870.49</td>\n",
       "      <td>1875.73</td>\n",
       "      <td>1881.13</td>\n",
       "      <td>1887.35</td>\n",
       "      <td>1883.33</td>\n",
       "      <td>1919.65</td>\n",
       "      <td>1896.99</td>\n",
       "      <td>1885.99</td>\n",
       "      <td>1896.0</td>\n",
       "      <td>1882.98</td>\n",
       "      <td>1861.48</td>\n",
       "      <td>1847.11</td>\n",
       "      <td>1822.94</td>\n",
       "      <td>1833.98</td>\n",
       "      <td>1796.14</td>\n",
       "      <td>1787.38</td>\n",
       "    </tr>\n",
       "    <tr>\n",
       "      <th>2</th>\n",
       "      <td>df5883d078ebfbe015e1e717002e4b889647dbee</td>\n",
       "      <td>Larry Ramer</td>\n",
       "      <td>https://investorplace.com/2018/09/pandora-stoc...</td>\n",
       "      <td>Pandora Stock Gets a Boost — Buy Now</td>\n",
       "      <td>english</td>\n",
       "      <td>MannKind Surges More Than 50% &gt;&gt;&gt; READ MORE\\nB...</td>\n",
       "      <td>2018-09-04 16:22:00+00:00</td>\n",
       "      <td>False</td>\n",
       "      <td>True</td>\n",
       "      <td>False</td>\n",
       "      <td>True</td>\n",
       "      <td>0.602235</td>\n",
       "      <td>0.020212</td>\n",
       "      <td>0.377553</td>\n",
       "      <td>0.152033</td>\n",
       "      <td>0.019961</td>\n",
       "      <td>0.828006</td>\n",
       "      <td>0.464281</td>\n",
       "      <td>0.018634</td>\n",
       "      <td>0.517085</td>\n",
       "      <td>[{'entity_group': 'MISC', 'score': 0.9902256, ...</td>\n",
       "      <td>[{'entity_group': 'MISC', 'score': 0.9231871, ...</td>\n",
       "      <td>2018-09-05</td>\n",
       "      <td>2035.98</td>\n",
       "      <td>2040.61</td>\n",
       "      <td>1989.76</td>\n",
       "      <td>1997.0</td>\n",
       "      <td>41171</td>\n",
       "      <td>-1</td>\n",
       "      <td>-1.951928</td>\n",
       "      <td>2038.05</td>\n",
       "      <td>2013.56</td>\n",
       "      <td>2003.01</td>\n",
       "      <td>1998.5</td>\n",
       "      <td>1931.83</td>\n",
       "      <td>1928.83</td>\n",
       "      <td>1905.38</td>\n",
       "      <td>1901.75</td>\n",
       "      <td>1903.5</td>\n",
       "      <td>1870.49</td>\n",
       "      <td>1875.73</td>\n",
       "      <td>1881.13</td>\n",
       "      <td>1887.35</td>\n",
       "      <td>1883.33</td>\n",
       "      <td>1919.65</td>\n",
       "      <td>1896.99</td>\n",
       "      <td>1885.99</td>\n",
       "      <td>1896.0</td>\n",
       "      <td>1882.98</td>\n",
       "      <td>1861.48</td>\n",
       "      <td>1847.11</td>\n",
       "      <td>1822.94</td>\n",
       "      <td>1833.98</td>\n",
       "      <td>1796.14</td>\n",
       "      <td>1787.38</td>\n",
       "    </tr>\n",
       "    <tr>\n",
       "      <th>3</th>\n",
       "      <td>861c19bff56d09f97b6798f5fbe374061e8aa55b</td>\n",
       "      <td>morningstar.com</td>\n",
       "      <td>http://news.morningstar.com/all/dow-jones/us-m...</td>\n",
       "      <td>MARKET SNAPSHOT: Tech Tumble Weighs On Stocks;...</td>\n",
       "      <td>english</td>\n",
       "      <td>By Mark DeCambre, MarketWatch , Ryan Vlastelic...</td>\n",
       "      <td>2018-09-05 00:00:00+00:00</td>\n",
       "      <td>False</td>\n",
       "      <td>True</td>\n",
       "      <td>False</td>\n",
       "      <td>True</td>\n",
       "      <td>0.149068</td>\n",
       "      <td>0.775664</td>\n",
       "      <td>0.075268</td>\n",
       "      <td>0.011017</td>\n",
       "      <td>0.919701</td>\n",
       "      <td>0.069282</td>\n",
       "      <td>0.025404</td>\n",
       "      <td>0.937170</td>\n",
       "      <td>0.037426</td>\n",
       "      <td>[{'entity_group': 'MISC', 'score': 0.98928815,...</td>\n",
       "      <td>[{'entity_group': 'PER', 'score': 0.99841535, ...</td>\n",
       "      <td>2018-09-05</td>\n",
       "      <td>2035.98</td>\n",
       "      <td>2040.61</td>\n",
       "      <td>1989.76</td>\n",
       "      <td>1997.0</td>\n",
       "      <td>41171</td>\n",
       "      <td>-1</td>\n",
       "      <td>-1.951928</td>\n",
       "      <td>2038.05</td>\n",
       "      <td>2013.56</td>\n",
       "      <td>2003.01</td>\n",
       "      <td>1998.5</td>\n",
       "      <td>1931.83</td>\n",
       "      <td>1928.83</td>\n",
       "      <td>1905.38</td>\n",
       "      <td>1901.75</td>\n",
       "      <td>1903.5</td>\n",
       "      <td>1870.49</td>\n",
       "      <td>1875.73</td>\n",
       "      <td>1881.13</td>\n",
       "      <td>1887.35</td>\n",
       "      <td>1883.33</td>\n",
       "      <td>1919.65</td>\n",
       "      <td>1896.99</td>\n",
       "      <td>1885.99</td>\n",
       "      <td>1896.0</td>\n",
       "      <td>1882.98</td>\n",
       "      <td>1861.48</td>\n",
       "      <td>1847.11</td>\n",
       "      <td>1822.94</td>\n",
       "      <td>1833.98</td>\n",
       "      <td>1796.14</td>\n",
       "      <td>1787.38</td>\n",
       "    </tr>\n",
       "    <tr>\n",
       "      <th>4</th>\n",
       "      <td>cb960bebc2bf78d327026127c9fe919a4159e80d</td>\n",
       "      <td>morningstar.com</td>\n",
       "      <td>http://news.morningstar.com/all/benzinga/BenzB...</td>\n",
       "      <td>New Month, Same Old Story: Trade Fears Persist...</td>\n",
       "      <td>english</td>\n",
       "      <td>It may be a new month, but the same trade conc...</td>\n",
       "      <td>2018-09-05 00:00:00+00:00</td>\n",
       "      <td>False</td>\n",
       "      <td>True</td>\n",
       "      <td>False</td>\n",
       "      <td>True</td>\n",
       "      <td>0.012341</td>\n",
       "      <td>0.952132</td>\n",
       "      <td>0.035526</td>\n",
       "      <td>0.118360</td>\n",
       "      <td>0.425631</td>\n",
       "      <td>0.456009</td>\n",
       "      <td>0.064799</td>\n",
       "      <td>0.573251</td>\n",
       "      <td>0.361949</td>\n",
       "      <td>[{'entity_group': 'MISC', 'score': 0.9838889, ...</td>\n",
       "      <td>[{'entity_group': 'ORG', 'score': 0.6127569, '...</td>\n",
       "      <td>2018-09-05</td>\n",
       "      <td>2035.98</td>\n",
       "      <td>2040.61</td>\n",
       "      <td>1989.76</td>\n",
       "      <td>1997.0</td>\n",
       "      <td>41171</td>\n",
       "      <td>-1</td>\n",
       "      <td>-1.951928</td>\n",
       "      <td>2038.05</td>\n",
       "      <td>2013.56</td>\n",
       "      <td>2003.01</td>\n",
       "      <td>1998.5</td>\n",
       "      <td>1931.83</td>\n",
       "      <td>1928.83</td>\n",
       "      <td>1905.38</td>\n",
       "      <td>1901.75</td>\n",
       "      <td>1903.5</td>\n",
       "      <td>1870.49</td>\n",
       "      <td>1875.73</td>\n",
       "      <td>1881.13</td>\n",
       "      <td>1887.35</td>\n",
       "      <td>1883.33</td>\n",
       "      <td>1919.65</td>\n",
       "      <td>1896.99</td>\n",
       "      <td>1885.99</td>\n",
       "      <td>1896.0</td>\n",
       "      <td>1882.98</td>\n",
       "      <td>1861.48</td>\n",
       "      <td>1847.11</td>\n",
       "      <td>1822.94</td>\n",
       "      <td>1833.98</td>\n",
       "      <td>1796.14</td>\n",
       "      <td>1787.38</td>\n",
       "    </tr>\n",
       "  </tbody>\n",
       "</table>\n",
       "</div>"
      ],
      "text/plain": [
       "                                       uuid                       author  \\\n",
       "0  3b7327f6858be72e780b02b863d941fe7ce81eab                          NaN   \n",
       "1  8a3015a274df99d231fcf7ff3eb38e2660a984ff  Michael Wiggins De Oliveira   \n",
       "2  df5883d078ebfbe015e1e717002e4b889647dbee                  Larry Ramer   \n",
       "3  861c19bff56d09f97b6798f5fbe374061e8aa55b              morningstar.com   \n",
       "4  cb960bebc2bf78d327026127c9fe919a4159e80d              morningstar.com   \n",
       "\n",
       "                                                 url  \\\n",
       "0  https://money.cnn.com/2018/09/05/investing/pre...   \n",
       "1  https://seekingalpha.com/article/4203857-netfl...   \n",
       "2  https://investorplace.com/2018/09/pandora-stoc...   \n",
       "3  http://news.morningstar.com/all/dow-jones/us-m...   \n",
       "4  http://news.morningstar.com/all/benzinga/BenzB...   \n",
       "\n",
       "                                               title language  \\\n",
       "0           6 things to know before the opening bell  english   \n",
       "1  Netflix And The Competition - Netflix, Inc. (N...  english   \n",
       "2               Pandora Stock Gets a Boost — Buy Now  english   \n",
       "3  MARKET SNAPSHOT: Tech Tumble Weighs On Stocks;...  english   \n",
       "4  New Month, Same Old Story: Trade Fears Persist...  english   \n",
       "\n",
       "                                                text  \\\n",
       "0  Click chart for more in-depth data. 1. Big Tec...   \n",
       "1  Investment Thesis Netflix ( NFLX ) is a remark...   \n",
       "2  MannKind Surges More Than 50% >>> READ MORE\\nB...   \n",
       "3  By Mark DeCambre, MarketWatch , Ryan Vlastelic...   \n",
       "4  It may be a new month, but the same trade conc...   \n",
       "\n",
       "                   published  title_aapl  text_aapl  title_amzn  text_amzn  \\\n",
       "0  2018-09-05 05:12:00+00:00       False       True       False       True   \n",
       "1  2018-09-04 15:00:00+00:00       False       True       False       True   \n",
       "2  2018-09-04 16:22:00+00:00       False       True       False       True   \n",
       "3  2018-09-05 00:00:00+00:00       False       True       False       True   \n",
       "4  2018-09-05 00:00:00+00:00       False       True       False       True   \n",
       "\n",
       "   title_posSent  title_neg_sent  title_net_sent  text_pos_sent  \\\n",
       "0       0.060998        0.040879        0.898123       0.029282   \n",
       "1       0.031161        0.021816        0.947023       0.072877   \n",
       "2       0.602235        0.020212        0.377553       0.152033   \n",
       "3       0.149068        0.775664        0.075268       0.011017   \n",
       "4       0.012341        0.952132        0.035526       0.118360   \n",
       "\n",
       "   text_neg_sent  text_net_sent  entity_pos_sent  entity_neg_sent  \\\n",
       "0       0.568029       0.402689         0.282342         0.013111   \n",
       "1       0.028435       0.898688         0.325566         0.064595   \n",
       "2       0.019961       0.828006         0.464281         0.018634   \n",
       "3       0.919701       0.069282         0.025404         0.937170   \n",
       "4       0.425631       0.456009         0.064799         0.573251   \n",
       "\n",
       "   entity_net_sent                                     title_entities  \\\n",
       "0         0.704547  [{'entity_group': 'MISC', 'score': 0.8700097, ...   \n",
       "1         0.609839  [{'entity_group': 'ORG', 'score': 0.99179953, ...   \n",
       "2         0.517085  [{'entity_group': 'MISC', 'score': 0.9902256, ...   \n",
       "3         0.037426  [{'entity_group': 'MISC', 'score': 0.98928815,...   \n",
       "4         0.361949  [{'entity_group': 'MISC', 'score': 0.9838889, ...   \n",
       "\n",
       "                                       text_entities prediction_date     open  \\\n",
       "0  [{'entity_group': 'MISC', 'score': 0.96541995,...      2018-09-05  2035.98   \n",
       "1  [{'entity_group': 'MISC', 'score': 0.988969, '...      2018-09-05  2035.98   \n",
       "2  [{'entity_group': 'MISC', 'score': 0.9231871, ...      2018-09-05  2035.98   \n",
       "3  [{'entity_group': 'PER', 'score': 0.99841535, ...      2018-09-05  2035.98   \n",
       "4  [{'entity_group': 'ORG', 'score': 0.6127569, '...      2018-09-05  2035.98   \n",
       "\n",
       "      high      low   close  volume  direction  pct_chng  prevClose_1  \\\n",
       "0  2040.61  1989.76  1997.0   41171         -1 -1.951928      2038.05   \n",
       "1  2040.61  1989.76  1997.0   41171         -1 -1.951928      2038.05   \n",
       "2  2040.61  1989.76  1997.0   41171         -1 -1.951928      2038.05   \n",
       "3  2040.61  1989.76  1997.0   41171         -1 -1.951928      2038.05   \n",
       "4  2040.61  1989.76  1997.0   41171         -1 -1.951928      2038.05   \n",
       "\n",
       "   prevClose_2  prevClose_3  prevClose_4  prevClose_5  prevClose_6  \\\n",
       "0      2013.56      2003.01       1998.5      1931.83      1928.83   \n",
       "1      2013.56      2003.01       1998.5      1931.83      1928.83   \n",
       "2      2013.56      2003.01       1998.5      1931.83      1928.83   \n",
       "3      2013.56      2003.01       1998.5      1931.83      1928.83   \n",
       "4      2013.56      2003.01       1998.5      1931.83      1928.83   \n",
       "\n",
       "   prevClose_7  prevClose_8  prevClose_9  prevClose_10  prevClose_11  \\\n",
       "0      1905.38      1901.75       1903.5       1870.49       1875.73   \n",
       "1      1905.38      1901.75       1903.5       1870.49       1875.73   \n",
       "2      1905.38      1901.75       1903.5       1870.49       1875.73   \n",
       "3      1905.38      1901.75       1903.5       1870.49       1875.73   \n",
       "4      1905.38      1901.75       1903.5       1870.49       1875.73   \n",
       "\n",
       "   prevClose_12  prevClose_13  prevClose_14  prevClose_15  prevClose_16  \\\n",
       "0       1881.13       1887.35       1883.33       1919.65       1896.99   \n",
       "1       1881.13       1887.35       1883.33       1919.65       1896.99   \n",
       "2       1881.13       1887.35       1883.33       1919.65       1896.99   \n",
       "3       1881.13       1887.35       1883.33       1919.65       1896.99   \n",
       "4       1881.13       1887.35       1883.33       1919.65       1896.99   \n",
       "\n",
       "   prevClose_17  prevClose_18  prevClose_19  prevClose_20  prevClose_21  \\\n",
       "0       1885.99        1896.0       1882.98       1861.48       1847.11   \n",
       "1       1885.99        1896.0       1882.98       1861.48       1847.11   \n",
       "2       1885.99        1896.0       1882.98       1861.48       1847.11   \n",
       "3       1885.99        1896.0       1882.98       1861.48       1847.11   \n",
       "4       1885.99        1896.0       1882.98       1861.48       1847.11   \n",
       "\n",
       "   prevClose_22  prevClose_23  prevClose_24  prevClose_25  \n",
       "0       1822.94       1833.98       1796.14       1787.38  \n",
       "1       1822.94       1833.98       1796.14       1787.38  \n",
       "2       1822.94       1833.98       1796.14       1787.38  \n",
       "3       1822.94       1833.98       1796.14       1787.38  \n",
       "4       1822.94       1833.98       1796.14       1787.38  "
      ]
     },
     "execution_count": 2,
     "metadata": {},
     "output_type": "execute_result"
    }
   ],
   "source": [
    "aapl = pd.read_csv('data/preprocessed/Aapl_NewsPriceHistDirection.csv')\n",
    "aapl.shape\n",
    "print('AAPL:')\n",
    "aapl.head()\n",
    "\n",
    "amzn = pd.read_csv('data/preprocessed//Amzn_NewsPriceHistDirection.csv')\n",
    "amzn.shape\n",
    "print('AMZN:')\n",
    "amzn.head()"
   ]
  },
  {
   "cell_type": "code",
   "execution_count": 3,
   "metadata": {},
   "outputs": [
    {
     "name": "stdout",
     "output_type": "stream",
     "text": [
      "spilt number:15\n",
      "spilt number:15\n"
     ]
    }
   ],
   "source": [
    "def split_generator(df):\n",
    "  cv=[]\n",
    "  df['prediction_date'] = pd.to_datetime(df['prediction_date'], errors='coerce')\n",
    "  groups = df.groupby(df['prediction_date'].dt.to_period(\"M\")).groups\n",
    "  split_groups = [value for (key, value) in groups.items()] \n",
    "\n",
    "  print('spilt number:' + str(len(split_groups)))\n",
    "  for i in range(len(split_groups)):\n",
    "    data_index=[]\n",
    "    for j in range(len(split_groups)):\n",
    "      if i != j:\n",
    "        data_index.extend(split_groups[j].tolist())\n",
    "    cv.append((data_index, split_groups[i].tolist()))\n",
    "    # yield data_index, split_groups[i].tolist()\n",
    "  \n",
    "  return cv\n",
    "\n",
    "aapl_cv = split_generator(aapl)\n",
    "amzn_cv = split_generator(amzn)\n"
   ]
  },
  {
   "cell_type": "code",
   "execution_count": 4,
   "metadata": {},
   "outputs": [],
   "source": [
    "def log_reg_cv(df, stock, desc, features, label, cv, print_summary=False, print_box_plot=False):\n",
    "    X = df[features]\n",
    "    y = df[label]\n",
    "\n",
    "    clf = LogisticRegression(random_state=0, max_iter=10e10, n_jobs=-1)\n",
    "    results = pd.DataFrame(cross_validate(clf, X, y, cv=cv, scoring=['accuracy', 'precision', 'recall', 'f1']))\n",
    "\n",
    "    if print_box_plot:\n",
    "        results.drop('fit_time', axis=1).plot.box(figsize=(10, 5))\n",
    "\n",
    "    summary = results.describe()\n",
    "    if print_summary:\n",
    "        display(summary.loc['mean',:])\n",
    "\n",
    "    summary = summary.loc['mean',:]\n",
    "    summary['stock'] = stock\n",
    "    summary['desc'] = desc\n",
    "    return summary\n"
   ]
  },
  {
   "cell_type": "markdown",
   "metadata": {},
   "source": [
    "#### What sentiment score are the best at predicting direction"
   ]
  },
  {
   "cell_type": "code",
   "execution_count": 5,
   "metadata": {},
   "outputs": [
    {
     "data": {
      "text/html": [
       "<div>\n",
       "<style scoped>\n",
       "    .dataframe tbody tr th:only-of-type {\n",
       "        vertical-align: middle;\n",
       "    }\n",
       "\n",
       "    .dataframe tbody tr th {\n",
       "        vertical-align: top;\n",
       "    }\n",
       "\n",
       "    .dataframe thead th {\n",
       "        text-align: right;\n",
       "    }\n",
       "</style>\n",
       "<table border=\"1\" class=\"dataframe\">\n",
       "  <thead>\n",
       "    <tr style=\"text-align: right;\">\n",
       "      <th></th>\n",
       "      <th>fit_time</th>\n",
       "      <th>score_time</th>\n",
       "      <th>test_accuracy</th>\n",
       "      <th>test_precision</th>\n",
       "      <th>test_recall</th>\n",
       "      <th>test_f1</th>\n",
       "      <th>stock</th>\n",
       "      <th>desc</th>\n",
       "    </tr>\n",
       "  </thead>\n",
       "  <tbody>\n",
       "    <tr>\n",
       "      <th>mean</th>\n",
       "      <td>0.607811</td>\n",
       "      <td>0.009938</td>\n",
       "      <td>0.479452</td>\n",
       "      <td>0.531532</td>\n",
       "      <td>0.162945</td>\n",
       "      <td>0.222190</td>\n",
       "      <td>AAPL</td>\n",
       "      <td>Title Sentiment</td>\n",
       "    </tr>\n",
       "    <tr>\n",
       "      <th>mean</th>\n",
       "      <td>0.641268</td>\n",
       "      <td>0.015905</td>\n",
       "      <td>0.487332</td>\n",
       "      <td>0.543866</td>\n",
       "      <td>0.161079</td>\n",
       "      <td>0.226592</td>\n",
       "      <td>AAPL</td>\n",
       "      <td>Text Sentiment</td>\n",
       "    </tr>\n",
       "    <tr>\n",
       "      <th>mean</th>\n",
       "      <td>0.675039</td>\n",
       "      <td>0.020760</td>\n",
       "      <td>0.503282</td>\n",
       "      <td>0.546710</td>\n",
       "      <td>0.266774</td>\n",
       "      <td>0.338706</td>\n",
       "      <td>AAPL</td>\n",
       "      <td>Entity Sentiment</td>\n",
       "    </tr>\n",
       "    <tr>\n",
       "      <th>mean</th>\n",
       "      <td>0.025873</td>\n",
       "      <td>0.001938</td>\n",
       "      <td>0.453583</td>\n",
       "      <td>0.464519</td>\n",
       "      <td>0.648557</td>\n",
       "      <td>0.487979</td>\n",
       "      <td>AMZN</td>\n",
       "      <td>Title Sentiment</td>\n",
       "    </tr>\n",
       "    <tr>\n",
       "      <th>mean</th>\n",
       "      <td>0.027851</td>\n",
       "      <td>0.001948</td>\n",
       "      <td>0.503270</td>\n",
       "      <td>0.469135</td>\n",
       "      <td>0.755933</td>\n",
       "      <td>0.569536</td>\n",
       "      <td>AMZN</td>\n",
       "      <td>Text Sentiment</td>\n",
       "    </tr>\n",
       "    <tr>\n",
       "      <th>mean</th>\n",
       "      <td>0.030943</td>\n",
       "      <td>0.001973</td>\n",
       "      <td>0.469609</td>\n",
       "      <td>0.456012</td>\n",
       "      <td>0.706348</td>\n",
       "      <td>0.530971</td>\n",
       "      <td>AMZN</td>\n",
       "      <td>Entity Sentiment</td>\n",
       "    </tr>\n",
       "  </tbody>\n",
       "</table>\n",
       "</div>"
      ],
      "text/plain": [
       "      fit_time  score_time  test_accuracy  test_precision  test_recall  \\\n",
       "mean  0.607811    0.009938       0.479452        0.531532     0.162945   \n",
       "mean  0.641268    0.015905       0.487332        0.543866     0.161079   \n",
       "mean  0.675039    0.020760       0.503282        0.546710     0.266774   \n",
       "mean  0.025873    0.001938       0.453583        0.464519     0.648557   \n",
       "mean  0.027851    0.001948       0.503270        0.469135     0.755933   \n",
       "mean  0.030943    0.001973       0.469609        0.456012     0.706348   \n",
       "\n",
       "       test_f1 stock              desc  \n",
       "mean  0.222190  AAPL   Title Sentiment  \n",
       "mean  0.226592  AAPL    Text Sentiment  \n",
       "mean  0.338706  AAPL  Entity Sentiment  \n",
       "mean  0.487979  AMZN   Title Sentiment  \n",
       "mean  0.569536  AMZN    Text Sentiment  \n",
       "mean  0.530971  AMZN  Entity Sentiment  "
      ]
     },
     "execution_count": 5,
     "metadata": {},
     "output_type": "execute_result"
    }
   ],
   "source": [
    "sentiment_results = []\n",
    "\n",
    "# Title sentiment\n",
    "feat = [\n",
    "    'title_posSent',\n",
    "    'title_neg_sent',\n",
    "    'title_net_sent',\n",
    "]\n",
    "label = 'direction'\n",
    "\n",
    "sentiment_results.append(log_reg_cv(aapl, 'AAPL', 'Title Sentiment', feat, label, aapl_cv))\n",
    "sentiment_results.append(log_reg_cv(amzn, 'AMZN', 'Title Sentiment', feat, label, amzn_cv))\n",
    "\n",
    "\n",
    "# Text sentiment\n",
    "feat = [\n",
    "    'text_pos_sent',\n",
    "    'text_neg_sent',\n",
    "    'text_net_sent'\n",
    " ]\n",
    "label = 'direction'\n",
    "\n",
    "sentiment_results.append(log_reg_cv(aapl, 'AAPL', 'Text Sentiment', feat, label, aapl_cv))\n",
    "sentiment_results.append(log_reg_cv(amzn, 'AMZN', 'Text Sentiment', feat, label, amzn_cv))\n",
    "\n",
    "\n",
    "# Entity Sentiment\n",
    "feat = [\n",
    "    'entity_pos_sent',\n",
    "    'entity_neg_sent',\n",
    "    'entity_net_sent'\n",
    " ]\n",
    "label = 'direction'\n",
    "\n",
    "sentiment_results.append(log_reg_cv(aapl, 'AAPL', 'Entity Sentiment', feat, label, aapl_cv))\n",
    "sentiment_results.append(log_reg_cv(amzn, 'AMZN', 'Entity Sentiment', feat, label, amzn_cv))\n",
    "\n",
    "pd.DataFrame(sentiment_results).sort_values('stock')"
   ]
  },
  {
   "cell_type": "markdown",
   "metadata": {},
   "source": [
    "#### How many days of closing price should be included?"
   ]
  },
  {
   "cell_type": "code",
   "execution_count": 6,
   "metadata": {},
   "outputs": [],
   "source": [
    "prevClose = [\n",
    "    'prevClose_1',\n",
    "    'prevClose_2',\n",
    "    'prevClose_3',\n",
    "    'prevClose_4',\n",
    "    'prevClose_5',\n",
    "    'prevClose_6',\n",
    "    'prevClose_7',\n",
    "    'prevClose_8',\n",
    "    'prevClose_9',\n",
    "    'prevClose_10',\n",
    "    'prevClose_11',\n",
    "    'prevClose_12',\n",
    "    'prevClose_13',\n",
    "    'prevClose_14',\n",
    "    'prevClose_15',\n",
    "    'prevClose_16',\n",
    "    'prevClose_17',\n",
    "    'prevClose_18',\n",
    "    'prevClose_19',\n",
    "    'prevClose_20',\n",
    "    'prevClose_21',\n",
    "    'prevClose_22',\n",
    "    'prevClose_23',\n",
    "    'prevClose_24',\n",
    "    'prevClose_25'\n",
    "]\n",
    "label = 'direction'\n",
    "\n",
    "aapl_prevClose_accuracies = []\n",
    "amzn_prevClose_accuracies = []\n",
    "for i in range(len(prevClose)):\n",
    "    precClose_feat = prevClose[0:i+1]\n",
    "    aapl_prevClose_accuracies.append(log_reg_cv(aapl, 'AAPL', f'{i+1} days close price', precClose_feat, label, aapl_cv)['test_accuracy'])\n",
    "    amzn_prevClose_accuracies.append(log_reg_cv(amzn, 'AMZN', f'{i+1} days close price', precClose_feat, label, amzn_cv)['test_accuracy'])\n"
   ]
  },
  {
   "cell_type": "code",
   "execution_count": 7,
   "metadata": {},
   "outputs": [
    {
     "data": {
      "image/png": "[encoded data removed]",
      "text/plain": [
       "<Figure size 1080x720 with 1 Axes>"
      ]
     },
     "metadata": {
      "needs_background": "light"
     },
     "output_type": "display_data"
    }
   ],
   "source": [
    "fig, ax = plt.subplots(figsize=(15,10))\n",
    "_ = ax.plot(aapl_prevClose_accuracies, label='AAPL Previous Close', linewidth=3)\n",
    "_ = ax.plot(amzn_prevClose_accuracies, label='AMZN Previous Close', linewidth=3)\n",
    "_ = ax.legend()\n",
    "_ = ax.set_ylabel('Mean 12 Fold CV Accuracy')\n",
    "_ = ax.set_xlabel('Number of historical days included')\n",
    "\n",
    "fig.savefig('evaluations/Mean Accuracy vs Number Historical Days.png', dpi=fig.dpi)"
   ]
  },
  {
   "cell_type": "markdown",
   "metadata": {},
   "source": [
    "#### Recursive feature selection"
   ]
  },
  {
   "cell_type": "code",
   "execution_count": 8,
   "metadata": {},
   "outputs": [],
   "source": [
    "from sklearn.feature_selection import RFE\n",
    "\n",
    "def recursive_feature_selection(df, feat, label, stock, desc, cv, n_feat=10):\n",
    "    clf = LogisticRegression(random_state=0, max_iter=10e10, n_jobs=-1)\n",
    "    selector = RFE(clf, n_features_to_select=n_feat, step=1)\n",
    "    X, y = df[feat], df[label]\n",
    "    selector = selector.fit(X, y)\n",
    "\n",
    "    X = X.loc[:, X.columns[selector.support_]]\n",
    "    \n",
    "    res = log_reg_cv(df, stock, desc, list(X.columns), 'direction', cv)\n",
    "\n",
    "    return {\n",
    "        'best_feat': list(X.columns),\n",
    "        'results': res\n",
    "    }"
   ]
  },
  {
   "cell_type": "code",
   "execution_count": 9,
   "metadata": {},
   "outputs": [
    {
     "name": "stdout",
     "output_type": "stream",
     "text": [
      "AAPL RFS:\n"
     ]
    },
    {
     "data": {
      "text/plain": [
       "{'best_feat': ['title_posSent',\n",
       "  'title_neg_sent',\n",
       "  'title_net_sent',\n",
       "  'text_pos_sent',\n",
       "  'text_neg_sent',\n",
       "  'text_net_sent',\n",
       "  'entity_pos_sent',\n",
       "  'entity_net_sent',\n",
       "  'prevClose_17',\n",
       "  'prevClose_23'],\n",
       " 'results': fit_time           0.91178\n",
       " score_time        0.011895\n",
       " test_accuracy     0.573131\n",
       " test_precision    0.627114\n",
       " test_recall       0.519314\n",
       " test_f1           0.497328\n",
       " stock                 AAPL\n",
       " desc              AAPL RFS\n",
       " Name: mean, dtype: object}"
      ]
     },
     "execution_count": 9,
     "metadata": {},
     "output_type": "execute_result"
    },
    {
     "name": "stdout",
     "output_type": "stream",
     "text": [
      "AMZN RFS:\n"
     ]
    },
    {
     "data": {
      "text/plain": [
       "{'best_feat': ['prevClose_7',\n",
       "  'prevClose_8',\n",
       "  'prevClose_9',\n",
       "  'prevClose_10',\n",
       "  'prevClose_14',\n",
       "  'prevClose_15',\n",
       "  'prevClose_16',\n",
       "  'prevClose_17',\n",
       "  'prevClose_18',\n",
       "  'prevClose_21'],\n",
       " 'results': fit_time          0.666055\n",
       " score_time        0.009747\n",
       " test_accuracy     0.575716\n",
       " test_precision    0.576123\n",
       " test_recall       0.584032\n",
       " test_f1           0.557378\n",
       " stock                 AMZN\n",
       " desc              AMZN RFS\n",
       " Name: mean, dtype: object}"
      ]
     },
     "execution_count": 9,
     "metadata": {},
     "output_type": "execute_result"
    }
   ],
   "source": [
    "feat = [\n",
    " 'title_posSent',\n",
    " 'title_neg_sent',\n",
    " 'title_net_sent',\n",
    " 'text_pos_sent',\n",
    " 'text_neg_sent',\n",
    " 'text_net_sent',\n",
    " 'entity_pos_sent',\n",
    " 'entity_neg_sent',\n",
    " 'entity_net_sent',\n",
    " 'prevClose_1',\n",
    " 'prevClose_2',\n",
    " 'prevClose_3',\n",
    " 'prevClose_4',\n",
    " 'prevClose_5',\n",
    " 'prevClose_6',\n",
    " 'prevClose_7',\n",
    " 'prevClose_8',\n",
    " 'prevClose_9',\n",
    " 'prevClose_10',\n",
    " 'prevClose_11',\n",
    " 'prevClose_12',\n",
    " 'prevClose_13',\n",
    " 'prevClose_14',\n",
    " 'prevClose_15',\n",
    " 'prevClose_16',\n",
    " 'prevClose_17',\n",
    " 'prevClose_18',\n",
    " 'prevClose_19',\n",
    " 'prevClose_20',\n",
    " 'prevClose_21',\n",
    " 'prevClose_22',\n",
    " 'prevClose_23',\n",
    " 'prevClose_24',\n",
    " 'prevClose_25']\n",
    "label = 'direction'\n",
    "\n",
    "print('AAPL RFS:')\n",
    "aapl_rfs = recursive_feature_selection(aapl, feat, label, 'AAPL', 'AAPL RFS', aapl_cv, n_feat=10)\n",
    "aapl_rfs\n",
    "\n",
    "print('AMZN RFS:')\n",
    "amzn_rfs = recursive_feature_selection(amzn, feat, label, 'AMZN', 'AMZN RFS', amzn_cv, n_feat=10)\n",
    "amzn_rfs"
   ]
  },
  {
   "cell_type": "markdown",
   "metadata": {},
   "source": [
    "#### Hyperparameter tuning w/ grid search"
   ]
  },
  {
   "cell_type": "code",
   "execution_count": 10,
   "metadata": {},
   "outputs": [
    {
     "name": "stdout",
     "output_type": "stream",
     "text": [
      "Apple tuned log reg using RFS features: \n"
     ]
    },
    {
     "data": {
      "text/html": [
       "<div>\n",
       "<style scoped>\n",
       "    .dataframe tbody tr th:only-of-type {\n",
       "        vertical-align: middle;\n",
       "    }\n",
       "\n",
       "    .dataframe tbody tr th {\n",
       "        vertical-align: top;\n",
       "    }\n",
       "\n",
       "    .dataframe thead th {\n",
       "        text-align: right;\n",
       "    }\n",
       "</style>\n",
       "<table border=\"1\" class=\"dataframe\">\n",
       "  <thead>\n",
       "    <tr style=\"text-align: right;\">\n",
       "      <th></th>\n",
       "      <th>fit_time</th>\n",
       "      <th>score_time</th>\n",
       "      <th>test_accuracy</th>\n",
       "      <th>test_precision</th>\n",
       "      <th>test_recall</th>\n",
       "      <th>test_f1</th>\n",
       "    </tr>\n",
       "  </thead>\n",
       "  <tbody>\n",
       "    <tr>\n",
       "      <th>count</th>\n",
       "      <td>15.000000</td>\n",
       "      <td>15.000000</td>\n",
       "      <td>15.000000</td>\n",
       "      <td>15.000000</td>\n",
       "      <td>15.000000</td>\n",
       "      <td>15.000000</td>\n",
       "    </tr>\n",
       "    <tr>\n",
       "      <th>mean</th>\n",
       "      <td>1.091585</td>\n",
       "      <td>0.013665</td>\n",
       "      <td>0.571561</td>\n",
       "      <td>0.628457</td>\n",
       "      <td>0.525537</td>\n",
       "      <td>0.502733</td>\n",
       "    </tr>\n",
       "    <tr>\n",
       "      <th>std</th>\n",
       "      <td>0.199109</td>\n",
       "      <td>0.006678</td>\n",
       "      <td>0.156076</td>\n",
       "      <td>0.193689</td>\n",
       "      <td>0.302756</td>\n",
       "      <td>0.214034</td>\n",
       "    </tr>\n",
       "    <tr>\n",
       "      <th>min</th>\n",
       "      <td>0.836432</td>\n",
       "      <td>0.001535</td>\n",
       "      <td>0.200873</td>\n",
       "      <td>0.240979</td>\n",
       "      <td>0.024002</td>\n",
       "      <td>0.046318</td>\n",
       "    </tr>\n",
       "    <tr>\n",
       "      <th>25%</th>\n",
       "      <td>0.910876</td>\n",
       "      <td>0.010090</td>\n",
       "      <td>0.498286</td>\n",
       "      <td>0.511542</td>\n",
       "      <td>0.280265</td>\n",
       "      <td>0.398133</td>\n",
       "    </tr>\n",
       "    <tr>\n",
       "      <th>50%</th>\n",
       "      <td>1.082638</td>\n",
       "      <td>0.015618</td>\n",
       "      <td>0.556091</td>\n",
       "      <td>0.662927</td>\n",
       "      <td>0.578947</td>\n",
       "      <td>0.557782</td>\n",
       "    </tr>\n",
       "    <tr>\n",
       "      <th>75%</th>\n",
       "      <td>1.243578</td>\n",
       "      <td>0.018729</td>\n",
       "      <td>0.697032</td>\n",
       "      <td>0.729486</td>\n",
       "      <td>0.773843</td>\n",
       "      <td>0.644197</td>\n",
       "    </tr>\n",
       "    <tr>\n",
       "      <th>max</th>\n",
       "      <td>1.460708</td>\n",
       "      <td>0.022070</td>\n",
       "      <td>0.771930</td>\n",
       "      <td>1.000000</td>\n",
       "      <td>0.912658</td>\n",
       "      <td>0.786804</td>\n",
       "    </tr>\n",
       "  </tbody>\n",
       "</table>\n",
       "</div>"
      ],
      "text/plain": [
       "        fit_time  score_time  test_accuracy  test_precision  test_recall  \\\n",
       "count  15.000000   15.000000      15.000000       15.000000    15.000000   \n",
       "mean    1.091585    0.013665       0.571561        0.628457     0.525537   \n",
       "std     0.199109    0.006678       0.156076        0.193689     0.302756   \n",
       "min     0.836432    0.001535       0.200873        0.240979     0.024002   \n",
       "25%     0.910876    0.010090       0.498286        0.511542     0.280265   \n",
       "50%     1.082638    0.015618       0.556091        0.662927     0.578947   \n",
       "75%     1.243578    0.018729       0.697032        0.729486     0.773843   \n",
       "max     1.460708    0.022070       0.771930        1.000000     0.912658   \n",
       "\n",
       "         test_f1  \n",
       "count  15.000000  \n",
       "mean    0.502733  \n",
       "std     0.214034  \n",
       "min     0.046318  \n",
       "25%     0.398133  \n",
       "50%     0.557782  \n",
       "75%     0.644197  \n",
       "max     0.786804  "
      ]
     },
     "execution_count": 10,
     "metadata": {},
     "output_type": "execute_result"
    },
    {
     "name": "stdout",
     "output_type": "stream",
     "text": [
      "Amazon tuned log reg using RFS features: \n"
     ]
    },
    {
     "data": {
      "text/html": [
       "<div>\n",
       "<style scoped>\n",
       "    .dataframe tbody tr th:only-of-type {\n",
       "        vertical-align: middle;\n",
       "    }\n",
       "\n",
       "    .dataframe tbody tr th {\n",
       "        vertical-align: top;\n",
       "    }\n",
       "\n",
       "    .dataframe thead th {\n",
       "        text-align: right;\n",
       "    }\n",
       "</style>\n",
       "<table border=\"1\" class=\"dataframe\">\n",
       "  <thead>\n",
       "    <tr style=\"text-align: right;\">\n",
       "      <th></th>\n",
       "      <th>fit_time</th>\n",
       "      <th>score_time</th>\n",
       "      <th>test_accuracy</th>\n",
       "      <th>test_precision</th>\n",
       "      <th>test_recall</th>\n",
       "      <th>test_f1</th>\n",
       "    </tr>\n",
       "  </thead>\n",
       "  <tbody>\n",
       "    <tr>\n",
       "      <th>count</th>\n",
       "      <td>15.000000</td>\n",
       "      <td>15.000000</td>\n",
       "      <td>15.000000</td>\n",
       "      <td>15.000000</td>\n",
       "      <td>15.000000</td>\n",
       "      <td>15.000000</td>\n",
       "    </tr>\n",
       "    <tr>\n",
       "      <th>mean</th>\n",
       "      <td>0.639992</td>\n",
       "      <td>0.008964</td>\n",
       "      <td>0.576520</td>\n",
       "      <td>0.588898</td>\n",
       "      <td>0.567701</td>\n",
       "      <td>0.554072</td>\n",
       "    </tr>\n",
       "    <tr>\n",
       "      <th>std</th>\n",
       "      <td>0.146496</td>\n",
       "      <td>0.005999</td>\n",
       "      <td>0.217550</td>\n",
       "      <td>0.228003</td>\n",
       "      <td>0.270874</td>\n",
       "      <td>0.231859</td>\n",
       "    </tr>\n",
       "    <tr>\n",
       "      <th>min</th>\n",
       "      <td>0.190872</td>\n",
       "      <td>0.001505</td>\n",
       "      <td>0.000000</td>\n",
       "      <td>0.000000</td>\n",
       "      <td>0.000000</td>\n",
       "      <td>0.000000</td>\n",
       "    </tr>\n",
       "    <tr>\n",
       "      <th>25%</th>\n",
       "      <td>0.607687</td>\n",
       "      <td>0.004290</td>\n",
       "      <td>0.479431</td>\n",
       "      <td>0.522822</td>\n",
       "      <td>0.453799</td>\n",
       "      <td>0.502547</td>\n",
       "    </tr>\n",
       "    <tr>\n",
       "      <th>50%</th>\n",
       "      <td>0.640883</td>\n",
       "      <td>0.007309</td>\n",
       "      <td>0.606645</td>\n",
       "      <td>0.607578</td>\n",
       "      <td>0.610375</td>\n",
       "      <td>0.567179</td>\n",
       "    </tr>\n",
       "    <tr>\n",
       "      <th>75%</th>\n",
       "      <td>0.667140</td>\n",
       "      <td>0.013457</td>\n",
       "      <td>0.704154</td>\n",
       "      <td>0.713836</td>\n",
       "      <td>0.739882</td>\n",
       "      <td>0.695182</td>\n",
       "    </tr>\n",
       "    <tr>\n",
       "      <th>max</th>\n",
       "      <td>0.843297</td>\n",
       "      <td>0.018365</td>\n",
       "      <td>0.877407</td>\n",
       "      <td>0.922869</td>\n",
       "      <td>1.000000</td>\n",
       "      <td>0.870684</td>\n",
       "    </tr>\n",
       "  </tbody>\n",
       "</table>\n",
       "</div>"
      ],
      "text/plain": [
       "        fit_time  score_time  test_accuracy  test_precision  test_recall  \\\n",
       "count  15.000000   15.000000      15.000000       15.000000    15.000000   \n",
       "mean    0.639992    0.008964       0.576520        0.588898     0.567701   \n",
       "std     0.146496    0.005999       0.217550        0.228003     0.270874   \n",
       "min     0.190872    0.001505       0.000000        0.000000     0.000000   \n",
       "25%     0.607687    0.004290       0.479431        0.522822     0.453799   \n",
       "50%     0.640883    0.007309       0.606645        0.607578     0.610375   \n",
       "75%     0.667140    0.013457       0.704154        0.713836     0.739882   \n",
       "max     0.843297    0.018365       0.877407        0.922869     1.000000   \n",
       "\n",
       "         test_f1  \n",
       "count  15.000000  \n",
       "mean    0.554072  \n",
       "std     0.231859  \n",
       "min     0.000000  \n",
       "25%     0.502547  \n",
       "50%     0.567179  \n",
       "75%     0.695182  \n",
       "max     0.870684  "
      ]
     },
     "execution_count": 10,
     "metadata": {},
     "output_type": "execute_result"
    }
   ],
   "source": [
    "from sklearn.model_selection import GridSearchCV\n",
    "\n",
    "def tune_log_reg_hyperparams(df, feat, label, cv):\n",
    "    parameters = {\n",
    "        'penalty': ('l1', 'l2', 'elasticnet', 'none'), \n",
    "        'C': [100, 10, 1.0, 0.1, 0.01]\n",
    "    }\n",
    "    grid_clf = GridSearchCV(\n",
    "        LogisticRegression(random_state=0, max_iter=10e10, n_jobs=-1), \n",
    "        parameters\n",
    "    )\n",
    "    grid_clf.fit(df[feat], df[label])\n",
    "\n",
    "    clf = LogisticRegression(random_state=0, max_iter=10e10, n_jobs=-1, **grid_clf.best_params_)\n",
    "    results = pd.DataFrame(cross_validate(clf, df[feat], df[label], cv=cv, scoring=['accuracy', 'precision', 'recall', 'f1']))\n",
    "    return {\n",
    "        'best_params': grid_clf.best_params_,\n",
    "        'results': results.describe()\n",
    "    }\n",
    "\n",
    "\n",
    "print('Apple tuned log reg using RFS features: ')\n",
    "aapl_tuned_logreg = tune_log_reg_hyperparams(aapl, aapl_rfs['best_feat'], 'direction', aapl_cv)\n",
    "aapl_tuned_logreg['results']\n",
    "\n",
    "print('Amazon tuned log reg using RFS features: ')\n",
    "amzn_tuned_logreg = tune_log_reg_hyperparams(amzn, amzn_rfs['best_feat'], 'direction', amzn_cv)\n",
    "amzn_tuned_logreg['results']"
   ]
  },
  {
   "cell_type": "code",
   "execution_count": 11,
   "metadata": {},
   "outputs": [
    {
     "name": "stdout",
     "output_type": "stream",
     "text": [
      "AAPL grid search params: {'C': 0.01, 'penalty': 'l2'}\n",
      "AMZN grid search params: {'C': 100, 'penalty': 'none'}\n"
     ]
    }
   ],
   "source": [
    "print('AAPL grid search params:', aapl_tuned_logreg['best_params'])\n",
    "print('AMZN grid search params:', amzn_tuned_logreg['best_params'])"
   ]
  },
  {
   "cell_type": "markdown",
   "metadata": {},
   "source": [
    "### What authors/sources are the best at predicting AAPL direction?"
   ]
  },
  {
   "cell_type": "code",
   "execution_count": 18,
   "metadata": {},
   "outputs": [
    {
     "data": {
      "text/html": [
       "<style>#sk-container-id-3 {color: black;background-color: white;}#sk-container-id-3 pre{padding: 0;}#sk-container-id-3 div.sk-toggleable {background-color: white;}#sk-container-id-3 label.sk-toggleable__label {cursor: pointer;display: block;width: 100%;margin-bottom: 0;padding: 0.3em;box-sizing: border-box;text-align: center;}#sk-container-id-3 label.sk-toggleable__label-arrow:before {content: \"▸\";float: left;margin-right: 0.25em;color: #696969;}#sk-container-id-3 label.sk-toggleable__label-arrow:hover:before {color: black;}#sk-container-id-3 div.sk-estimator:hover label.sk-toggleable__label-arrow:before {color: black;}#sk-container-id-3 div.sk-toggleable__content {max-height: 0;max-width: 0;overflow: hidden;text-align: left;background-color: #f0f8ff;}#sk-container-id-3 div.sk-toggleable__content pre {margin: 0.2em;color: black;border-radius: 0.25em;background-color: #f0f8ff;}#sk-container-id-3 input.sk-toggleable__control:checked~div.sk-toggleable__content {max-height: 200px;max-width: 100%;overflow: auto;}#sk-container-id-3 input.sk-toggleable__control:checked~label.sk-toggleable__label-arrow:before {content: \"▾\";}#sk-container-id-3 div.sk-estimator input.sk-toggleable__control:checked~label.sk-toggleable__label {background-color: #d4ebff;}#sk-container-id-3 div.sk-label input.sk-toggleable__control:checked~label.sk-toggleable__label {background-color: #d4ebff;}#sk-container-id-3 input.sk-hidden--visually {border: 0;clip: rect(1px 1px 1px 1px);clip: rect(1px, 1px, 1px, 1px);height: 1px;margin: -1px;overflow: hidden;padding: 0;position: absolute;width: 1px;}#sk-container-id-3 div.sk-estimator {font-family: monospace;background-color: #f0f8ff;border: 1px dotted black;border-radius: 0.25em;box-sizing: border-box;margin-bottom: 0.5em;}#sk-container-id-3 div.sk-estimator:hover {background-color: #d4ebff;}#sk-container-id-3 div.sk-parallel-item::after {content: \"\";width: 100%;border-bottom: 1px solid gray;flex-grow: 1;}#sk-container-id-3 div.sk-label:hover label.sk-toggleable__label {background-color: #d4ebff;}#sk-container-id-3 div.sk-serial::before {content: \"\";position: absolute;border-left: 1px solid gray;box-sizing: border-box;top: 0;bottom: 0;left: 50%;z-index: 0;}#sk-container-id-3 div.sk-serial {display: flex;flex-direction: column;align-items: center;background-color: white;padding-right: 0.2em;padding-left: 0.2em;position: relative;}#sk-container-id-3 div.sk-item {position: relative;z-index: 1;}#sk-container-id-3 div.sk-parallel {display: flex;align-items: stretch;justify-content: center;background-color: white;position: relative;}#sk-container-id-3 div.sk-item::before, #sk-container-id-3 div.sk-parallel-item::before {content: \"\";position: absolute;border-left: 1px solid gray;box-sizing: border-box;top: 0;bottom: 0;left: 50%;z-index: -1;}#sk-container-id-3 div.sk-parallel-item {display: flex;flex-direction: column;z-index: 1;position: relative;background-color: white;}#sk-container-id-3 div.sk-parallel-item:first-child::after {align-self: flex-end;width: 50%;}#sk-container-id-3 div.sk-parallel-item:last-child::after {align-self: flex-start;width: 50%;}#sk-container-id-3 div.sk-parallel-item:only-child::after {width: 0;}#sk-container-id-3 div.sk-dashed-wrapped {border: 1px dashed gray;margin: 0 0.4em 0.5em 0.4em;box-sizing: border-box;padding-bottom: 0.4em;background-color: white;}#sk-container-id-3 div.sk-label label {font-family: monospace;font-weight: bold;display: inline-block;line-height: 1.2em;}#sk-container-id-3 div.sk-label-container {text-align: center;}#sk-container-id-3 div.sk-container {/* jupyter's `normalize.less` sets `[hidden] { display: none; }` but bootstrap.min.css set `[hidden] { display: none !important; }` so we also need the `!important` here to be able to override the default hidden behavior on the sphinx rendered scikit-learn.org. See: https://github.com/scikit-learn/scikit-learn/issues/21755 */display: inline-block !important;position: relative;}#sk-container-id-3 div.sk-text-repr-fallback {display: none;}</style><div id=\"sk-container-id-3\" class=\"sk-top-container\"><div class=\"sk-text-repr-fallback\"><pre>LogisticRegression(C=0.01, max_iter=100000000000.0, n_jobs=-1, random_state=0)</pre><b>In a Jupyter environment, please rerun this cell to show the HTML representation or trust the notebook. <br />On GitHub, the HTML representation is unable to render, please try loading this page with nbviewer.org.</b></div><div class=\"sk-container\" hidden><div class=\"sk-item\"><div class=\"sk-estimator sk-toggleable\"><input class=\"sk-toggleable__control sk-hidden--visually\" id=\"sk-estimator-id-3\" type=\"checkbox\" checked><label for=\"sk-estimator-id-3\" class=\"sk-toggleable__label sk-toggleable__label-arrow\">LogisticRegression</label><div class=\"sk-toggleable__content\"><pre>LogisticRegression(C=0.01, max_iter=100000000000.0, n_jobs=-1, random_state=0)</pre></div></div></div></div></div>"
      ],
      "text/plain": [
       "LogisticRegression(C=0.01, max_iter=100000000000.0, n_jobs=-1, random_state=0)"
      ]
     },
     "execution_count": 18,
     "metadata": {},
     "output_type": "execute_result"
    },
    {
     "data": {
      "text/plain": [
       "0.5162448651288386"
      ]
     },
     "execution_count": 18,
     "metadata": {},
     "output_type": "execute_result"
    },
    {
     "data": {
      "text/html": [
       "<div>\n",
       "<style scoped>\n",
       "    .dataframe tbody tr th:only-of-type {\n",
       "        vertical-align: middle;\n",
       "    }\n",
       "\n",
       "    .dataframe tbody tr th {\n",
       "        vertical-align: top;\n",
       "    }\n",
       "\n",
       "    .dataframe thead th {\n",
       "        text-align: right;\n",
       "    }\n",
       "</style>\n",
       "<table border=\"1\" class=\"dataframe\">\n",
       "  <thead>\n",
       "    <tr style=\"text-align: right;\">\n",
       "      <th></th>\n",
       "      <th>author</th>\n",
       "      <th>url</th>\n",
       "      <th>true_label</th>\n",
       "      <th>pred_label</th>\n",
       "      <th>correct_pred</th>\n",
       "    </tr>\n",
       "  </thead>\n",
       "  <tbody>\n",
       "    <tr>\n",
       "      <th>34811</th>\n",
       "      <td>ABMN Staff</td>\n",
       "      <td>www.americanbankingnews.com</td>\n",
       "      <td>1</td>\n",
       "      <td>-1</td>\n",
       "      <td>False</td>\n",
       "    </tr>\n",
       "    <tr>\n",
       "      <th>34812</th>\n",
       "      <td>JF Staff</td>\n",
       "      <td>www.journalfinance.net</td>\n",
       "      <td>1</td>\n",
       "      <td>-1</td>\n",
       "      <td>False</td>\n",
       "    </tr>\n",
       "    <tr>\n",
       "      <th>34813</th>\n",
       "      <td>NaN</td>\n",
       "      <td>cosmosmagazine.com</td>\n",
       "      <td>1</td>\n",
       "      <td>-1</td>\n",
       "      <td>False</td>\n",
       "    </tr>\n",
       "    <tr>\n",
       "      <th>34814</th>\n",
       "      <td>admin</td>\n",
       "      <td>www.listocks.com</td>\n",
       "      <td>1</td>\n",
       "      <td>-1</td>\n",
       "      <td>False</td>\n",
       "    </tr>\n",
       "    <tr>\n",
       "      <th>34815</th>\n",
       "      <td>sfgate.com</td>\n",
       "      <td>www.sfgate.com</td>\n",
       "      <td>1</td>\n",
       "      <td>-1</td>\n",
       "      <td>False</td>\n",
       "    </tr>\n",
       "    <tr>\n",
       "      <th>...</th>\n",
       "      <td>...</td>\n",
       "      <td>...</td>\n",
       "      <td>...</td>\n",
       "      <td>...</td>\n",
       "      <td>...</td>\n",
       "    </tr>\n",
       "    <tr>\n",
       "      <th>69617</th>\n",
       "      <td>Motley Fool</td>\n",
       "      <td>www.nasdaq.com</td>\n",
       "      <td>-1</td>\n",
       "      <td>-1</td>\n",
       "      <td>True</td>\n",
       "    </tr>\n",
       "    <tr>\n",
       "      <th>69618</th>\n",
       "      <td>Jussi Askola</td>\n",
       "      <td>seekingalpha.com</td>\n",
       "      <td>-1</td>\n",
       "      <td>-1</td>\n",
       "      <td>True</td>\n",
       "    </tr>\n",
       "    <tr>\n",
       "      <th>69619</th>\n",
       "      <td>Marguerite Chambers</td>\n",
       "      <td>heraldks.com</td>\n",
       "      <td>-1</td>\n",
       "      <td>-1</td>\n",
       "      <td>True</td>\n",
       "    </tr>\n",
       "    <tr>\n",
       "      <th>69620</th>\n",
       "      <td>Darrin Black</td>\n",
       "      <td>www.whatsonthorold.com</td>\n",
       "      <td>-1</td>\n",
       "      <td>-1</td>\n",
       "      <td>True</td>\n",
       "    </tr>\n",
       "    <tr>\n",
       "      <th>69621</th>\n",
       "      <td>Investing News Network</td>\n",
       "      <td>investingnews.com</td>\n",
       "      <td>1</td>\n",
       "      <td>-1</td>\n",
       "      <td>False</td>\n",
       "    </tr>\n",
       "  </tbody>\n",
       "</table>\n",
       "<p>34811 rows × 5 columns</p>\n",
       "</div>"
      ],
      "text/plain": [
       "                       author                          url  true_label  \\\n",
       "34811              ABMN Staff  www.americanbankingnews.com           1   \n",
       "34812                JF Staff       www.journalfinance.net           1   \n",
       "34813                     NaN           cosmosmagazine.com           1   \n",
       "34814                   admin             www.listocks.com           1   \n",
       "34815              sfgate.com               www.sfgate.com           1   \n",
       "...                       ...                          ...         ...   \n",
       "69617             Motley Fool               www.nasdaq.com          -1   \n",
       "69618            Jussi Askola             seekingalpha.com          -1   \n",
       "69619     Marguerite Chambers                 heraldks.com          -1   \n",
       "69620            Darrin Black       www.whatsonthorold.com          -1   \n",
       "69621  Investing News Network            investingnews.com           1   \n",
       "\n",
       "       pred_label  correct_pred  \n",
       "34811          -1         False  \n",
       "34812          -1         False  \n",
       "34813          -1         False  \n",
       "34814          -1         False  \n",
       "34815          -1         False  \n",
       "...           ...           ...  \n",
       "69617          -1          True  \n",
       "69618          -1          True  \n",
       "69619          -1          True  \n",
       "69620          -1          True  \n",
       "69621          -1         False  \n",
       "\n",
       "[34811 rows x 5 columns]"
      ]
     },
     "execution_count": 18,
     "metadata": {},
     "output_type": "execute_result"
    }
   ],
   "source": [
    "from sklearn.model_selection import train_test_split\n",
    "from sklearn.metrics import accuracy_score\n",
    "from urllib.parse import urlparse\n",
    "\n",
    "X_train, X_test, y_train, y_test = train_test_split(aapl[['entity_pos_sent', 'entity_neg_sent', 'entity_net_sent', 'author', 'url']], aapl['direction'], test_size=0.5, random_state=None, shuffle=False)\n",
    "clf = LogisticRegression(random_state=0, max_iter=10e10, n_jobs=-1, **aapl_tuned_logreg['best_params'])\n",
    "\n",
    "author = X_test['author']\n",
    "url = X_test['url'].apply(lambda x: urlparse(x).netloc)\n",
    "# urlparse(res.reset_index().loc[0,'url']).netloc\n",
    "X_train = X_train.drop(['author', 'url'], axis=1)\n",
    "clf.fit(X_train, y_train)\n",
    "pred = clf.predict(X_test.drop(['author', 'url'], axis=1))\n",
    "\n",
    "res = pd.DataFrame({\n",
    "    'author': author,\n",
    "    'url': url,\n",
    "    'true_label': y_test,\n",
    "    'pred_label': pred\n",
    "})\n",
    "res['correct_pred'] = res['true_label'] == res['pred_label']\n",
    "\n",
    "accuracy_score(pred, y_test)\n",
    "res"
   ]
  },
  {
   "cell_type": "code",
   "execution_count": 19,
   "metadata": {},
   "outputs": [],
   "source": [
    "from sklearn.metrics import precision_recall_fscore_support\n",
    "\n",
    "def source_stats(df):\n",
    "    precision, recall, f1, _ = precision_recall_fscore_support(df['true_label'], df['pred_label'], average='binary')\n",
    "    res = {\n",
    "        'precision': precision,\n",
    "        'recall': recall,\n",
    "        'f1': f1,\n",
    "        'accuracy': df['correct_pred'].sum() / df.shape[0],\n",
    "        'total_correct': df['correct_pred'].sum(),\n",
    "        'total_articles': df.shape[0],\n",
    "\n",
    "    }\n",
    "    return pd.Series(res, index=['precision', 'recall', 'f1', 'accuracy', 'total_correct', 'total_articles'])\n",
    "\n",
    "best_author = (res.groupby('author')\n",
    "    .apply(source_stats)\n",
    "    .reset_index()\n",
    "    # .sort_values('f1', ascending=False)\n",
    "    # .sort_values(['proportion_correct', 'total_articles'], ascending=False)\n",
    "    # .sort_values(['total_articles', 'total_correct'], ascending=False)\n",
    ")\n",
    "\n",
    "best_url = (res.groupby('url')\n",
    "    .apply(source_stats)\n",
    "    .reset_index()\n",
    ")"
   ]
  },
  {
   "cell_type": "code",
   "execution_count": 20,
   "metadata": {},
   "outputs": [
    {
     "data": {
      "application/vnd.plotly.v1+json": {
       "config": {
        "plotlyServerURL": "https://plot.ly"
       },
       "data": [
        {
         "alignmentgroup": "True",
         "hovertemplate": "variable=Correct<br>Author=%{x}<br>Total Articles=%{y}<extra></extra>",
         "legendgroup": "Correct",
         "marker": {
          "color": "#636efa",
          "pattern": {
           "shape": ""
          }
         },
         "name": "Correct",
         "offsetgroup": "Correct",
         "orientation": "v",
         "showlegend": true,
         "textposition": "auto",
         "type": "bar",
         "x": [
          "Cnn News",
          "SCOTT LEHTONEN",
          "Therese Poletti",
          "Dave Smith",
          "Jonathan Garber",
          "D.M. Martins Research",
          "Vince Martin",
          "Tripp Mickle",
          "barchart.com",
          "theglobeandmail.com",
          "investopedia.com",
          "newsfeedback@fool.com (Motley Fool Staff)",
          "Aaron Hankin",
          "Sara Sjolin",
          "Anora M. Gaudiano"
         ],
         "xaxis": "x",
         "y": [
          41,
          25,
          20,
          19,
          18,
          17,
          15,
          16,
          12,
          11,
          11,
          10,
          10,
          11,
          9
         ],
         "yaxis": "y"
        },
        {
         "alignmentgroup": "True",
         "hovertemplate": "variable=Incorrect<br>Author=%{x}<br>Total Articles=%{y}<extra></extra>",
         "legendgroup": "Incorrect",
         "marker": {
          "color": "#EF553B",
          "pattern": {
           "shape": ""
          }
         },
         "name": "Incorrect",
         "offsetgroup": "Incorrect",
         "orientation": "v",
         "showlegend": true,
         "textposition": "auto",
         "type": "bar",
         "x": [
          "Cnn News",
          "SCOTT LEHTONEN",
          "Therese Poletti",
          "Dave Smith",
          "Jonathan Garber",
          "D.M. Martins Research",
          "Vince Martin",
          "Tripp Mickle",
          "barchart.com",
          "theglobeandmail.com",
          "investopedia.com",
          "newsfeedback@fool.com (Motley Fool Staff)",
          "Aaron Hankin",
          "Sara Sjolin",
          "Anora M. Gaudiano"
         ],
         "xaxis": "x",
         "y": [
          16,
          8,
          8,
          7,
          6,
          5,
          6,
          3,
          5,
          4,
          4,
          4,
          4,
          2,
          3
         ],
         "yaxis": "y"
        }
       ],
       "layout": {
        "barmode": "relative",
        "font": {
         "color": "#000000",
         "size": 15
        },
        "height": 850,
        "legend": {
         "title": {
          "text": "variable"
         },
         "tracegroupgap": 0
        },
        "template": {
         "data": {
          "bar": [
           {
            "error_x": {
             "color": "#2a3f5f"
            },
            "error_y": {
             "color": "#2a3f5f"
            },
            "marker": {
             "line": {
              "color": "#E5ECF6",
              "width": 0.5
             },
             "pattern": {
              "fillmode": "overlay",
              "size": 10,
              "solidity": 0.2
             }
            },
            "type": "bar"
           }
          ],
          "barpolar": [
           {
            "marker": {
             "line": {
              "color": "#E5ECF6",
              "width": 0.5
             },
             "pattern": {
              "fillmode": "overlay",
              "size": 10,
              "solidity": 0.2
             }
            },
            "type": "barpolar"
           }
          ],
          "carpet": [
           {
            "aaxis": {
             "endlinecolor": "#2a3f5f",
             "gridcolor": "white",
             "linecolor": "white",
             "minorgridcolor": "white",
             "startlinecolor": "#2a3f5f"
            },
            "baxis": {
             "endlinecolor": "#2a3f5f",
             "gridcolor": "white",
             "linecolor": "white",
             "minorgridcolor": "white",
             "startlinecolor": "#2a3f5f"
            },
            "type": "carpet"
           }
          ],
          "choropleth": [
           {
            "colorbar": {
             "outlinewidth": 0,
             "ticks": ""
            },
            "type": "choropleth"
           }
          ],
          "contour": [
           {
            "colorbar": {
             "outlinewidth": 0,
             "ticks": ""
            },
            "colorscale": [
             [
              0,
              "#0d0887"
             ],
             [
              0.1111111111111111,
              "#46039f"
             ],
             [
              0.2222222222222222,
              "#7201a8"
             ],
             [
              0.3333333333333333,
              "#9c179e"
             ],
             [
              0.4444444444444444,
              "#bd3786"
             ],
             [
              0.5555555555555556,
              "#d8576b"
             ],
             [
              0.6666666666666666,
              "#ed7953"
             ],
             [
              0.7777777777777778,
              "#fb9f3a"
             ],
             [
              0.8888888888888888,
              "#fdca26"
             ],
             [
              1,
              "#f0f921"
             ]
            ],
            "type": "contour"
           }
          ],
          "contourcarpet": [
           {
            "colorbar": {
             "outlinewidth": 0,
             "ticks": ""
            },
            "type": "contourcarpet"
           }
          ],
          "heatmap": [
           {
            "colorbar": {
             "outlinewidth": 0,
             "ticks": ""
            },
            "colorscale": [
             [
              0,
              "#0d0887"
             ],
             [
              0.1111111111111111,
              "#46039f"
             ],
             [
              0.2222222222222222,
              "#7201a8"
             ],
             [
              0.3333333333333333,
              "#9c179e"
             ],
             [
              0.4444444444444444,
              "#bd3786"
             ],
             [
              0.5555555555555556,
              "#d8576b"
             ],
             [
              0.6666666666666666,
              "#ed7953"
             ],
             [
              0.7777777777777778,
              "#fb9f3a"
             ],
             [
              0.8888888888888888,
              "#fdca26"
             ],
             [
              1,
              "#f0f921"
             ]
            ],
            "type": "heatmap"
           }
          ],
          "heatmapgl": [
           {
            "colorbar": {
             "outlinewidth": 0,
             "ticks": ""
            },
            "colorscale": [
             [
              0,
              "#0d0887"
             ],
             [
              0.1111111111111111,
              "#46039f"
             ],
             [
              0.2222222222222222,
              "#7201a8"
             ],
             [
              0.3333333333333333,
              "#9c179e"
             ],
             [
              0.4444444444444444,
              "#bd3786"
             ],
             [
              0.5555555555555556,
              "#d8576b"
             ],
             [
              0.6666666666666666,
              "#ed7953"
             ],
             [
              0.7777777777777778,
              "#fb9f3a"
             ],
             [
              0.8888888888888888,
              "#fdca26"
             ],
             [
              1,
              "#f0f921"
             ]
            ],
            "type": "heatmapgl"
           }
          ],
          "histogram": [
           {
            "marker": {
             "pattern": {
              "fillmode": "overlay",
              "size": 10,
              "solidity": 0.2
             }
            },
            "type": "histogram"
           }
          ],
          "histogram2d": [
           {
            "colorbar": {
             "outlinewidth": 0,
             "ticks": ""
            },
            "colorscale": [
             [
              0,
              "#0d0887"
             ],
             [
              0.1111111111111111,
              "#46039f"
             ],
             [
              0.2222222222222222,
              "#7201a8"
             ],
             [
              0.3333333333333333,
              "#9c179e"
             ],
             [
              0.4444444444444444,
              "#bd3786"
             ],
             [
              0.5555555555555556,
              "#d8576b"
             ],
             [
              0.6666666666666666,
              "#ed7953"
             ],
             [
              0.7777777777777778,
              "#fb9f3a"
             ],
             [
              0.8888888888888888,
              "#fdca26"
             ],
             [
              1,
              "#f0f921"
             ]
            ],
            "type": "histogram2d"
           }
          ],
          "histogram2dcontour": [
           {
            "colorbar": {
             "outlinewidth": 0,
             "ticks": ""
            },
            "colorscale": [
             [
              0,
              "#0d0887"
             ],
             [
              0.1111111111111111,
              "#46039f"
             ],
             [
              0.2222222222222222,
              "#7201a8"
             ],
             [
              0.3333333333333333,
              "#9c179e"
             ],
             [
              0.4444444444444444,
              "#bd3786"
             ],
             [
              0.5555555555555556,
              "#d8576b"
             ],
             [
              0.6666666666666666,
              "#ed7953"
             ],
             [
              0.7777777777777778,
              "#fb9f3a"
             ],
             [
              0.8888888888888888,
              "#fdca26"
             ],
             [
              1,
              "#f0f921"
             ]
            ],
            "type": "histogram2dcontour"
           }
          ],
          "mesh3d": [
           {
            "colorbar": {
             "outlinewidth": 0,
             "ticks": ""
            },
            "type": "mesh3d"
           }
          ],
          "parcoords": [
           {
            "line": {
             "colorbar": {
              "outlinewidth": 0,
              "ticks": ""
             }
            },
            "type": "parcoords"
           }
          ],
          "pie": [
           {
            "automargin": true,
            "type": "pie"
           }
          ],
          "scatter": [
           {
            "fillpattern": {
             "fillmode": "overlay",
             "size": 10,
             "solidity": 0.2
            },
            "type": "scatter"
           }
          ],
          "scatter3d": [
           {
            "line": {
             "colorbar": {
              "outlinewidth": 0,
              "ticks": ""
             }
            },
            "marker": {
             "colorbar": {
              "outlinewidth": 0,
              "ticks": ""
             }
            },
            "type": "scatter3d"
           }
          ],
          "scattercarpet": [
           {
            "marker": {
             "colorbar": {
              "outlinewidth": 0,
              "ticks": ""
             }
            },
            "type": "scattercarpet"
           }
          ],
          "scattergeo": [
           {
            "marker": {
             "colorbar": {
              "outlinewidth": 0,
              "ticks": ""
             }
            },
            "type": "scattergeo"
           }
          ],
          "scattergl": [
           {
            "marker": {
             "colorbar": {
              "outlinewidth": 0,
              "ticks": ""
             }
            },
            "type": "scattergl"
           }
          ],
          "scattermapbox": [
           {
            "marker": {
             "colorbar": {
              "outlinewidth": 0,
              "ticks": ""
             }
            },
            "type": "scattermapbox"
           }
          ],
          "scatterpolar": [
           {
            "marker": {
             "colorbar": {
              "outlinewidth": 0,
              "ticks": ""
             }
            },
            "type": "scatterpolar"
           }
          ],
          "scatterpolargl": [
           {
            "marker": {
             "colorbar": {
              "outlinewidth": 0,
              "ticks": ""
             }
            },
            "type": "scatterpolargl"
           }
          ],
          "scatterternary": [
           {
            "marker": {
             "colorbar": {
              "outlinewidth": 0,
              "ticks": ""
             }
            },
            "type": "scatterternary"
           }
          ],
          "surface": [
           {
            "colorbar": {
             "outlinewidth": 0,
             "ticks": ""
            },
            "colorscale": [
             [
              0,
              "#0d0887"
             ],
             [
              0.1111111111111111,
              "#46039f"
             ],
             [
              0.2222222222222222,
              "#7201a8"
             ],
             [
              0.3333333333333333,
              "#9c179e"
             ],
             [
              0.4444444444444444,
              "#bd3786"
             ],
             [
              0.5555555555555556,
              "#d8576b"
             ],
             [
              0.6666666666666666,
              "#ed7953"
             ],
             [
              0.7777777777777778,
              "#fb9f3a"
             ],
             [
              0.8888888888888888,
              "#fdca26"
             ],
             [
              1,
              "#f0f921"
             ]
            ],
            "type": "surface"
           }
          ],
          "table": [
           {
            "cells": {
             "fill": {
              "color": "#EBF0F8"
             },
             "line": {
              "color": "white"
             }
            },
            "header": {
             "fill": {
              "color": "#C8D4E3"
             },
             "line": {
              "color": "white"
             }
            },
            "type": "table"
           }
          ]
         },
         "layout": {
          "annotationdefaults": {
           "arrowcolor": "#2a3f5f",
           "arrowhead": 0,
           "arrowwidth": 1
          },
          "autotypenumbers": "strict",
          "coloraxis": {
           "colorbar": {
            "outlinewidth": 0,
            "ticks": ""
           }
          },
          "colorscale": {
           "diverging": [
            [
             0,
             "#8e0152"
            ],
            [
             0.1,
             "#c51b7d"
            ],
            [
             0.2,
             "#de77ae"
            ],
            [
             0.3,
             "#f1b6da"
            ],
            [
             0.4,
             "#fde0ef"
            ],
            [
             0.5,
             "#f7f7f7"
            ],
            [
             0.6,
             "#e6f5d0"
            ],
            [
             0.7,
             "#b8e186"
            ],
            [
             0.8,
             "#7fbc41"
            ],
            [
             0.9,
             "#4d9221"
            ],
            [
             1,
             "#276419"
            ]
           ],
           "sequential": [
            [
             0,
             "#0d0887"
            ],
            [
             0.1111111111111111,
             "#46039f"
            ],
            [
             0.2222222222222222,
             "#7201a8"
            ],
            [
             0.3333333333333333,
             "#9c179e"
            ],
            [
             0.4444444444444444,
             "#bd3786"
            ],
            [
             0.5555555555555556,
             "#d8576b"
            ],
            [
             0.6666666666666666,
             "#ed7953"
            ],
            [
             0.7777777777777778,
             "#fb9f3a"
            ],
            [
             0.8888888888888888,
             "#fdca26"
            ],
            [
             1,
             "#f0f921"
            ]
           ],
           "sequentialminus": [
            [
             0,
             "#0d0887"
            ],
            [
             0.1111111111111111,
             "#46039f"
            ],
            [
             0.2222222222222222,
             "#7201a8"
            ],
            [
             0.3333333333333333,
             "#9c179e"
            ],
            [
             0.4444444444444444,
             "#bd3786"
            ],
            [
             0.5555555555555556,
             "#d8576b"
            ],
            [
             0.6666666666666666,
             "#ed7953"
            ],
            [
             0.7777777777777778,
             "#fb9f3a"
            ],
            [
             0.8888888888888888,
             "#fdca26"
            ],
            [
             1,
             "#f0f921"
            ]
           ]
          },
          "colorway": [
           "#636efa",
           "#EF553B",
           "#00cc96",
           "#ab63fa",
           "#FFA15A",
           "#19d3f3",
           "#FF6692",
           "#B6E880",
           "#FF97FF",
           "#FECB52"
          ],
          "font": {
           "color": "#2a3f5f"
          },
          "geo": {
           "bgcolor": "white",
           "lakecolor": "white",
           "landcolor": "#E5ECF6",
           "showlakes": true,
           "showland": true,
           "subunitcolor": "white"
          },
          "hoverlabel": {
           "align": "left"
          },
          "hovermode": "closest",
          "mapbox": {
           "style": "light"
          },
          "paper_bgcolor": "white",
          "plot_bgcolor": "#E5ECF6",
          "polar": {
           "angularaxis": {
            "gridcolor": "white",
            "linecolor": "white",
            "ticks": ""
           },
           "bgcolor": "#E5ECF6",
           "radialaxis": {
            "gridcolor": "white",
            "linecolor": "white",
            "ticks": ""
           }
          },
          "scene": {
           "xaxis": {
            "backgroundcolor": "#E5ECF6",
            "gridcolor": "white",
            "gridwidth": 2,
            "linecolor": "white",
            "showbackground": true,
            "ticks": "",
            "zerolinecolor": "white"
           },
           "yaxis": {
            "backgroundcolor": "#E5ECF6",
            "gridcolor": "white",
            "gridwidth": 2,
            "linecolor": "white",
            "showbackground": true,
            "ticks": "",
            "zerolinecolor": "white"
           },
           "zaxis": {
            "backgroundcolor": "#E5ECF6",
            "gridcolor": "white",
            "gridwidth": 2,
            "linecolor": "white",
            "showbackground": true,
            "ticks": "",
            "zerolinecolor": "white"
           }
          },
          "shapedefaults": {
           "line": {
            "color": "#2a3f5f"
           }
          },
          "ternary": {
           "aaxis": {
            "gridcolor": "white",
            "linecolor": "white",
            "ticks": ""
           },
           "baxis": {
            "gridcolor": "white",
            "linecolor": "white",
            "ticks": ""
           },
           "bgcolor": "#E5ECF6",
           "caxis": {
            "gridcolor": "white",
            "linecolor": "white",
            "ticks": ""
           }
          },
          "title": {
           "x": 0.05
          },
          "xaxis": {
           "automargin": true,
           "gridcolor": "white",
           "linecolor": "white",
           "ticks": "",
           "title": {
            "standoff": 15
           },
           "zerolinecolor": "white",
           "zerolinewidth": 2
          },
          "yaxis": {
           "automargin": true,
           "gridcolor": "white",
           "linecolor": "white",
           "ticks": "",
           "title": {
            "standoff": 15
           },
           "zerolinecolor": "white",
           "zerolinewidth": 2
          }
         }
        },
        "title": {
         "text": "AAPL - Most Authoritative Authors"
        },
        "xaxis": {
         "anchor": "y",
         "domain": [
          0,
          1
         ],
         "title": {
          "text": "Author"
         }
        },
        "yaxis": {
         "anchor": "x",
         "domain": [
          0,
          1
         ],
         "title": {
          "text": "Total Articles"
         }
        }
       }
      }
     },
     "metadata": {},
     "output_type": "display_data"
    }
   ],
   "source": [
    "import plotly.express as px\n",
    "\n",
    "\n",
    "best_author_plot = best_author[\n",
    "    (best_author['accuracy'] >= 0.70)\n",
    "].sort_values('total_articles', ascending=False).head(15)\n",
    "best_author_plot['Correct'] = best_author_plot['total_correct']\n",
    "best_author_plot['Incorrect'] = best_author_plot['total_articles'] - best_author_plot['total_correct']\n",
    "\n",
    "fig = px.bar(\n",
    "    best_author_plot,\n",
    "    x='author', y=['Correct', 'Incorrect'], title='AAPL - Most Authoritative Authors',\n",
    "    labels=dict(value='Total Articles', author='Author'),\n",
    "    height=850\n",
    ")\n",
    "fig.update_layout(\n",
    "    font=dict(\n",
    "        size=15,\n",
    "        color='#000000'\n",
    "    )\n",
    ")\n",
    "\n",
    "fig.write_image('evaluations/AAPL Authoritative Authors.png')"
   ]
  },
  {
   "cell_type": "markdown",
   "metadata": {},
   "source": [
    "### What authors/sources are the best at predicting AAPL direction?"
   ]
  },
  {
   "cell_type": "code",
   "execution_count": 21,
   "metadata": {},
   "outputs": [
    {
     "data": {
      "text/html": [
       "<style>#sk-container-id-4 {color: black;background-color: white;}#sk-container-id-4 pre{padding: 0;}#sk-container-id-4 div.sk-toggleable {background-color: white;}#sk-container-id-4 label.sk-toggleable__label {cursor: pointer;display: block;width: 100%;margin-bottom: 0;padding: 0.3em;box-sizing: border-box;text-align: center;}#sk-container-id-4 label.sk-toggleable__label-arrow:before {content: \"▸\";float: left;margin-right: 0.25em;color: #696969;}#sk-container-id-4 label.sk-toggleable__label-arrow:hover:before {color: black;}#sk-container-id-4 div.sk-estimator:hover label.sk-toggleable__label-arrow:before {color: black;}#sk-container-id-4 div.sk-toggleable__content {max-height: 0;max-width: 0;overflow: hidden;text-align: left;background-color: #f0f8ff;}#sk-container-id-4 div.sk-toggleable__content pre {margin: 0.2em;color: black;border-radius: 0.25em;background-color: #f0f8ff;}#sk-container-id-4 input.sk-toggleable__control:checked~div.sk-toggleable__content {max-height: 200px;max-width: 100%;overflow: auto;}#sk-container-id-4 input.sk-toggleable__control:checked~label.sk-toggleable__label-arrow:before {content: \"▾\";}#sk-container-id-4 div.sk-estimator input.sk-toggleable__control:checked~label.sk-toggleable__label {background-color: #d4ebff;}#sk-container-id-4 div.sk-label input.sk-toggleable__control:checked~label.sk-toggleable__label {background-color: #d4ebff;}#sk-container-id-4 input.sk-hidden--visually {border: 0;clip: rect(1px 1px 1px 1px);clip: rect(1px, 1px, 1px, 1px);height: 1px;margin: -1px;overflow: hidden;padding: 0;position: absolute;width: 1px;}#sk-container-id-4 div.sk-estimator {font-family: monospace;background-color: #f0f8ff;border: 1px dotted black;border-radius: 0.25em;box-sizing: border-box;margin-bottom: 0.5em;}#sk-container-id-4 div.sk-estimator:hover {background-color: #d4ebff;}#sk-container-id-4 div.sk-parallel-item::after {content: \"\";width: 100%;border-bottom: 1px solid gray;flex-grow: 1;}#sk-container-id-4 div.sk-label:hover label.sk-toggleable__label {background-color: #d4ebff;}#sk-container-id-4 div.sk-serial::before {content: \"\";position: absolute;border-left: 1px solid gray;box-sizing: border-box;top: 0;bottom: 0;left: 50%;z-index: 0;}#sk-container-id-4 div.sk-serial {display: flex;flex-direction: column;align-items: center;background-color: white;padding-right: 0.2em;padding-left: 0.2em;position: relative;}#sk-container-id-4 div.sk-item {position: relative;z-index: 1;}#sk-container-id-4 div.sk-parallel {display: flex;align-items: stretch;justify-content: center;background-color: white;position: relative;}#sk-container-id-4 div.sk-item::before, #sk-container-id-4 div.sk-parallel-item::before {content: \"\";position: absolute;border-left: 1px solid gray;box-sizing: border-box;top: 0;bottom: 0;left: 50%;z-index: -1;}#sk-container-id-4 div.sk-parallel-item {display: flex;flex-direction: column;z-index: 1;position: relative;background-color: white;}#sk-container-id-4 div.sk-parallel-item:first-child::after {align-self: flex-end;width: 50%;}#sk-container-id-4 div.sk-parallel-item:last-child::after {align-self: flex-start;width: 50%;}#sk-container-id-4 div.sk-parallel-item:only-child::after {width: 0;}#sk-container-id-4 div.sk-dashed-wrapped {border: 1px dashed gray;margin: 0 0.4em 0.5em 0.4em;box-sizing: border-box;padding-bottom: 0.4em;background-color: white;}#sk-container-id-4 div.sk-label label {font-family: monospace;font-weight: bold;display: inline-block;line-height: 1.2em;}#sk-container-id-4 div.sk-label-container {text-align: center;}#sk-container-id-4 div.sk-container {/* jupyter's `normalize.less` sets `[hidden] { display: none; }` but bootstrap.min.css set `[hidden] { display: none !important; }` so we also need the `!important` here to be able to override the default hidden behavior on the sphinx rendered scikit-learn.org. See: https://github.com/scikit-learn/scikit-learn/issues/21755 */display: inline-block !important;position: relative;}#sk-container-id-4 div.sk-text-repr-fallback {display: none;}</style><div id=\"sk-container-id-4\" class=\"sk-top-container\"><div class=\"sk-text-repr-fallback\"><pre>LogisticRegression(C=100, max_iter=100000000000.0, n_jobs=-1, penalty=&#x27;none&#x27;,\n",
       "                   random_state=0)</pre><b>In a Jupyter environment, please rerun this cell to show the HTML representation or trust the notebook. <br />On GitHub, the HTML representation is unable to render, please try loading this page with nbviewer.org.</b></div><div class=\"sk-container\" hidden><div class=\"sk-item\"><div class=\"sk-estimator sk-toggleable\"><input class=\"sk-toggleable__control sk-hidden--visually\" id=\"sk-estimator-id-4\" type=\"checkbox\" checked><label for=\"sk-estimator-id-4\" class=\"sk-toggleable__label sk-toggleable__label-arrow\">LogisticRegression</label><div class=\"sk-toggleable__content\"><pre>LogisticRegression(C=100, max_iter=100000000000.0, n_jobs=-1, penalty=&#x27;none&#x27;,\n",
       "                   random_state=0)</pre></div></div></div></div></div>"
      ],
      "text/plain": [
       "LogisticRegression(C=100, max_iter=100000000000.0, n_jobs=-1, penalty='none',\n",
       "                   random_state=0)"
      ]
     },
     "execution_count": 21,
     "metadata": {},
     "output_type": "execute_result"
    },
    {
     "data": {
      "text/plain": [
       "0.5009433962264151"
      ]
     },
     "execution_count": 21,
     "metadata": {},
     "output_type": "execute_result"
    },
    {
     "data": {
      "text/html": [
       "<div>\n",
       "<style scoped>\n",
       "    .dataframe tbody tr th:only-of-type {\n",
       "        vertical-align: middle;\n",
       "    }\n",
       "\n",
       "    .dataframe tbody tr th {\n",
       "        vertical-align: top;\n",
       "    }\n",
       "\n",
       "    .dataframe thead th {\n",
       "        text-align: right;\n",
       "    }\n",
       "</style>\n",
       "<table border=\"1\" class=\"dataframe\">\n",
       "  <thead>\n",
       "    <tr style=\"text-align: right;\">\n",
       "      <th></th>\n",
       "      <th>author</th>\n",
       "      <th>url</th>\n",
       "      <th>true_label</th>\n",
       "      <th>pred_label</th>\n",
       "      <th>correct_pred</th>\n",
       "    </tr>\n",
       "  </thead>\n",
       "  <tbody>\n",
       "    <tr>\n",
       "      <th>9539</th>\n",
       "      <td>Heather Kelly</td>\n",
       "      <td>mynbc15.com</td>\n",
       "      <td>1</td>\n",
       "      <td>1</td>\n",
       "      <td>True</td>\n",
       "    </tr>\n",
       "    <tr>\n",
       "      <th>9540</th>\n",
       "      <td>QEF Team</td>\n",
       "      <td>quickandeasyforex.com</td>\n",
       "      <td>1</td>\n",
       "      <td>-1</td>\n",
       "      <td>False</td>\n",
       "    </tr>\n",
       "    <tr>\n",
       "      <th>9541</th>\n",
       "      <td>Benjamin Rains</td>\n",
       "      <td>www.barchart.com</td>\n",
       "      <td>1</td>\n",
       "      <td>1</td>\n",
       "      <td>True</td>\n",
       "    </tr>\n",
       "    <tr>\n",
       "      <th>9542</th>\n",
       "      <td>IBD STAFF</td>\n",
       "      <td>www.investors.com</td>\n",
       "      <td>1</td>\n",
       "      <td>1</td>\n",
       "      <td>True</td>\n",
       "    </tr>\n",
       "    <tr>\n",
       "      <th>9543</th>\n",
       "      <td>MT Newswires</td>\n",
       "      <td>www.nasdaq.com</td>\n",
       "      <td>1</td>\n",
       "      <td>1</td>\n",
       "      <td>True</td>\n",
       "    </tr>\n",
       "    <tr>\n",
       "      <th>...</th>\n",
       "      <td>...</td>\n",
       "      <td>...</td>\n",
       "      <td>...</td>\n",
       "      <td>...</td>\n",
       "      <td>...</td>\n",
       "    </tr>\n",
       "    <tr>\n",
       "      <th>19074</th>\n",
       "      <td>zacks.com</td>\n",
       "      <td>www.zacks.com</td>\n",
       "      <td>-1</td>\n",
       "      <td>1</td>\n",
       "      <td>False</td>\n",
       "    </tr>\n",
       "    <tr>\n",
       "      <th>19075</th>\n",
       "      <td>Daniel Jones</td>\n",
       "      <td>seekingalpha.com</td>\n",
       "      <td>-1</td>\n",
       "      <td>1</td>\n",
       "      <td>False</td>\n",
       "    </tr>\n",
       "    <tr>\n",
       "      <th>19076</th>\n",
       "      <td>morningstar.com</td>\n",
       "      <td>news.morningstar.com</td>\n",
       "      <td>-1</td>\n",
       "      <td>-1</td>\n",
       "      <td>True</td>\n",
       "    </tr>\n",
       "    <tr>\n",
       "      <th>19077</th>\n",
       "      <td>Thomas H. Kee Jr.</td>\n",
       "      <td>www.marketwatch.com</td>\n",
       "      <td>-1</td>\n",
       "      <td>-1</td>\n",
       "      <td>True</td>\n",
       "    </tr>\n",
       "    <tr>\n",
       "      <th>19078</th>\n",
       "      <td>morningstar.com</td>\n",
       "      <td>news.morningstar.com</td>\n",
       "      <td>-1</td>\n",
       "      <td>-1</td>\n",
       "      <td>True</td>\n",
       "    </tr>\n",
       "  </tbody>\n",
       "</table>\n",
       "<p>9540 rows × 5 columns</p>\n",
       "</div>"
      ],
      "text/plain": [
       "                  author                    url  true_label  pred_label  \\\n",
       "9539       Heather Kelly            mynbc15.com           1           1   \n",
       "9540            QEF Team  quickandeasyforex.com           1          -1   \n",
       "9541      Benjamin Rains       www.barchart.com           1           1   \n",
       "9542           IBD STAFF      www.investors.com           1           1   \n",
       "9543        MT Newswires         www.nasdaq.com           1           1   \n",
       "...                  ...                    ...         ...         ...   \n",
       "19074          zacks.com          www.zacks.com          -1           1   \n",
       "19075       Daniel Jones       seekingalpha.com          -1           1   \n",
       "19076    morningstar.com   news.morningstar.com          -1          -1   \n",
       "19077  Thomas H. Kee Jr.    www.marketwatch.com          -1          -1   \n",
       "19078    morningstar.com   news.morningstar.com          -1          -1   \n",
       "\n",
       "       correct_pred  \n",
       "9539           True  \n",
       "9540          False  \n",
       "9541           True  \n",
       "9542           True  \n",
       "9543           True  \n",
       "...             ...  \n",
       "19074         False  \n",
       "19075         False  \n",
       "19076          True  \n",
       "19077          True  \n",
       "19078          True  \n",
       "\n",
       "[9540 rows x 5 columns]"
      ]
     },
     "execution_count": 21,
     "metadata": {},
     "output_type": "execute_result"
    }
   ],
   "source": [
    "X_train, X_test, y_train, y_test = train_test_split(amzn[['entity_pos_sent', 'entity_neg_sent', 'entity_net_sent', 'author', 'url']], amzn['direction'], test_size=0.5, random_state=None, shuffle=False)\n",
    "clf = LogisticRegression(random_state=0, max_iter=10e10, n_jobs=-1, **amzn_tuned_logreg['best_params'])\n",
    "\n",
    "author = X_test['author']\n",
    "url = X_test['url'].apply(lambda x: urlparse(x).netloc)\n",
    "X_train = X_train.drop(['author', 'url'], axis=1)\n",
    "clf.fit(X_train, y_train)\n",
    "pred = clf.predict(X_test.drop(['author', 'url'], axis=1))\n",
    "\n",
    "res = pd.DataFrame({\n",
    "    'author': author,\n",
    "    'url': url,\n",
    "    'true_label': y_test,\n",
    "    'pred_label': pred\n",
    "})\n",
    "res['correct_pred'] = res['true_label'] == res['pred_label']\n",
    "\n",
    "accuracy_score(pred, y_test)\n",
    "res"
   ]
  },
  {
   "cell_type": "code",
   "execution_count": 22,
   "metadata": {},
   "outputs": [
    {
     "data": {
      "application/vnd.plotly.v1+json": {
       "config": {
        "plotlyServerURL": "https://plot.ly"
       },
       "data": [
        {
         "alignmentgroup": "True",
         "hovertemplate": "variable=Correct<br>Author=%{x}<br>Total Articles=%{y}<extra></extra>",
         "legendgroup": "Correct",
         "marker": {
          "color": "#636efa",
          "pattern": {
           "shape": ""
          }
         },
         "name": "Correct",
         "offsetgroup": "Correct",
         "orientation": "v",
         "showlegend": true,
         "textposition": "auto",
         "type": "bar",
         "x": [
          "Jacob Passy",
          "Bloomberg News",
          "William Watts",
          "Bloomberg",
          "Therese Poletti",
          "Daniel Sparks",
          "Ash",
          "MT Newswires",
          "Paul Ebeling",
          "newsfeedback@fool.com (Evan Niu, CFA)",
          "Kevin Cook",
          "DoctoRx",
          "Maria Brooks",
          "newsr.in",
          "The Fortune Teller"
         ],
         "xaxis": "x",
         "y": [
          18,
          15,
          13,
          12,
          12,
          11,
          12,
          10,
          8,
          8,
          7,
          7,
          8,
          7,
          7
         ],
         "yaxis": "y"
        },
        {
         "alignmentgroup": "True",
         "hovertemplate": "variable=Incorrect<br>Author=%{x}<br>Total Articles=%{y}<extra></extra>",
         "legendgroup": "Incorrect",
         "marker": {
          "color": "#EF553B",
          "pattern": {
           "shape": ""
          }
         },
         "name": "Incorrect",
         "offsetgroup": "Incorrect",
         "orientation": "v",
         "showlegend": true,
         "textposition": "auto",
         "type": "bar",
         "x": [
          "Jacob Passy",
          "Bloomberg News",
          "William Watts",
          "Bloomberg",
          "Therese Poletti",
          "Daniel Sparks",
          "Ash",
          "MT Newswires",
          "Paul Ebeling",
          "newsfeedback@fool.com (Evan Niu, CFA)",
          "Kevin Cook",
          "DoctoRx",
          "Maria Brooks",
          "newsr.in",
          "The Fortune Teller"
         ],
         "xaxis": "x",
         "y": [
          5,
          6,
          5,
          5,
          5,
          4,
          2,
          4,
          3,
          2,
          3,
          3,
          2,
          3,
          2
         ],
         "yaxis": "y"
        }
       ],
       "layout": {
        "barmode": "relative",
        "font": {
         "color": "#000000",
         "size": 15
        },
        "height": 850,
        "legend": {
         "title": {
          "text": "variable"
         },
         "tracegroupgap": 0
        },
        "template": {
         "data": {
          "bar": [
           {
            "error_x": {
             "color": "#2a3f5f"
            },
            "error_y": {
             "color": "#2a3f5f"
            },
            "marker": {
             "line": {
              "color": "#E5ECF6",
              "width": 0.5
             },
             "pattern": {
              "fillmode": "overlay",
              "size": 10,
              "solidity": 0.2
             }
            },
            "type": "bar"
           }
          ],
          "barpolar": [
           {
            "marker": {
             "line": {
              "color": "#E5ECF6",
              "width": 0.5
             },
             "pattern": {
              "fillmode": "overlay",
              "size": 10,
              "solidity": 0.2
             }
            },
            "type": "barpolar"
           }
          ],
          "carpet": [
           {
            "aaxis": {
             "endlinecolor": "#2a3f5f",
             "gridcolor": "white",
             "linecolor": "white",
             "minorgridcolor": "white",
             "startlinecolor": "#2a3f5f"
            },
            "baxis": {
             "endlinecolor": "#2a3f5f",
             "gridcolor": "white",
             "linecolor": "white",
             "minorgridcolor": "white",
             "startlinecolor": "#2a3f5f"
            },
            "type": "carpet"
           }
          ],
          "choropleth": [
           {
            "colorbar": {
             "outlinewidth": 0,
             "ticks": ""
            },
            "type": "choropleth"
           }
          ],
          "contour": [
           {
            "colorbar": {
             "outlinewidth": 0,
             "ticks": ""
            },
            "colorscale": [
             [
              0,
              "#0d0887"
             ],
             [
              0.1111111111111111,
              "#46039f"
             ],
             [
              0.2222222222222222,
              "#7201a8"
             ],
             [
              0.3333333333333333,
              "#9c179e"
             ],
             [
              0.4444444444444444,
              "#bd3786"
             ],
             [
              0.5555555555555556,
              "#d8576b"
             ],
             [
              0.6666666666666666,
              "#ed7953"
             ],
             [
              0.7777777777777778,
              "#fb9f3a"
             ],
             [
              0.8888888888888888,
              "#fdca26"
             ],
             [
              1,
              "#f0f921"
             ]
            ],
            "type": "contour"
           }
          ],
          "contourcarpet": [
           {
            "colorbar": {
             "outlinewidth": 0,
             "ticks": ""
            },
            "type": "contourcarpet"
           }
          ],
          "heatmap": [
           {
            "colorbar": {
             "outlinewidth": 0,
             "ticks": ""
            },
            "colorscale": [
             [
              0,
              "#0d0887"
             ],
             [
              0.1111111111111111,
              "#46039f"
             ],
             [
              0.2222222222222222,
              "#7201a8"
             ],
             [
              0.3333333333333333,
              "#9c179e"
             ],
             [
              0.4444444444444444,
              "#bd3786"
             ],
             [
              0.5555555555555556,
              "#d8576b"
             ],
             [
              0.6666666666666666,
              "#ed7953"
             ],
             [
              0.7777777777777778,
              "#fb9f3a"
             ],
             [
              0.8888888888888888,
              "#fdca26"
             ],
             [
              1,
              "#f0f921"
             ]
            ],
            "type": "heatmap"
           }
          ],
          "heatmapgl": [
           {
            "colorbar": {
             "outlinewidth": 0,
             "ticks": ""
            },
            "colorscale": [
             [
              0,
              "#0d0887"
             ],
             [
              0.1111111111111111,
              "#46039f"
             ],
             [
              0.2222222222222222,
              "#7201a8"
             ],
             [
              0.3333333333333333,
              "#9c179e"
             ],
             [
              0.4444444444444444,
              "#bd3786"
             ],
             [
              0.5555555555555556,
              "#d8576b"
             ],
             [
              0.6666666666666666,
              "#ed7953"
             ],
             [
              0.7777777777777778,
              "#fb9f3a"
             ],
             [
              0.8888888888888888,
              "#fdca26"
             ],
             [
              1,
              "#f0f921"
             ]
            ],
            "type": "heatmapgl"
           }
          ],
          "histogram": [
           {
            "marker": {
             "pattern": {
              "fillmode": "overlay",
              "size": 10,
              "solidity": 0.2
             }
            },
            "type": "histogram"
           }
          ],
          "histogram2d": [
           {
            "colorbar": {
             "outlinewidth": 0,
             "ticks": ""
            },
            "colorscale": [
             [
              0,
              "#0d0887"
             ],
             [
              0.1111111111111111,
              "#46039f"
             ],
             [
              0.2222222222222222,
              "#7201a8"
             ],
             [
              0.3333333333333333,
              "#9c179e"
             ],
             [
              0.4444444444444444,
              "#bd3786"
             ],
             [
              0.5555555555555556,
              "#d8576b"
             ],
             [
              0.6666666666666666,
              "#ed7953"
             ],
             [
              0.7777777777777778,
              "#fb9f3a"
             ],
             [
              0.8888888888888888,
              "#fdca26"
             ],
             [
              1,
              "#f0f921"
             ]
            ],
            "type": "histogram2d"
           }
          ],
          "histogram2dcontour": [
           {
            "colorbar": {
             "outlinewidth": 0,
             "ticks": ""
            },
            "colorscale": [
             [
              0,
              "#0d0887"
             ],
             [
              0.1111111111111111,
              "#46039f"
             ],
             [
              0.2222222222222222,
              "#7201a8"
             ],
             [
              0.3333333333333333,
              "#9c179e"
             ],
             [
              0.4444444444444444,
              "#bd3786"
             ],
             [
              0.5555555555555556,
              "#d8576b"
             ],
             [
              0.6666666666666666,
              "#ed7953"
             ],
             [
              0.7777777777777778,
              "#fb9f3a"
             ],
             [
              0.8888888888888888,
              "#fdca26"
             ],
             [
              1,
              "#f0f921"
             ]
            ],
            "type": "histogram2dcontour"
           }
          ],
          "mesh3d": [
           {
            "colorbar": {
             "outlinewidth": 0,
             "ticks": ""
            },
            "type": "mesh3d"
           }
          ],
          "parcoords": [
           {
            "line": {
             "colorbar": {
              "outlinewidth": 0,
              "ticks": ""
             }
            },
            "type": "parcoords"
           }
          ],
          "pie": [
           {
            "automargin": true,
            "type": "pie"
           }
          ],
          "scatter": [
           {
            "fillpattern": {
             "fillmode": "overlay",
             "size": 10,
             "solidity": 0.2
            },
            "type": "scatter"
           }
          ],
          "scatter3d": [
           {
            "line": {
             "colorbar": {
              "outlinewidth": 0,
              "ticks": ""
             }
            },
            "marker": {
             "colorbar": {
              "outlinewidth": 0,
              "ticks": ""
             }
            },
            "type": "scatter3d"
           }
          ],
          "scattercarpet": [
           {
            "marker": {
             "colorbar": {
              "outlinewidth": 0,
              "ticks": ""
             }
            },
            "type": "scattercarpet"
           }
          ],
          "scattergeo": [
           {
            "marker": {
             "colorbar": {
              "outlinewidth": 0,
              "ticks": ""
             }
            },
            "type": "scattergeo"
           }
          ],
          "scattergl": [
           {
            "marker": {
             "colorbar": {
              "outlinewidth": 0,
              "ticks": ""
             }
            },
            "type": "scattergl"
           }
          ],
          "scattermapbox": [
           {
            "marker": {
             "colorbar": {
              "outlinewidth": 0,
              "ticks": ""
             }
            },
            "type": "scattermapbox"
           }
          ],
          "scatterpolar": [
           {
            "marker": {
             "colorbar": {
              "outlinewidth": 0,
              "ticks": ""
             }
            },
            "type": "scatterpolar"
           }
          ],
          "scatterpolargl": [
           {
            "marker": {
             "colorbar": {
              "outlinewidth": 0,
              "ticks": ""
             }
            },
            "type": "scatterpolargl"
           }
          ],
          "scatterternary": [
           {
            "marker": {
             "colorbar": {
              "outlinewidth": 0,
              "ticks": ""
             }
            },
            "type": "scatterternary"
           }
          ],
          "surface": [
           {
            "colorbar": {
             "outlinewidth": 0,
             "ticks": ""
            },
            "colorscale": [
             [
              0,
              "#0d0887"
             ],
             [
              0.1111111111111111,
              "#46039f"
             ],
             [
              0.2222222222222222,
              "#7201a8"
             ],
             [
              0.3333333333333333,
              "#9c179e"
             ],
             [
              0.4444444444444444,
              "#bd3786"
             ],
             [
              0.5555555555555556,
              "#d8576b"
             ],
             [
              0.6666666666666666,
              "#ed7953"
             ],
             [
              0.7777777777777778,
              "#fb9f3a"
             ],
             [
              0.8888888888888888,
              "#fdca26"
             ],
             [
              1,
              "#f0f921"
             ]
            ],
            "type": "surface"
           }
          ],
          "table": [
           {
            "cells": {
             "fill": {
              "color": "#EBF0F8"
             },
             "line": {
              "color": "white"
             }
            },
            "header": {
             "fill": {
              "color": "#C8D4E3"
             },
             "line": {
              "color": "white"
             }
            },
            "type": "table"
           }
          ]
         },
         "layout": {
          "annotationdefaults": {
           "arrowcolor": "#2a3f5f",
           "arrowhead": 0,
           "arrowwidth": 1
          },
          "autotypenumbers": "strict",
          "coloraxis": {
           "colorbar": {
            "outlinewidth": 0,
            "ticks": ""
           }
          },
          "colorscale": {
           "diverging": [
            [
             0,
             "#8e0152"
            ],
            [
             0.1,
             "#c51b7d"
            ],
            [
             0.2,
             "#de77ae"
            ],
            [
             0.3,
             "#f1b6da"
            ],
            [
             0.4,
             "#fde0ef"
            ],
            [
             0.5,
             "#f7f7f7"
            ],
            [
             0.6,
             "#e6f5d0"
            ],
            [
             0.7,
             "#b8e186"
            ],
            [
             0.8,
             "#7fbc41"
            ],
            [
             0.9,
             "#4d9221"
            ],
            [
             1,
             "#276419"
            ]
           ],
           "sequential": [
            [
             0,
             "#0d0887"
            ],
            [
             0.1111111111111111,
             "#46039f"
            ],
            [
             0.2222222222222222,
             "#7201a8"
            ],
            [
             0.3333333333333333,
             "#9c179e"
            ],
            [
             0.4444444444444444,
             "#bd3786"
            ],
            [
             0.5555555555555556,
             "#d8576b"
            ],
            [
             0.6666666666666666,
             "#ed7953"
            ],
            [
             0.7777777777777778,
             "#fb9f3a"
            ],
            [
             0.8888888888888888,
             "#fdca26"
            ],
            [
             1,
             "#f0f921"
            ]
           ],
           "sequentialminus": [
            [
             0,
             "#0d0887"
            ],
            [
             0.1111111111111111,
             "#46039f"
            ],
            [
             0.2222222222222222,
             "#7201a8"
            ],
            [
             0.3333333333333333,
             "#9c179e"
            ],
            [
             0.4444444444444444,
             "#bd3786"
            ],
            [
             0.5555555555555556,
             "#d8576b"
            ],
            [
             0.6666666666666666,
             "#ed7953"
            ],
            [
             0.7777777777777778,
             "#fb9f3a"
            ],
            [
             0.8888888888888888,
             "#fdca26"
            ],
            [
             1,
             "#f0f921"
            ]
           ]
          },
          "colorway": [
           "#636efa",
           "#EF553B",
           "#00cc96",
           "#ab63fa",
           "#FFA15A",
           "#19d3f3",
           "#FF6692",
           "#B6E880",
           "#FF97FF",
           "#FECB52"
          ],
          "font": {
           "color": "#2a3f5f"
          },
          "geo": {
           "bgcolor": "white",
           "lakecolor": "white",
           "landcolor": "#E5ECF6",
           "showlakes": true,
           "showland": true,
           "subunitcolor": "white"
          },
          "hoverlabel": {
           "align": "left"
          },
          "hovermode": "closest",
          "mapbox": {
           "style": "light"
          },
          "paper_bgcolor": "white",
          "plot_bgcolor": "#E5ECF6",
          "polar": {
           "angularaxis": {
            "gridcolor": "white",
            "linecolor": "white",
            "ticks": ""
           },
           "bgcolor": "#E5ECF6",
           "radialaxis": {
            "gridcolor": "white",
            "linecolor": "white",
            "ticks": ""
           }
          },
          "scene": {
           "xaxis": {
            "backgroundcolor": "#E5ECF6",
            "gridcolor": "white",
            "gridwidth": 2,
            "linecolor": "white",
            "showbackground": true,
            "ticks": "",
            "zerolinecolor": "white"
           },
           "yaxis": {
            "backgroundcolor": "#E5ECF6",
            "gridcolor": "white",
            "gridwidth": 2,
            "linecolor": "white",
            "showbackground": true,
            "ticks": "",
            "zerolinecolor": "white"
           },
           "zaxis": {
            "backgroundcolor": "#E5ECF6",
            "gridcolor": "white",
            "gridwidth": 2,
            "linecolor": "white",
            "showbackground": true,
            "ticks": "",
            "zerolinecolor": "white"
           }
          },
          "shapedefaults": {
           "line": {
            "color": "#2a3f5f"
           }
          },
          "ternary": {
           "aaxis": {
            "gridcolor": "white",
            "linecolor": "white",
            "ticks": ""
           },
           "baxis": {
            "gridcolor": "white",
            "linecolor": "white",
            "ticks": ""
           },
           "bgcolor": "#E5ECF6",
           "caxis": {
            "gridcolor": "white",
            "linecolor": "white",
            "ticks": ""
           }
          },
          "title": {
           "x": 0.05
          },
          "xaxis": {
           "automargin": true,
           "gridcolor": "white",
           "linecolor": "white",
           "ticks": "",
           "title": {
            "standoff": 15
           },
           "zerolinecolor": "white",
           "zerolinewidth": 2
          },
          "yaxis": {
           "automargin": true,
           "gridcolor": "white",
           "linecolor": "white",
           "ticks": "",
           "title": {
            "standoff": 15
           },
           "zerolinecolor": "white",
           "zerolinewidth": 2
          }
         }
        },
        "title": {
         "text": "AMZN - Most Authoritative Authors"
        },
        "xaxis": {
         "anchor": "y",
         "domain": [
          0,
          1
         ],
         "title": {
          "text": "Author"
         }
        },
        "yaxis": {
         "anchor": "x",
         "domain": [
          0,
          1
         ],
         "title": {
          "text": "Total Articles"
         }
        }
       }
      }
     },
     "metadata": {},
     "output_type": "display_data"
    }
   ],
   "source": [
    "best_author = (res.groupby('author')\n",
    "    .apply(source_stats)\n",
    "    .reset_index()\n",
    "    # .sort_values('f1', ascending=False)\n",
    "    # .sort_values(['proportion_correct', 'total_articles'], ascending=False)\n",
    "    # .sort_values(['total_articles', 'total_correct'], ascending=False)\n",
    ")\n",
    "\n",
    "best_url = (res.groupby('url')\n",
    "    .apply(source_stats)\n",
    "    .reset_index()\n",
    ")\n",
    "\n",
    "# Plot best authors\n",
    "best_author_plot = best_author[\n",
    "    (best_author['accuracy'] >= 0.70)\n",
    "].sort_values('total_articles', ascending=False).head(15)\n",
    "best_author_plot['Correct'] = best_author_plot['total_correct']\n",
    "best_author_plot['Incorrect'] = best_author_plot['total_articles'] - best_author_plot['total_correct']\n",
    "\n",
    "fig = px.bar(\n",
    "    best_author_plot,\n",
    "    x='author', y=['Correct', 'Incorrect'], title='AMZN - Most Authoritative Authors',\n",
    "    labels=dict(value='Total Articles', author='Author'),\n",
    "    height=850\n",
    ")\n",
    "fig.update_layout(\n",
    "    font=dict(\n",
    "        size=15,\n",
    "        color='#000000'\n",
    "    )\n",
    ")\n",
    "\n",
    "fig.write_image('evaluations/AMZN Authoritative Authors.png')"
   ]
  },
  {
   "cell_type": "code",
   "execution_count": null,
   "metadata": {},
   "outputs": [],
   "source": []
  },
  {
   "cell_type": "code",
   "execution_count": null,
   "metadata": {},
   "outputs": [],
   "source": []
  },
  {
   "cell_type": "code",
   "execution_count": null,
   "metadata": {},
   "outputs": [],
   "source": []
  },
  {
   "cell_type": "code",
   "execution_count": null,
   "metadata": {},
   "outputs": [],
   "source": []
  }
 ],
 "metadata": {
  "kernelspec": {
   "display_name": "Python 3.10.3 64-bit ('3.10.3')",
   "language": "python",
   "name": "python3"
  },
  "language_info": {
   "codemirror_mode": {
    "name": "ipython",
    "version": 3
   },
   "file_extension": ".py",
   "mimetype": "text/x-python",
   "name": "python",
   "nbconvert_exporter": "python",
   "pygments_lexer": "ipython3",
   "version": "3.10.3"
  },
  "orig_nbformat": 4,
  "vscode": {
   "interpreter": {
    "hash": "1e63a04e56f32d87b8c894c3ab66cb38310fd68c9d59dec2a9fa7fc3194d1496"
   }
  }
 },
 "nbformat": 4,
 "nbformat_minor": 2
}
